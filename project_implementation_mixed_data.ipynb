{
 "cells": [
  {
   "cell_type": "markdown",
   "metadata": {
    "colab_type": "text",
    "id": "view-in-github"
   },
   "source": [
    "<a href=\"https://colab.research.google.com/github/machiwao/CCMACLRL_PROJECT_COM222/blob/main/project_implementation.ipynb\" target=\"_parent\"><img src=\"https://colab.research.google.com/assets/colab-badge.svg\" alt=\"Open In Colab\"/></a>"
   ]
  },
  {
   "cell_type": "markdown",
   "metadata": {
    "id": "K0YQGLr60cTR"
   },
   "source": [
    "# Sentiment Analysis of Shopee Computer Product Reviews"
   ]
  },
  {
   "cell_type": "code",
   "execution_count": 1,
   "metadata": {
    "colab": {
     "base_uri": "https://localhost:8080/"
    },
    "id": "_hiKZECP09Hi",
    "outputId": "5844f36b-9e75-4f7a-de1d-deed1a61841a"
   },
   "outputs": [
    {
     "name": "stderr",
     "output_type": "stream",
     "text": [
      "[nltk_data] Downloading package punkt to\n",
      "[nltk_data]     C:\\Users\\Blix\\AppData\\Roaming\\nltk_data...\n",
      "[nltk_data]   Package punkt is already up-to-date!\n",
      "[nltk_data] Downloading package wordnet to\n",
      "[nltk_data]     C:\\Users\\Blix\\AppData\\Roaming\\nltk_data...\n",
      "[nltk_data]   Package wordnet is already up-to-date!\n",
      "[nltk_data] Downloading package stopwords to\n",
      "[nltk_data]     C:\\Users\\Blix\\AppData\\Roaming\\nltk_data...\n",
      "[nltk_data]   Package stopwords is already up-to-date!\n"
     ]
    },
    {
     "data": {
      "text/plain": [
       "True"
      ]
     },
     "execution_count": 1,
     "metadata": {},
     "output_type": "execute_result"
    }
   ],
   "source": [
    "import numpy as np\n",
    "import matplotlib.pyplot as plt\n",
    "import pandas as pd\n",
    "import nltk\n",
    "import seaborn as sns\n",
    "import re\n",
    "import os, types\n",
    "\n",
    "from sklearn.feature_extraction.text import CountVectorizer, TfidfVectorizer\n",
    "from sklearn.metrics import roc_auc_score, roc_curve, confusion_matrix, precision_score, recall_score, accuracy_score, balanced_accuracy_score, ConfusionMatrixDisplay, classification_report\n",
    "from sklearn.model_selection import train_test_split, GridSearchCV, cross_val_score\n",
    "from sklearn.naive_bayes import MultinomialNB\n",
    "from sklearn.linear_model import LogisticRegression\n",
    "from sklearn.svm import SVC\n",
    "from sklearn.ensemble import RandomForestClassifier\n",
    "\n",
    "from nltk import FreqDist\n",
    "from nltk.stem import WordNetLemmatizer\n",
    "from nltk.stem import PorterStemmer\n",
    "from nltk.tokenize import word_tokenize\n",
    "from nltk.corpus import stopwords\n",
    "\n",
    "nltk.download(\"punkt\")\n",
    "nltk.download('wordnet')\n",
    "nltk.download('stopwords')"
   ]
  },
  {
   "cell_type": "markdown",
   "metadata": {
    "id": "GQUWYfaW1Bag"
   },
   "source": [
    "## Data Loading"
   ]
  },
  {
   "cell_type": "code",
   "execution_count": 2,
   "metadata": {
    "id": "3OTFBucg0S-p"
   },
   "outputs": [],
   "source": [
    "df = pd.read_csv(\"hf://datasets/magixxixx/shopee-product-reviews-on-computer-category/combined-dataset-shuffled-cased-40K.csv\")\n",
    "df_test_1 = pd.read_csv(\"hf://datasets/ccosme/SentiTaglishProductsAndServices/SentiTaglish_ProductsAndServices.csv\")\n",
    "\n",
    "splits = {'train': 'FiReCS_train_set.csv', 'test': 'FiReCS_test_set.csv'}\n",
    "df_test_2 = pd.read_csv(\"hf://datasets/ccosme/FiReCS/\" + splits[\"train\"])"
   ]
  },
  {
   "cell_type": "markdown",
   "metadata": {
    "id": "Gd2-Ry3Yr1oq"
   },
   "source": [
    "### Training Data"
   ]
  },
  {
   "cell_type": "code",
   "execution_count": 3,
   "metadata": {
    "colab": {
     "base_uri": "https://localhost:8080/",
     "height": 206
    },
    "id": "TCDSrja51D2N",
    "outputId": "f32ba6f7-6e4c-4217-90f0-413305ff6793"
   },
   "outputs": [
    {
     "data": {
      "text/html": [
       "<div>\n",
       "<style scoped>\n",
       "    .dataframe tbody tr th:only-of-type {\n",
       "        vertical-align: middle;\n",
       "    }\n",
       "\n",
       "    .dataframe tbody tr th {\n",
       "        vertical-align: top;\n",
       "    }\n",
       "\n",
       "    .dataframe thead th {\n",
       "        text-align: right;\n",
       "    }\n",
       "</style>\n",
       "<table border=\"1\" class=\"dataframe\">\n",
       "  <thead>\n",
       "    <tr style=\"text-align: right;\">\n",
       "      <th></th>\n",
       "      <th>text</th>\n",
       "      <th>sentiment</th>\n",
       "    </tr>\n",
       "  </thead>\n",
       "  <tbody>\n",
       "    <tr>\n",
       "      <th>0</th>\n",
       "      <td>mali yung dineliver 2l order ko naging 1l bulok!</td>\n",
       "      <td>0</td>\n",
       "    </tr>\n",
       "    <tr>\n",
       "      <th>1</th>\n",
       "      <td>xl order ko dumating large.nkalagay sa sticker...</td>\n",
       "      <td>0</td>\n",
       "    </tr>\n",
       "    <tr>\n",
       "      <th>2</th>\n",
       "      <td>sobrang bilis ma lowbat, hindi masyado nakaka ...</td>\n",
       "      <td>0</td>\n",
       "    </tr>\n",
       "    <tr>\n",
       "      <th>3</th>\n",
       "      <td>first time ko umorder dito. di naman gumagana ...</td>\n",
       "      <td>0</td>\n",
       "    </tr>\n",
       "    <tr>\n",
       "      <th>4</th>\n",
       "      <td>not well packed, wala itong box. hindi sya ma ...</td>\n",
       "      <td>0</td>\n",
       "    </tr>\n",
       "  </tbody>\n",
       "</table>\n",
       "</div>"
      ],
      "text/plain": [
       "                                                text  sentiment\n",
       "0   mali yung dineliver 2l order ko naging 1l bulok!          0\n",
       "1  xl order ko dumating large.nkalagay sa sticker...          0\n",
       "2  sobrang bilis ma lowbat, hindi masyado nakaka ...          0\n",
       "3  first time ko umorder dito. di naman gumagana ...          0\n",
       "4  not well packed, wala itong box. hindi sya ma ...          0"
      ]
     },
     "execution_count": 3,
     "metadata": {},
     "output_type": "execute_result"
    }
   ],
   "source": [
    "df.head()"
   ]
  },
  {
   "cell_type": "code",
   "execution_count": 4,
   "metadata": {
    "colab": {
     "base_uri": "https://localhost:8080/"
    },
    "id": "nCUo6PnJ1Mo8",
    "outputId": "23efe063-4b40-46ca-e045-b78c4cbaa7b9"
   },
   "outputs": [
    {
     "name": "stdout",
     "output_type": "stream",
     "text": [
      "<class 'pandas.core.frame.DataFrame'>\n",
      "RangeIndex: 40000 entries, 0 to 39999\n",
      "Data columns (total 2 columns):\n",
      " #   Column     Non-Null Count  Dtype \n",
      "---  ------     --------------  ----- \n",
      " 0   text       40000 non-null  object\n",
      " 1   sentiment  40000 non-null  int64 \n",
      "dtypes: int64(1), object(1)\n",
      "memory usage: 625.1+ KB\n"
     ]
    }
   ],
   "source": [
    "df.info()"
   ]
  },
  {
   "cell_type": "code",
   "execution_count": 5,
   "metadata": {
    "colab": {
     "base_uri": "https://localhost:8080/",
     "height": 147
    },
    "id": "KRGImzew1fiZ",
    "outputId": "8f354721-3739-439c-8353-82261f3f2593"
   },
   "outputs": [
    {
     "data": {
      "text/plain": [
       "text         0\n",
       "sentiment    0\n",
       "dtype: int64"
      ]
     },
     "execution_count": 5,
     "metadata": {},
     "output_type": "execute_result"
    }
   ],
   "source": [
    "df.isnull().sum()"
   ]
  },
  {
   "cell_type": "code",
   "execution_count": 6,
   "metadata": {
    "colab": {
     "base_uri": "https://localhost:8080/"
    },
    "id": "BTqBKyVD1gXA",
    "outputId": "5f855ab4-0301-4bb7-effe-07085f3ec6f7"
   },
   "outputs": [
    {
     "data": {
      "text/plain": [
       "1"
      ]
     },
     "execution_count": 6,
     "metadata": {},
     "output_type": "execute_result"
    }
   ],
   "source": [
    "df.duplicated().sum()"
   ]
  },
  {
   "cell_type": "code",
   "execution_count": 7,
   "metadata": {
    "colab": {
     "base_uri": "https://localhost:8080/",
     "height": 178
    },
    "id": "vw0n03wB1kMF",
    "outputId": "e79a5464-609d-44bd-b444-628c63e3e005"
   },
   "outputs": [
    {
     "data": {
      "text/plain": [
       "sentiment\n",
       "0    20000\n",
       "1    20000\n",
       "Name: count, dtype: int64"
      ]
     },
     "execution_count": 7,
     "metadata": {},
     "output_type": "execute_result"
    }
   ],
   "source": [
    "df['sentiment'].value_counts()"
   ]
  },
  {
   "cell_type": "markdown",
   "metadata": {
    "id": "-pqtNSq9r53q"
   },
   "source": [
    "### Testing Data"
   ]
  },
  {
   "cell_type": "code",
   "execution_count": 8,
   "metadata": {
    "colab": {
     "base_uri": "https://localhost:8080/"
    },
    "id": "V-MuRF8Zs_Hz",
    "outputId": "d6a83df0-1719-4eab-f704-146e5de56459"
   },
   "outputs": [],
   "source": [
    "# Leave only sentiments with 1 (Negative) and 3(Positive) for df_test_1\n",
    "# Map 1 to 0 and 3 to 1 to be consistent with training dataset\n",
    "df_test_1 = df_test_1[df_test_1['sentiment'].isin([1, 3])]\n",
    "df_test_1['sentiment'] = df_test_1['sentiment'].map({1: 0, 3: 1})"
   ]
  },
  {
   "cell_type": "code",
   "execution_count": 9,
   "metadata": {
    "colab": {
     "base_uri": "https://localhost:8080/"
    },
    "id": "SSbE0xE9r7mY",
    "outputId": "8cb65a36-1687-42b5-acc1-f5fb8f85a4fc"
   },
   "outputs": [
    {
     "name": "stdout",
     "output_type": "stream",
     "text": [
      "<class 'pandas.core.frame.DataFrame'>\n",
      "Index: 6851 entries, 0 to 10509\n",
      "Data columns (total 2 columns):\n",
      " #   Column     Non-Null Count  Dtype \n",
      "---  ------     --------------  ----- \n",
      " 0   review     6851 non-null   object\n",
      " 1   sentiment  6851 non-null   int64 \n",
      "dtypes: int64(1), object(1)\n",
      "memory usage: 160.6+ KB\n"
     ]
    }
   ],
   "source": [
    "df_test_1.info()"
   ]
  },
  {
   "cell_type": "code",
   "execution_count": 10,
   "metadata": {
    "colab": {
     "base_uri": "https://localhost:8080/",
     "height": 147
    },
    "id": "OFeEdW0XsA_D",
    "outputId": "9f755058-aab2-4dc8-83a4-bf61d1cade5d"
   },
   "outputs": [
    {
     "data": {
      "text/plain": [
       "review       0\n",
       "sentiment    0\n",
       "dtype: int64"
      ]
     },
     "execution_count": 10,
     "metadata": {},
     "output_type": "execute_result"
    }
   ],
   "source": [
    "df_test_1.isnull().sum()"
   ]
  },
  {
   "cell_type": "code",
   "execution_count": 11,
   "metadata": {
    "colab": {
     "base_uri": "https://localhost:8080/"
    },
    "id": "dj3Z2eMVsCWO",
    "outputId": "7864eef7-d5da-4d94-e2c4-5100e176836e"
   },
   "outputs": [
    {
     "data": {
      "text/plain": [
       "2"
      ]
     },
     "execution_count": 11,
     "metadata": {},
     "output_type": "execute_result"
    }
   ],
   "source": [
    "df_test_1.duplicated().sum()"
   ]
  },
  {
   "cell_type": "code",
   "execution_count": 12,
   "metadata": {
    "colab": {
     "base_uri": "https://localhost:8080/",
     "height": 178
    },
    "id": "RfgLiBk6sE4O",
    "outputId": "50b74791-c6ef-4021-b6c0-577f020b87a6"
   },
   "outputs": [
    {
     "data": {
      "text/plain": [
       "sentiment\n",
       "1    3443\n",
       "0    3408\n",
       "Name: count, dtype: int64"
      ]
     },
     "execution_count": 12,
     "metadata": {},
     "output_type": "execute_result"
    }
   ],
   "source": [
    "df_test_1['sentiment'].value_counts()"
   ]
  },
  {
   "cell_type": "code",
   "execution_count": 13,
   "metadata": {
    "id": "lkqlhfLkuXbd"
   },
   "outputs": [],
   "source": [
    "df_test_1.rename(columns={'review': 'text'}, inplace=True)"
   ]
  },
  {
   "cell_type": "code",
   "execution_count": 14,
   "metadata": {
    "colab": {
     "base_uri": "https://localhost:8080/"
    },
    "id": "Hl5PIgKGxc1S",
    "outputId": "41a5b6eb-4a16-4889-ccbb-512f524703b6"
   },
   "outputs": [
    {
     "name": "stdout",
     "output_type": "stream",
     "text": [
      "<class 'pandas.core.frame.DataFrame'>\n",
      "RangeIndex: 7340 entries, 0 to 7339\n",
      "Data columns (total 2 columns):\n",
      " #   Column  Non-Null Count  Dtype  \n",
      "---  ------  --------------  -----  \n",
      " 0   review  7340 non-null   object \n",
      " 1   label   7340 non-null   float64\n",
      "dtypes: float64(1), object(1)\n",
      "memory usage: 114.8+ KB\n"
     ]
    }
   ],
   "source": [
    "df_test_2.info()"
   ]
  },
  {
   "cell_type": "code",
   "execution_count": 15,
   "metadata": {
    "colab": {
     "base_uri": "https://localhost:8080/"
    },
    "id": "ZqQJPOaiti4B",
    "outputId": "617d83f0-de49-417e-b744-b25bb14a7a68"
   },
   "outputs": [],
   "source": [
    "#Leave only sentiments with 0(Negative) and 2(Positive) for df_test_2\n",
    "# Map 2 to 1 to be consistent with training dataset\n",
    "df_test_2 = df_test_2[df_test_2['label'].isin([0.0, 2.0])]\n",
    "df_test_2['label'] = df_test_2['label'].map({0.0: 0,2.0: 1})"
   ]
  },
  {
   "cell_type": "code",
   "execution_count": 16,
   "metadata": {
    "colab": {
     "base_uri": "https://localhost:8080/"
    },
    "id": "wpaQ8RkZujiT",
    "outputId": "a90408f4-187b-4634-b815-295d0ccc3534"
   },
   "outputs": [
    {
     "name": "stdout",
     "output_type": "stream",
     "text": [
      "<class 'pandas.core.frame.DataFrame'>\n",
      "Index: 4791 entries, 0 to 7338\n",
      "Data columns (total 2 columns):\n",
      " #   Column  Non-Null Count  Dtype \n",
      "---  ------  --------------  ----- \n",
      " 0   review  4791 non-null   object\n",
      " 1   label   4791 non-null   int64 \n",
      "dtypes: int64(1), object(1)\n",
      "memory usage: 112.3+ KB\n"
     ]
    }
   ],
   "source": [
    "df_test_2.info()"
   ]
  },
  {
   "cell_type": "code",
   "execution_count": 17,
   "metadata": {
    "colab": {
     "base_uri": "https://localhost:8080/"
    },
    "id": "qXZ6V848unEp",
    "outputId": "e7009ebb-23db-4e0a-a47b-66b83e840ce5"
   },
   "outputs": [],
   "source": [
    "df_test_2.rename(columns={'review': 'text', 'label': 'sentiment'}, inplace=True)"
   ]
  },
  {
   "cell_type": "code",
   "execution_count": 18,
   "metadata": {
    "id": "1QtsSDCauyOV"
   },
   "outputs": [],
   "source": [
    "df_test = pd.concat([df_test_1, df_test_2])"
   ]
  },
  {
   "cell_type": "code",
   "execution_count": 19,
   "metadata": {
    "colab": {
     "base_uri": "https://localhost:8080/"
    },
    "id": "AACtt5LayJ7Y",
    "outputId": "5f838119-1dd1-4ace-f8e2-77a2316f25ad"
   },
   "outputs": [
    {
     "name": "stdout",
     "output_type": "stream",
     "text": [
      "<class 'pandas.core.frame.DataFrame'>\n",
      "Index: 11642 entries, 0 to 7338\n",
      "Data columns (total 2 columns):\n",
      " #   Column     Non-Null Count  Dtype \n",
      "---  ------     --------------  ----- \n",
      " 0   text       11642 non-null  object\n",
      " 1   sentiment  11642 non-null  int64 \n",
      "dtypes: int64(1), object(1)\n",
      "memory usage: 272.9+ KB\n"
     ]
    }
   ],
   "source": [
    "df_test.info()"
   ]
  },
  {
   "cell_type": "code",
   "execution_count": 20,
   "metadata": {
    "colab": {
     "base_uri": "https://localhost:8080/",
     "height": 147
    },
    "id": "B36fdd4UyMD5",
    "outputId": "d3f306c9-6631-402e-f4ac-c1292a495d98"
   },
   "outputs": [
    {
     "data": {
      "text/plain": [
       "text         0\n",
       "sentiment    0\n",
       "dtype: int64"
      ]
     },
     "execution_count": 20,
     "metadata": {},
     "output_type": "execute_result"
    }
   ],
   "source": [
    "df_test.isnull().sum()"
   ]
  },
  {
   "cell_type": "code",
   "execution_count": 21,
   "metadata": {
    "colab": {
     "base_uri": "https://localhost:8080/"
    },
    "id": "4DqEWjC7yNfg",
    "outputId": "767e44f6-1aa6-4a18-afd5-89f5e1e93e84"
   },
   "outputs": [
    {
     "data": {
      "text/plain": [
       "848"
      ]
     },
     "execution_count": 21,
     "metadata": {},
     "output_type": "execute_result"
    }
   ],
   "source": [
    "df_test.duplicated().sum()"
   ]
  },
  {
   "cell_type": "markdown",
   "metadata": {
    "id": "2nqbPa7LmOj0"
   },
   "source": [
    "## Data Preprocessing"
   ]
  },
  {
   "cell_type": "code",
   "execution_count": 22,
   "metadata": {
    "id": "dx5SaYtn1qPP"
   },
   "outputs": [],
   "source": [
    "df.drop_duplicates(inplace = True)\n",
    "df_test.drop_duplicates(inplace = True)"
   ]
  },
  {
   "cell_type": "code",
   "execution_count": 23,
   "metadata": {
    "id": "-Wv_o3AoDnYg"
   },
   "outputs": [],
   "source": [
    "# remove stopwords\n",
    "filipino_stopwords = set([\n",
    "      'akin', 'aking', 'ako', 'alin', 'am', 'amin', 'aming', 'ang', 'ano',\n",
    "      'anumang', 'apat', 'at', 'atin', 'ating', 'ay', 'ba', 'bababa', 'bago',\n",
    "      'bakit', 'bawat', 'bilang', 'dahil', 'dalawa', 'dapat', 'din', 'dito',\n",
    "      'doon', 'eh', 'gagawin', 'gayunman', 'ginagawa', 'ginawa', 'ginawang',\n",
    "      'gumawa', 'gusto', 'ha', 'habang', 'hanggang', 'hindi', 'huwag', 'hoy',\n",
    "      'iba', 'ibaba', 'ibabaw', 'ibig', 'ikaw', 'ilagay', 'ilalim', 'ilan',\n",
    "      'inyong', 'isa', 'isang', 'itaas', 'ito', 'iyo', 'iyon', 'iyang','iyong', 'ka',\n",
    "      'kahit', 'kailangan', 'kailanman', 'kami', 'kanila', 'kanilang',\n",
    "      'kanino', 'kanya', 'kanyang', 'kapag', 'kapwa', 'karamihan',\n",
    "      'katiyakan', 'katulad', 'kaya', 'kaysa', 'ko', 'kong', 'kulang',\n",
    "      'kumuha', 'kung', 'laban', 'lahat', 'lamang', 'likod', 'lima', 'maaari',\n",
    "      'maaaring', 'maging', 'mahusay', 'makita', 'marami', 'marapat',\n",
    "      'masyado', 'may', 'mayroon', 'mga', 'minsan', 'mismo', 'mula', 'muli', 'na',\n",
    "      'nabanggit', 'naging', 'nagkaroon', 'nais', 'nakita', 'namin', 'nang',\n",
    "      'napaka', 'narito', 'nasaan', 'ng', 'ngayon', 'ngunit', 'ni', 'nila', 'nilang',\n",
    "      'nito', 'niya', 'niyang', 'noon', 'o', 'pa', 'paano', 'pababa',\n",
    "      'paggawa', 'pagitan', 'pagkakaroon', 'pagkatapos', 'pala', 'palabas',\n",
    "      'pamamagitan', 'panahon', 'pangalawa', 'para', 'paraan', 'pareho',\n",
    "      'pataas', 'pero', 'po', 'pumunta', 'pumupunta', 'sa', 'saan', 'sabi',\n",
    "      'sabihin', 'sarili', 'sila', 'sino', 'siya',\n",
    "      'tatlo', 'tayo', 'tulad', 'tungkol', 'una', 'walang', 'yan', 'yung', 'username'\n",
    "  ])\n",
    "english_stopwords = set(stopwords.words('english'))\n",
    "combined_stopwords = filipino_stopwords.union(english_stopwords)"
   ]
  },
  {
   "cell_type": "code",
   "execution_count": 24,
   "metadata": {
    "id": "nQtOrkmb_N31"
   },
   "outputs": [
    {
     "name": "stderr",
     "output_type": "stream",
     "text": [
      "<>:2: SyntaxWarning: invalid escape sequence '\\S'\n",
      "<>:2: SyntaxWarning: invalid escape sequence '\\S'\n",
      "C:\\Users\\Blix\\AppData\\Local\\Temp\\ipykernel_2392\\2195482319.py:2: SyntaxWarning: invalid escape sequence '\\S'\n",
      "  '''  # Convert to lowercase\n"
     ]
    }
   ],
   "source": [
    "def preprocess_text(text):\n",
    "  '''  # Convert to lowercase\n",
    "  text = text.lower()\n",
    "  # remove_digits_urls_special_chars\n",
    "  text = re.sub(r'http\\S+|www\\S+|https\\S+', '', text, flags=re.MULTILINE)\n",
    "  text = re.sub(r'[^a-zA-Z]', ' ', text)\n",
    "  text = re.sub(r'\\@\\w+|\\#', '', text)\n",
    "  text = re.sub(r'[^\\w\\s]', '', text)\n",
    "  text = text.strip()\n",
    "  text = re.sub(r'\\s+', ' ', text).strip()\n",
    "  text = re.sub(r'\\s+$', '', text)\n",
    "  text = re.sub(r'\\d+', '', text)'''\n",
    "\n",
    "  text = re.sub(r\"\\n\",\"\", text)   #remove line breaks\n",
    "  text = text.lower() #convert to lowercase\n",
    "  text = re.sub(r\"\\d+\",\"\",text)   #remove digits and currencies\n",
    "  text = re.sub(r'[\\$\\d+\\d+\\$]', \"\", text)\n",
    "  text = re.sub(r'\\d+[\\.\\/-]\\d+[\\.\\/-]\\d+', '', text)   #remove dates\n",
    "  text = re.sub(r'\\d+[\\.\\/-]\\d+[\\.\\/-]\\d+', '', text)\n",
    "  text = re.sub(r'\\d+[\\.\\/-]\\d+[\\.\\/-]\\d+', '', text)\n",
    "  text = re.sub(r'[^\\x00-\\x7f]',r' ',text)   #remove non-ascii\n",
    "  text = re.sub(r'[^\\w\\s]','',text)   #remove punctuation\n",
    "  text = re.sub(r'https?:\\/\\/.*[\\r\\n]*', '', text)   #remove hyperlinks\n",
    "\n",
    "\n",
    "  text = ' '.join([word for word in text.split() if word not in combined_stopwords])\n",
    "\n",
    "  # Lemmatization\n",
    "  lemmatizer = WordNetLemmatizer()\n",
    "  text = ' '.join([lemmatizer.lemmatize(word) for word in text.split()])\n",
    "\n",
    "  return text"
   ]
  },
  {
   "cell_type": "code",
   "execution_count": 25,
   "metadata": {
    "id": "dD905dLEmS-f"
   },
   "outputs": [],
   "source": [
    "df['text'] = df['text'].apply(preprocess_text)\n",
    "df_test['text'] = df_test['text'].apply(preprocess_text)"
   ]
  },
  {
   "cell_type": "markdown",
   "metadata": {
    "id": "5Tajx6MWmv-4"
   },
   "source": [
    "## Training the Model"
   ]
  },
  {
   "cell_type": "code",
   "execution_count": 26,
   "metadata": {
    "id": "td47qpa0moPW"
   },
   "outputs": [],
   "source": [
    "X_train = df['text']\n",
    "y_train = df['sentiment']\n",
    "X_test = df_test['text']\n",
    "y_test = df_test['sentiment']"
   ]
  },
  {
   "cell_type": "code",
   "execution_count": 27,
   "metadata": {
    "id": "vfrte7vUnDE2"
   },
   "outputs": [],
   "source": [
    "combined_stopwords_list = list(combined_stopwords)\n",
    "vectorizer = TfidfVectorizer(ngram_range=(1, 2), max_df=0.9, min_df=5, stop_words=combined_stopwords_list)\n",
    "X_train_transformed = vectorizer.fit_transform(X_train)\n",
    "X_test_transformed = vectorizer.transform(X_test)"
   ]
  },
  {
   "cell_type": "code",
   "execution_count": 28,
   "metadata": {
    "id": "LOAFvLgfD397"
   },
   "outputs": [
    {
     "data": {
      "text/plain": [
       "(39999, 22476)"
      ]
     },
     "execution_count": 28,
     "metadata": {},
     "output_type": "execute_result"
    }
   ],
   "source": [
    "X_train_transformed.shape"
   ]
  },
  {
   "cell_type": "code",
   "execution_count": 29,
   "metadata": {
    "id": "V_RduMCHoO-R"
   },
   "outputs": [],
   "source": [
    "from sklearn.svm import SVC\n",
    "\n",
    "model = SVC()"
   ]
  },
  {
   "cell_type": "code",
   "execution_count": null,
   "metadata": {
    "colab": {
     "base_uri": "https://localhost:8080/"
    },
    "id": "dkjo0HwLxSWV",
    "outputId": "2964771c-a533-4a33-f564-67d717dc23b5"
   },
   "outputs": [
    {
     "name": "stdout",
     "output_type": "stream",
     "text": [
      "Naive Bayes:\n",
      "Accuracy: 0.7960904206040392\n",
      "Report:\n",
      "              precision    recall  f1-score   support\n",
      "\n",
      "           0       0.74      0.93      0.82      5418\n",
      "           1       0.90      0.66      0.76      5376\n",
      "\n",
      "    accuracy                           0.80     10794\n",
      "   macro avg       0.82      0.80      0.79     10794\n",
      "weighted avg       0.82      0.80      0.79     10794\n",
      "\n",
      "Confusion Matrix:\n",
      "[[5022  396]\n",
      " [1805 3571]]\n",
      "\n",
      "Logistic Regression:\n",
      "Accuracy: 0.8506577728367611\n",
      "Report:\n",
      "              precision    recall  f1-score   support\n",
      "\n",
      "           0       0.79      0.95      0.86      5418\n",
      "           1       0.94      0.75      0.83      5376\n",
      "\n",
      "    accuracy                           0.85     10794\n",
      "   macro avg       0.87      0.85      0.85     10794\n",
      "weighted avg       0.87      0.85      0.85     10794\n",
      "\n",
      "Confusion Matrix:\n",
      "[[5157  261]\n",
      " [1351 4025]]\n",
      "\n"
     ]
    }
   ],
   "source": [
    "# Function to train and evaluate a model\n",
    "def train_and_evaluate_model(model, X_train, y_train, X_test, y_test):\n",
    "    # Train the model\n",
    "    model.fit(X_train, y_train)\n",
    "    # Predict on test data\n",
    "    y_pred = model.predict(X_test)\n",
    "    # Evaluate\n",
    "    accuracy = accuracy_score(y_test, y_pred)\n",
    "    report = classification_report(y_test, y_pred)\n",
    "    cm = confusion_matrix(y_test, y_pred)\n",
    "\n",
    "    disp = ConfusionMatrixDisplay(confusion_matrix=cm, display_labels=model.classes_)\n",
    "    return accuracy, report, disp\n",
    "\n",
    "# Initialize models\n",
    "models = {\n",
    "    \"Naive Bayes\": MultinomialNB(),\n",
    "    \"Logistic Regression\": LogisticRegression(max_iter=1000),\n",
    "    \"SVM\": SVC(kernel='linear'),\n",
    "    \"Random Forest\": RandomForestClassifier()\n",
    "}\n",
    "\n",
    "# Train and evaluate each model\n",
    "for model_name, model in models.items():\n",
    "    accuracy, report, disp = train_and_evaluate_model(model, X_train_transformed, y_train, X_test_transformed, y_test)\n",
    "    print(f\"{model_name}:\\nAccuracy: {accuracy}\\nReport:\\n{report}\\nConfusion Matrix:\\n{disp.confusion_matrix}\\n\")"
   ]
  },
  {
   "cell_type": "markdown",
   "metadata": {},
   "source": [
    "## Hyperparameterization and Cross-validation"
   ]
  },
  {
   "cell_type": "code",
   "execution_count": 30,
   "metadata": {},
   "outputs": [],
   "source": [
    "param_grid = {\n",
    "    'C': [0.1, 1, 5, 10, 100],\n",
    "    'kernel': ['linear'],\n",
    "    'gamma': [1, 0.1, 0.01, 0.001, 0.0001, 'scale','auto']\n",
    "}"
   ]
  },
  {
   "cell_type": "code",
   "execution_count": 31,
   "metadata": {},
   "outputs": [
    {
     "name": "stdout",
     "output_type": "stream",
     "text": [
      "Iteration 1:\n",
      "Parameters: {'C': 0.1, 'gamma': 1, 'kernel': 'linear'}\n",
      "Train Accuracy: 0.9671\n",
      "Test Accuracy: 0.9606\n",
      "--------------------------------------------------\n",
      "Iteration 2:\n",
      "Parameters: {'C': 0.1, 'gamma': 0.1, 'kernel': 'linear'}\n",
      "Train Accuracy: 0.9671\n",
      "Test Accuracy: 0.9606\n",
      "--------------------------------------------------\n",
      "Iteration 3:\n",
      "Parameters: {'C': 0.1, 'gamma': 0.01, 'kernel': 'linear'}\n",
      "Train Accuracy: 0.9671\n",
      "Test Accuracy: 0.9606\n",
      "--------------------------------------------------\n",
      "Iteration 4:\n",
      "Parameters: {'C': 0.1, 'gamma': 0.001, 'kernel': 'linear'}\n",
      "Train Accuracy: 0.9671\n",
      "Test Accuracy: 0.9606\n",
      "--------------------------------------------------\n",
      "Iteration 5:\n",
      "Parameters: {'C': 0.1, 'gamma': 0.0001, 'kernel': 'linear'}\n",
      "Train Accuracy: 0.9671\n",
      "Test Accuracy: 0.9606\n",
      "--------------------------------------------------\n",
      "Iteration 6:\n",
      "Parameters: {'C': 0.1, 'gamma': 'scale', 'kernel': 'linear'}\n",
      "Train Accuracy: 0.9671\n",
      "Test Accuracy: 0.9606\n",
      "--------------------------------------------------\n",
      "Iteration 7:\n",
      "Parameters: {'C': 0.1, 'gamma': 'auto', 'kernel': 'linear'}\n",
      "Train Accuracy: 0.9671\n",
      "Test Accuracy: 0.9606\n",
      "--------------------------------------------------\n",
      "Iteration 8:\n",
      "Parameters: {'C': 1, 'gamma': 1, 'kernel': 'linear'}\n",
      "Train Accuracy: 0.9899\n",
      "Test Accuracy: 0.9693\n",
      "--------------------------------------------------\n",
      "Iteration 9:\n",
      "Parameters: {'C': 1, 'gamma': 0.1, 'kernel': 'linear'}\n",
      "Train Accuracy: 0.9899\n",
      "Test Accuracy: 0.9693\n",
      "--------------------------------------------------\n",
      "Iteration 10:\n",
      "Parameters: {'C': 1, 'gamma': 0.01, 'kernel': 'linear'}\n",
      "Train Accuracy: 0.9899\n",
      "Test Accuracy: 0.9693\n",
      "--------------------------------------------------\n",
      "Iteration 11:\n",
      "Parameters: {'C': 1, 'gamma': 0.001, 'kernel': 'linear'}\n",
      "Train Accuracy: 0.9899\n",
      "Test Accuracy: 0.9693\n",
      "--------------------------------------------------\n",
      "Iteration 12:\n",
      "Parameters: {'C': 1, 'gamma': 0.0001, 'kernel': 'linear'}\n",
      "Train Accuracy: 0.9899\n",
      "Test Accuracy: 0.9693\n",
      "--------------------------------------------------\n",
      "Iteration 13:\n",
      "Parameters: {'C': 1, 'gamma': 'scale', 'kernel': 'linear'}\n",
      "Train Accuracy: 0.9899\n",
      "Test Accuracy: 0.9693\n",
      "--------------------------------------------------\n",
      "Iteration 14:\n",
      "Parameters: {'C': 1, 'gamma': 'auto', 'kernel': 'linear'}\n",
      "Train Accuracy: 0.9899\n",
      "Test Accuracy: 0.9693\n",
      "--------------------------------------------------\n",
      "Iteration 15:\n",
      "Parameters: {'C': 5, 'gamma': 1, 'kernel': 'linear'}\n",
      "Train Accuracy: 0.9985\n",
      "Test Accuracy: 0.9635\n",
      "--------------------------------------------------\n",
      "Iteration 16:\n",
      "Parameters: {'C': 5, 'gamma': 0.1, 'kernel': 'linear'}\n",
      "Train Accuracy: 0.9985\n",
      "Test Accuracy: 0.9635\n",
      "--------------------------------------------------\n",
      "Iteration 17:\n",
      "Parameters: {'C': 5, 'gamma': 0.01, 'kernel': 'linear'}\n",
      "Train Accuracy: 0.9985\n",
      "Test Accuracy: 0.9635\n",
      "--------------------------------------------------\n",
      "Iteration 18:\n",
      "Parameters: {'C': 5, 'gamma': 0.001, 'kernel': 'linear'}\n",
      "Train Accuracy: 0.9985\n",
      "Test Accuracy: 0.9635\n",
      "--------------------------------------------------\n",
      "Iteration 19:\n",
      "Parameters: {'C': 5, 'gamma': 0.0001, 'kernel': 'linear'}\n",
      "Train Accuracy: 0.9985\n",
      "Test Accuracy: 0.9635\n",
      "--------------------------------------------------\n",
      "Iteration 20:\n",
      "Parameters: {'C': 5, 'gamma': 'scale', 'kernel': 'linear'}\n",
      "Train Accuracy: 0.9985\n",
      "Test Accuracy: 0.9635\n",
      "--------------------------------------------------\n",
      "Iteration 21:\n",
      "Parameters: {'C': 5, 'gamma': 'auto', 'kernel': 'linear'}\n",
      "Train Accuracy: 0.9985\n",
      "Test Accuracy: 0.9635\n",
      "--------------------------------------------------\n",
      "Iteration 22:\n",
      "Parameters: {'C': 10, 'gamma': 1, 'kernel': 'linear'}\n",
      "Train Accuracy: 0.9995\n",
      "Test Accuracy: 0.9614\n",
      "--------------------------------------------------\n",
      "Iteration 23:\n",
      "Parameters: {'C': 10, 'gamma': 0.1, 'kernel': 'linear'}\n",
      "Train Accuracy: 0.9995\n",
      "Test Accuracy: 0.9614\n",
      "--------------------------------------------------\n",
      "Iteration 24:\n",
      "Parameters: {'C': 10, 'gamma': 0.01, 'kernel': 'linear'}\n",
      "Train Accuracy: 0.9995\n",
      "Test Accuracy: 0.9614\n",
      "--------------------------------------------------\n",
      "Iteration 25:\n",
      "Parameters: {'C': 10, 'gamma': 0.001, 'kernel': 'linear'}\n",
      "Train Accuracy: 0.9995\n",
      "Test Accuracy: 0.9614\n",
      "--------------------------------------------------\n",
      "Iteration 26:\n",
      "Parameters: {'C': 10, 'gamma': 0.0001, 'kernel': 'linear'}\n",
      "Train Accuracy: 0.9995\n",
      "Test Accuracy: 0.9614\n",
      "--------------------------------------------------\n",
      "Iteration 27:\n",
      "Parameters: {'C': 10, 'gamma': 'scale', 'kernel': 'linear'}\n",
      "Train Accuracy: 0.9995\n",
      "Test Accuracy: 0.9614\n",
      "--------------------------------------------------\n",
      "Iteration 28:\n",
      "Parameters: {'C': 10, 'gamma': 'auto', 'kernel': 'linear'}\n",
      "Train Accuracy: 0.9995\n",
      "Test Accuracy: 0.9614\n",
      "--------------------------------------------------\n",
      "Iteration 29:\n",
      "Parameters: {'C': 100, 'gamma': 1, 'kernel': 'linear'}\n",
      "Train Accuracy: 0.9999\n",
      "Test Accuracy: 0.9569\n",
      "--------------------------------------------------\n",
      "Iteration 30:\n",
      "Parameters: {'C': 100, 'gamma': 0.1, 'kernel': 'linear'}\n",
      "Train Accuracy: 0.9999\n",
      "Test Accuracy: 0.9569\n",
      "--------------------------------------------------\n",
      "Iteration 31:\n",
      "Parameters: {'C': 100, 'gamma': 0.01, 'kernel': 'linear'}\n",
      "Train Accuracy: 0.9999\n",
      "Test Accuracy: 0.9569\n",
      "--------------------------------------------------\n",
      "Iteration 32:\n",
      "Parameters: {'C': 100, 'gamma': 0.001, 'kernel': 'linear'}\n",
      "Train Accuracy: 0.9999\n",
      "Test Accuracy: 0.9569\n",
      "--------------------------------------------------\n",
      "Iteration 33:\n",
      "Parameters: {'C': 100, 'gamma': 0.0001, 'kernel': 'linear'}\n",
      "Train Accuracy: 0.9999\n",
      "Test Accuracy: 0.9569\n",
      "--------------------------------------------------\n",
      "Iteration 34:\n",
      "Parameters: {'C': 100, 'gamma': 'scale', 'kernel': 'linear'}\n",
      "Train Accuracy: 0.9999\n",
      "Test Accuracy: 0.9569\n",
      "--------------------------------------------------\n",
      "Iteration 35:\n",
      "Parameters: {'C': 100, 'gamma': 'auto', 'kernel': 'linear'}\n",
      "Train Accuracy: 0.9999\n",
      "Test Accuracy: 0.9569\n",
      "--------------------------------------------------\n"
     ]
    }
   ],
   "source": [
    "grid = GridSearchCV(SVC(), param_grid, refit=True, cv=5, n_jobs = -1, return_train_score=True, verbose=0)\n",
    "# Train with grid search\n",
    "grid.fit(X_train_transformed, y_train)\n",
    "\n",
    "# Access cv_results_ to extract scores\n",
    "cv_results = grid.cv_results_\n",
    "\n",
    "# Iterate over all combinations of parameters\n",
    "for i in range(len(cv_results['params'])):\n",
    "    print(f\"Iteration {i+1}:\")\n",
    "    print(f\"Parameters: {cv_results['params'][i]}\")\n",
    "\n",
    "    # Train accuracy for this iteration\n",
    "    train_acc = cv_results['mean_train_score'][i]\n",
    "    print(f\"Train Accuracy: {train_acc:.4f}\")\n",
    "\n",
    "    # Test accuracy for this iteration (mean cross-validated test score)\n",
    "    test_acc = cv_results['mean_test_score'][i]\n",
    "    print(f\"Test Accuracy: {test_acc:.4f}\")\n",
    "    print('-' * 50)"
   ]
  },
  {
   "cell_type": "code",
   "execution_count": 32,
   "metadata": {},
   "outputs": [
    {
     "name": "stdout",
     "output_type": "stream",
     "text": [
      "Best Parameters:  {'C': 1, 'gamma': 1, 'kernel': 'linear'}\n",
      "Best Estimator:  SVC(C=1, gamma=1, kernel='linear')\n"
     ]
    }
   ],
   "source": [
    "# Best parameters\n",
    "print(\"Best Parameters: \", grid.best_params_)\n",
    "print(\"Best Estimator: \", grid.best_estimator_)"
   ]
  },
  {
   "cell_type": "code",
   "execution_count": 30,
   "metadata": {
    "colab": {
     "base_uri": "https://localhost:8080/",
     "height": 80
    },
    "id": "otRri2vTzLXN",
    "outputId": "b19aafb5-01e6-49d7-fad0-159f3e22387d"
   },
   "outputs": [
    {
     "data": {
      "text/html": [
       "<style>#sk-container-id-1 {\n",
       "  /* Definition of color scheme common for light and dark mode */\n",
       "  --sklearn-color-text: black;\n",
       "  --sklearn-color-line: gray;\n",
       "  /* Definition of color scheme for unfitted estimators */\n",
       "  --sklearn-color-unfitted-level-0: #fff5e6;\n",
       "  --sklearn-color-unfitted-level-1: #f6e4d2;\n",
       "  --sklearn-color-unfitted-level-2: #ffe0b3;\n",
       "  --sklearn-color-unfitted-level-3: chocolate;\n",
       "  /* Definition of color scheme for fitted estimators */\n",
       "  --sklearn-color-fitted-level-0: #f0f8ff;\n",
       "  --sklearn-color-fitted-level-1: #d4ebff;\n",
       "  --sklearn-color-fitted-level-2: #b3dbfd;\n",
       "  --sklearn-color-fitted-level-3: cornflowerblue;\n",
       "\n",
       "  /* Specific color for light theme */\n",
       "  --sklearn-color-text-on-default-background: var(--sg-text-color, var(--theme-code-foreground, var(--jp-content-font-color1, black)));\n",
       "  --sklearn-color-background: var(--sg-background-color, var(--theme-background, var(--jp-layout-color0, white)));\n",
       "  --sklearn-color-border-box: var(--sg-text-color, var(--theme-code-foreground, var(--jp-content-font-color1, black)));\n",
       "  --sklearn-color-icon: #696969;\n",
       "\n",
       "  @media (prefers-color-scheme: dark) {\n",
       "    /* Redefinition of color scheme for dark theme */\n",
       "    --sklearn-color-text-on-default-background: var(--sg-text-color, var(--theme-code-foreground, var(--jp-content-font-color1, white)));\n",
       "    --sklearn-color-background: var(--sg-background-color, var(--theme-background, var(--jp-layout-color0, #111)));\n",
       "    --sklearn-color-border-box: var(--sg-text-color, var(--theme-code-foreground, var(--jp-content-font-color1, white)));\n",
       "    --sklearn-color-icon: #878787;\n",
       "  }\n",
       "}\n",
       "\n",
       "#sk-container-id-1 {\n",
       "  color: var(--sklearn-color-text);\n",
       "}\n",
       "\n",
       "#sk-container-id-1 pre {\n",
       "  padding: 0;\n",
       "}\n",
       "\n",
       "#sk-container-id-1 input.sk-hidden--visually {\n",
       "  border: 0;\n",
       "  clip: rect(1px 1px 1px 1px);\n",
       "  clip: rect(1px, 1px, 1px, 1px);\n",
       "  height: 1px;\n",
       "  margin: -1px;\n",
       "  overflow: hidden;\n",
       "  padding: 0;\n",
       "  position: absolute;\n",
       "  width: 1px;\n",
       "}\n",
       "\n",
       "#sk-container-id-1 div.sk-dashed-wrapped {\n",
       "  border: 1px dashed var(--sklearn-color-line);\n",
       "  margin: 0 0.4em 0.5em 0.4em;\n",
       "  box-sizing: border-box;\n",
       "  padding-bottom: 0.4em;\n",
       "  background-color: var(--sklearn-color-background);\n",
       "}\n",
       "\n",
       "#sk-container-id-1 div.sk-container {\n",
       "  /* jupyter's `normalize.less` sets `[hidden] { display: none; }`\n",
       "     but bootstrap.min.css set `[hidden] { display: none !important; }`\n",
       "     so we also need the `!important` here to be able to override the\n",
       "     default hidden behavior on the sphinx rendered scikit-learn.org.\n",
       "     See: https://github.com/scikit-learn/scikit-learn/issues/21755 */\n",
       "  display: inline-block !important;\n",
       "  position: relative;\n",
       "}\n",
       "\n",
       "#sk-container-id-1 div.sk-text-repr-fallback {\n",
       "  display: none;\n",
       "}\n",
       "\n",
       "div.sk-parallel-item,\n",
       "div.sk-serial,\n",
       "div.sk-item {\n",
       "  /* draw centered vertical line to link estimators */\n",
       "  background-image: linear-gradient(var(--sklearn-color-text-on-default-background), var(--sklearn-color-text-on-default-background));\n",
       "  background-size: 2px 100%;\n",
       "  background-repeat: no-repeat;\n",
       "  background-position: center center;\n",
       "}\n",
       "\n",
       "/* Parallel-specific style estimator block */\n",
       "\n",
       "#sk-container-id-1 div.sk-parallel-item::after {\n",
       "  content: \"\";\n",
       "  width: 100%;\n",
       "  border-bottom: 2px solid var(--sklearn-color-text-on-default-background);\n",
       "  flex-grow: 1;\n",
       "}\n",
       "\n",
       "#sk-container-id-1 div.sk-parallel {\n",
       "  display: flex;\n",
       "  align-items: stretch;\n",
       "  justify-content: center;\n",
       "  background-color: var(--sklearn-color-background);\n",
       "  position: relative;\n",
       "}\n",
       "\n",
       "#sk-container-id-1 div.sk-parallel-item {\n",
       "  display: flex;\n",
       "  flex-direction: column;\n",
       "}\n",
       "\n",
       "#sk-container-id-1 div.sk-parallel-item:first-child::after {\n",
       "  align-self: flex-end;\n",
       "  width: 50%;\n",
       "}\n",
       "\n",
       "#sk-container-id-1 div.sk-parallel-item:last-child::after {\n",
       "  align-self: flex-start;\n",
       "  width: 50%;\n",
       "}\n",
       "\n",
       "#sk-container-id-1 div.sk-parallel-item:only-child::after {\n",
       "  width: 0;\n",
       "}\n",
       "\n",
       "/* Serial-specific style estimator block */\n",
       "\n",
       "#sk-container-id-1 div.sk-serial {\n",
       "  display: flex;\n",
       "  flex-direction: column;\n",
       "  align-items: center;\n",
       "  background-color: var(--sklearn-color-background);\n",
       "  padding-right: 1em;\n",
       "  padding-left: 1em;\n",
       "}\n",
       "\n",
       "\n",
       "/* Toggleable style: style used for estimator/Pipeline/ColumnTransformer box that is\n",
       "clickable and can be expanded/collapsed.\n",
       "- Pipeline and ColumnTransformer use this feature and define the default style\n",
       "- Estimators will overwrite some part of the style using the `sk-estimator` class\n",
       "*/\n",
       "\n",
       "/* Pipeline and ColumnTransformer style (default) */\n",
       "\n",
       "#sk-container-id-1 div.sk-toggleable {\n",
       "  /* Default theme specific background. It is overwritten whether we have a\n",
       "  specific estimator or a Pipeline/ColumnTransformer */\n",
       "  background-color: var(--sklearn-color-background);\n",
       "}\n",
       "\n",
       "/* Toggleable label */\n",
       "#sk-container-id-1 label.sk-toggleable__label {\n",
       "  cursor: pointer;\n",
       "  display: block;\n",
       "  width: 100%;\n",
       "  margin-bottom: 0;\n",
       "  padding: 0.5em;\n",
       "  box-sizing: border-box;\n",
       "  text-align: center;\n",
       "}\n",
       "\n",
       "#sk-container-id-1 label.sk-toggleable__label-arrow:before {\n",
       "  /* Arrow on the left of the label */\n",
       "  content: \"▸\";\n",
       "  float: left;\n",
       "  margin-right: 0.25em;\n",
       "  color: var(--sklearn-color-icon);\n",
       "}\n",
       "\n",
       "#sk-container-id-1 label.sk-toggleable__label-arrow:hover:before {\n",
       "  color: var(--sklearn-color-text);\n",
       "}\n",
       "\n",
       "/* Toggleable content - dropdown */\n",
       "\n",
       "#sk-container-id-1 div.sk-toggleable__content {\n",
       "  max-height: 0;\n",
       "  max-width: 0;\n",
       "  overflow: hidden;\n",
       "  text-align: left;\n",
       "  /* unfitted */\n",
       "  background-color: var(--sklearn-color-unfitted-level-0);\n",
       "}\n",
       "\n",
       "#sk-container-id-1 div.sk-toggleable__content.fitted {\n",
       "  /* fitted */\n",
       "  background-color: var(--sklearn-color-fitted-level-0);\n",
       "}\n",
       "\n",
       "#sk-container-id-1 div.sk-toggleable__content pre {\n",
       "  margin: 0.2em;\n",
       "  border-radius: 0.25em;\n",
       "  color: var(--sklearn-color-text);\n",
       "  /* unfitted */\n",
       "  background-color: var(--sklearn-color-unfitted-level-0);\n",
       "}\n",
       "\n",
       "#sk-container-id-1 div.sk-toggleable__content.fitted pre {\n",
       "  /* unfitted */\n",
       "  background-color: var(--sklearn-color-fitted-level-0);\n",
       "}\n",
       "\n",
       "#sk-container-id-1 input.sk-toggleable__control:checked~div.sk-toggleable__content {\n",
       "  /* Expand drop-down */\n",
       "  max-height: 200px;\n",
       "  max-width: 100%;\n",
       "  overflow: auto;\n",
       "}\n",
       "\n",
       "#sk-container-id-1 input.sk-toggleable__control:checked~label.sk-toggleable__label-arrow:before {\n",
       "  content: \"▾\";\n",
       "}\n",
       "\n",
       "/* Pipeline/ColumnTransformer-specific style */\n",
       "\n",
       "#sk-container-id-1 div.sk-label input.sk-toggleable__control:checked~label.sk-toggleable__label {\n",
       "  color: var(--sklearn-color-text);\n",
       "  background-color: var(--sklearn-color-unfitted-level-2);\n",
       "}\n",
       "\n",
       "#sk-container-id-1 div.sk-label.fitted input.sk-toggleable__control:checked~label.sk-toggleable__label {\n",
       "  background-color: var(--sklearn-color-fitted-level-2);\n",
       "}\n",
       "\n",
       "/* Estimator-specific style */\n",
       "\n",
       "/* Colorize estimator box */\n",
       "#sk-container-id-1 div.sk-estimator input.sk-toggleable__control:checked~label.sk-toggleable__label {\n",
       "  /* unfitted */\n",
       "  background-color: var(--sklearn-color-unfitted-level-2);\n",
       "}\n",
       "\n",
       "#sk-container-id-1 div.sk-estimator.fitted input.sk-toggleable__control:checked~label.sk-toggleable__label {\n",
       "  /* fitted */\n",
       "  background-color: var(--sklearn-color-fitted-level-2);\n",
       "}\n",
       "\n",
       "#sk-container-id-1 div.sk-label label.sk-toggleable__label,\n",
       "#sk-container-id-1 div.sk-label label {\n",
       "  /* The background is the default theme color */\n",
       "  color: var(--sklearn-color-text-on-default-background);\n",
       "}\n",
       "\n",
       "/* On hover, darken the color of the background */\n",
       "#sk-container-id-1 div.sk-label:hover label.sk-toggleable__label {\n",
       "  color: var(--sklearn-color-text);\n",
       "  background-color: var(--sklearn-color-unfitted-level-2);\n",
       "}\n",
       "\n",
       "/* Label box, darken color on hover, fitted */\n",
       "#sk-container-id-1 div.sk-label.fitted:hover label.sk-toggleable__label.fitted {\n",
       "  color: var(--sklearn-color-text);\n",
       "  background-color: var(--sklearn-color-fitted-level-2);\n",
       "}\n",
       "\n",
       "/* Estimator label */\n",
       "\n",
       "#sk-container-id-1 div.sk-label label {\n",
       "  font-family: monospace;\n",
       "  font-weight: bold;\n",
       "  display: inline-block;\n",
       "  line-height: 1.2em;\n",
       "}\n",
       "\n",
       "#sk-container-id-1 div.sk-label-container {\n",
       "  text-align: center;\n",
       "}\n",
       "\n",
       "/* Estimator-specific */\n",
       "#sk-container-id-1 div.sk-estimator {\n",
       "  font-family: monospace;\n",
       "  border: 1px dotted var(--sklearn-color-border-box);\n",
       "  border-radius: 0.25em;\n",
       "  box-sizing: border-box;\n",
       "  margin-bottom: 0.5em;\n",
       "  /* unfitted */\n",
       "  background-color: var(--sklearn-color-unfitted-level-0);\n",
       "}\n",
       "\n",
       "#sk-container-id-1 div.sk-estimator.fitted {\n",
       "  /* fitted */\n",
       "  background-color: var(--sklearn-color-fitted-level-0);\n",
       "}\n",
       "\n",
       "/* on hover */\n",
       "#sk-container-id-1 div.sk-estimator:hover {\n",
       "  /* unfitted */\n",
       "  background-color: var(--sklearn-color-unfitted-level-2);\n",
       "}\n",
       "\n",
       "#sk-container-id-1 div.sk-estimator.fitted:hover {\n",
       "  /* fitted */\n",
       "  background-color: var(--sklearn-color-fitted-level-2);\n",
       "}\n",
       "\n",
       "/* Specification for estimator info (e.g. \"i\" and \"?\") */\n",
       "\n",
       "/* Common style for \"i\" and \"?\" */\n",
       "\n",
       ".sk-estimator-doc-link,\n",
       "a:link.sk-estimator-doc-link,\n",
       "a:visited.sk-estimator-doc-link {\n",
       "  float: right;\n",
       "  font-size: smaller;\n",
       "  line-height: 1em;\n",
       "  font-family: monospace;\n",
       "  background-color: var(--sklearn-color-background);\n",
       "  border-radius: 1em;\n",
       "  height: 1em;\n",
       "  width: 1em;\n",
       "  text-decoration: none !important;\n",
       "  margin-left: 1ex;\n",
       "  /* unfitted */\n",
       "  border: var(--sklearn-color-unfitted-level-1) 1pt solid;\n",
       "  color: var(--sklearn-color-unfitted-level-1);\n",
       "}\n",
       "\n",
       ".sk-estimator-doc-link.fitted,\n",
       "a:link.sk-estimator-doc-link.fitted,\n",
       "a:visited.sk-estimator-doc-link.fitted {\n",
       "  /* fitted */\n",
       "  border: var(--sklearn-color-fitted-level-1) 1pt solid;\n",
       "  color: var(--sklearn-color-fitted-level-1);\n",
       "}\n",
       "\n",
       "/* On hover */\n",
       "div.sk-estimator:hover .sk-estimator-doc-link:hover,\n",
       ".sk-estimator-doc-link:hover,\n",
       "div.sk-label-container:hover .sk-estimator-doc-link:hover,\n",
       ".sk-estimator-doc-link:hover {\n",
       "  /* unfitted */\n",
       "  background-color: var(--sklearn-color-unfitted-level-3);\n",
       "  color: var(--sklearn-color-background);\n",
       "  text-decoration: none;\n",
       "}\n",
       "\n",
       "div.sk-estimator.fitted:hover .sk-estimator-doc-link.fitted:hover,\n",
       ".sk-estimator-doc-link.fitted:hover,\n",
       "div.sk-label-container:hover .sk-estimator-doc-link.fitted:hover,\n",
       ".sk-estimator-doc-link.fitted:hover {\n",
       "  /* fitted */\n",
       "  background-color: var(--sklearn-color-fitted-level-3);\n",
       "  color: var(--sklearn-color-background);\n",
       "  text-decoration: none;\n",
       "}\n",
       "\n",
       "/* Span, style for the box shown on hovering the info icon */\n",
       ".sk-estimator-doc-link span {\n",
       "  display: none;\n",
       "  z-index: 9999;\n",
       "  position: relative;\n",
       "  font-weight: normal;\n",
       "  right: .2ex;\n",
       "  padding: .5ex;\n",
       "  margin: .5ex;\n",
       "  width: min-content;\n",
       "  min-width: 20ex;\n",
       "  max-width: 50ex;\n",
       "  color: var(--sklearn-color-text);\n",
       "  box-shadow: 2pt 2pt 4pt #999;\n",
       "  /* unfitted */\n",
       "  background: var(--sklearn-color-unfitted-level-0);\n",
       "  border: .5pt solid var(--sklearn-color-unfitted-level-3);\n",
       "}\n",
       "\n",
       ".sk-estimator-doc-link.fitted span {\n",
       "  /* fitted */\n",
       "  background: var(--sklearn-color-fitted-level-0);\n",
       "  border: var(--sklearn-color-fitted-level-3);\n",
       "}\n",
       "\n",
       ".sk-estimator-doc-link:hover span {\n",
       "  display: block;\n",
       "}\n",
       "\n",
       "/* \"?\"-specific style due to the `<a>` HTML tag */\n",
       "\n",
       "#sk-container-id-1 a.estimator_doc_link {\n",
       "  float: right;\n",
       "  font-size: 1rem;\n",
       "  line-height: 1em;\n",
       "  font-family: monospace;\n",
       "  background-color: var(--sklearn-color-background);\n",
       "  border-radius: 1rem;\n",
       "  height: 1rem;\n",
       "  width: 1rem;\n",
       "  text-decoration: none;\n",
       "  /* unfitted */\n",
       "  color: var(--sklearn-color-unfitted-level-1);\n",
       "  border: var(--sklearn-color-unfitted-level-1) 1pt solid;\n",
       "}\n",
       "\n",
       "#sk-container-id-1 a.estimator_doc_link.fitted {\n",
       "  /* fitted */\n",
       "  border: var(--sklearn-color-fitted-level-1) 1pt solid;\n",
       "  color: var(--sklearn-color-fitted-level-1);\n",
       "}\n",
       "\n",
       "/* On hover */\n",
       "#sk-container-id-1 a.estimator_doc_link:hover {\n",
       "  /* unfitted */\n",
       "  background-color: var(--sklearn-color-unfitted-level-3);\n",
       "  color: var(--sklearn-color-background);\n",
       "  text-decoration: none;\n",
       "}\n",
       "\n",
       "#sk-container-id-1 a.estimator_doc_link.fitted:hover {\n",
       "  /* fitted */\n",
       "  background-color: var(--sklearn-color-fitted-level-3);\n",
       "}\n",
       "</style><div id=\"sk-container-id-1\" class=\"sk-top-container\"><div class=\"sk-text-repr-fallback\"><pre>SVC(C=1, gamma=1, kernel=&#x27;linear&#x27;)</pre><b>In a Jupyter environment, please rerun this cell to show the HTML representation or trust the notebook. <br />On GitHub, the HTML representation is unable to render, please try loading this page with nbviewer.org.</b></div><div class=\"sk-container\" hidden><div class=\"sk-item\"><div class=\"sk-estimator fitted sk-toggleable\"><input class=\"sk-toggleable__control sk-hidden--visually\" id=\"sk-estimator-id-1\" type=\"checkbox\" checked><label for=\"sk-estimator-id-1\" class=\"sk-toggleable__label fitted sk-toggleable__label-arrow fitted\">&nbsp;&nbsp;SVC<a class=\"sk-estimator-doc-link fitted\" rel=\"noreferrer\" target=\"_blank\" href=\"https://scikit-learn.org/1.4/modules/generated/sklearn.svm.SVC.html\">?<span>Documentation for SVC</span></a><span class=\"sk-estimator-doc-link fitted\">i<span>Fitted</span></span></label><div class=\"sk-toggleable__content fitted\"><pre>SVC(C=1, gamma=1, kernel=&#x27;linear&#x27;)</pre></div> </div></div></div></div>"
      ],
      "text/plain": [
       "SVC(C=1, gamma=1, kernel='linear')"
      ]
     },
     "execution_count": 30,
     "metadata": {},
     "output_type": "execute_result"
    }
   ],
   "source": [
    "# Chosen Model\n",
    "model = SVC(C = 1, gamma = 1, kernel='linear')\n",
    "model.fit(X_train_transformed, y_train)"
   ]
  },
  {
   "cell_type": "code",
   "execution_count": 31,
   "metadata": {
    "colab": {
     "base_uri": "https://localhost:8080/"
    },
    "id": "dRXMZ8ik2OVY",
    "outputId": "385e0f29-815d-4e21-9141-18a2f38a79b1"
   },
   "outputs": [
    {
     "name": "stdout",
     "output_type": "stream",
     "text": [
      "              precision    recall  f1-score   support\n",
      "\n",
      "           0       0.80      0.95      0.87      5418\n",
      "           1       0.94      0.76      0.84      5376\n",
      "\n",
      "    accuracy                           0.86     10794\n",
      "   macro avg       0.87      0.86      0.85     10794\n",
      "weighted avg       0.87      0.86      0.85     10794\n",
      "\n",
      "0.8558458402816379\n"
     ]
    }
   ],
   "source": [
    "y_pred = model.predict(X_test_transformed)\n",
    "print(classification_report(y_test, y_pred))\n",
    "print(accuracy_score(y_test, y_pred))"
   ]
  },
  {
   "cell_type": "code",
   "execution_count": 39,
   "metadata": {},
   "outputs": [
    {
     "name": "stdout",
     "output_type": "stream",
     "text": [
      "[0.96859927 0.96800866 0.96476031 0.96495373 0.8783225 ]\n",
      "0.9489288960770839\n",
      "0.035337381702557666\n"
     ]
    }
   ],
   "source": [
    "# Cross Validation\n",
    "X = pd.concat([X_train, X_test])\n",
    "y = pd.concat([y_train, y_test])\n",
    "X_transformed = vectorizer.fit_transform(X)\n",
    "\n",
    "\n",
    "from sklearn.model_selection import cross_val_score\n",
    "cv_scores = cross_val_score(model, X_transformed, y, cv=5)\n",
    "print(cv_scores)\n",
    "print(cv_scores.mean())\n",
    "print(cv_scores.std())"
   ]
  },
  {
   "cell_type": "code",
   "execution_count": 32,
   "metadata": {
    "colab": {
     "base_uri": "https://localhost:8080/",
     "height": 449
    },
    "id": "xffAcqPLpu9W",
    "outputId": "356ca793-e44b-48ed-9408-8d3080cebd1d"
   },
   "outputs": [
    {
     "data": {
      "image/png": "[encoded data removed]",
      "text/plain": [
       "<Figure size 640x480 with 2 Axes>"
      ]
     },
     "metadata": {},
     "output_type": "display_data"
    }
   ],
   "source": [
    "cm = confusion_matrix(y_test, y_pred)\n",
    "\n",
    "disp = ConfusionMatrixDisplay(confusion_matrix=cm, display_labels=model.classes_)\n",
    "disp.plot()\n",
    "plt.show()"
   ]
  },
  {
   "cell_type": "code",
   "execution_count": 33,
   "metadata": {
    "colab": {
     "base_uri": "https://localhost:8080/"
    },
    "id": "j3Uszu-P3I26",
    "outputId": "9e140c0a-da03-4b9d-eee8-42431d8cf3b1"
   },
   "outputs": [
    {
     "data": {
      "text/plain": [
       "array([1], dtype=int64)"
      ]
     },
     "execution_count": 33,
     "metadata": {},
     "output_type": "execute_result"
    }
   ],
   "source": [
    "input_text = pd.Series(\"Ang bilis ng delivery kaso pagdating sakin di naman gumagana, solid\")\n",
    "input_text = input_text.apply(preprocess_text)\n",
    "input_text_transform = vectorizer.transform(input_text)\n",
    "prediction = model.predict(input_text_transform)\n",
    "prediction"
   ]
  },
  {
   "cell_type": "code",
   "execution_count": 34,
   "metadata": {},
   "outputs": [],
   "source": [
    "input_texts = ['This shit is so damn good product',\n",
    "               'Hindi niyo ako maloloko! Original to noh? Ang ganda!',\n",
    "               'Tangina good shit!', 'Tagal niya dumating pero ang solid hahaha',\n",
    "               'Ito na yon? Hindi man lang tumagal.', 'Anggggg gandaaaaaa.',\n",
    "               'Angggggggg lupittttttt sulitttttt baaaaayaaaaaadd tttttaaaaaeeeeeenaaaaa!',\n",
    "               'Tangina ang tagal ko itong hinintay ka-excite gamitin maganda raw eh hehe',\n",
    "               \"Ang bilis ng delivery kaso pagdating sakin di naman gumagana, solid\"]"
   ]
  },
  {
   "cell_type": "code",
   "execution_count": 35,
   "metadata": {
    "id": "brBWYU4EBZkp"
   },
   "outputs": [
    {
     "name": "stdout",
     "output_type": "stream",
     "text": [
      "Review: This shit is so damn good product -> Sentiment: Good\n",
      "Review: Hindi niyo ako maloloko! Original to noh? Ang ganda! -> Sentiment: Good\n",
      "Review: Tangina good shit! -> Sentiment: Good\n",
      "Review: Tagal niya dumating pero ang solid hahaha -> Sentiment: Good\n",
      "Review: Ito na yon? Hindi man lang tumagal. -> Sentiment: Bad\n",
      "Review: Anggggg gandaaaaaa. -> Sentiment: Bad\n",
      "Review: Angggggggg lupittttttt sulitttttt baaaaayaaaaaadd tttttaaaaaeeeeeenaaaaa! -> Sentiment: Bad\n",
      "Review: Tangina ang tagal ko itong hinintay ka-excite gamitin maganda raw eh hehe -> Sentiment: Bad\n",
      "Review: Ang bilis ng delivery kaso pagdating sakin di naman gumagana, solid -> Sentiment: Good\n"
     ]
    }
   ],
   "source": [
    "for text in input_texts:\n",
    "  input_text = pd.Series(text)\n",
    "  input_text = input_text.apply(preprocess_text)\n",
    "  input_text_transform = vectorizer.transform(input_text)\n",
    "  prediction = model.predict(input_text_transform)\n",
    "  if prediction == 0:\n",
    "    print(f\"Review: {text} -> Sentiment: Bad\")\n",
    "  else:\n",
    "    print(f\"Review: {text} -> Sentiment: Good\")"
   ]
  },
  {
   "cell_type": "code",
   "execution_count": null,
   "metadata": {},
   "outputs": [],
   "source": []
  }
 ],
 "metadata": {
  "colab": {
   "authorship_tag": "ABX9TyNY54eKgeprVQGUK/b4YE6U",
   "include_colab_link": true,
   "provenance": []
  },
  "kernelspec": {
   "display_name": "base",
   "language": "python",
   "name": "python3"
  },
  "language_info": {
   "codemirror_mode": {
    "name": "ipython",
    "version": 3
   },
   "file_extension": ".py",
   "mimetype": "text/x-python",
   "name": "python",
   "nbconvert_exporter": "python",
   "pygments_lexer": "ipython3",
   "version": "3.12.4"
  }
 },
 "nbformat": 4,
 "nbformat_minor": 0
}
