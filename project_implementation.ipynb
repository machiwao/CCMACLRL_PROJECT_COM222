{
  "cells": [
    {
      "cell_type": "markdown",
      "metadata": {
        "id": "view-in-github",
        "colab_type": "text"
      },
      "source": [
        "<a href=\"https://colab.research.google.com/github/machiwao/CCMACLRL_PROJECT_COM222/blob/main/project_implementation.ipynb\" target=\"_parent\"><img src=\"https://colab.research.google.com/assets/colab-badge.svg\" alt=\"Open In Colab\"/></a>"
      ]
    },
    {
      "cell_type": "markdown",
      "metadata": {
        "id": "K0YQGLr60cTR"
      },
      "source": [
        "# Sentiment Analysis of Shopee Computer Product Reviews"
      ]
    },
    {
      "cell_type": "code",
      "execution_count": null,
      "metadata": {
        "colab": {
          "base_uri": "https://localhost:8080/"
        },
        "id": "_hiKZECP09Hi",
        "outputId": "a6876f86-bed0-4c5f-a1ce-40efbd22bc8b"
      },
      "outputs": [
        {
          "name": "stderr",
          "output_type": "stream",
          "text": [
            "[nltk_data] Downloading package punkt to\n",
            "[nltk_data]     C:\\Users\\Blix\\AppData\\Roaming\\nltk_data...\n",
            "[nltk_data]   Package punkt is already up-to-date!\n",
            "[nltk_data] Downloading package wordnet to\n",
            "[nltk_data]     C:\\Users\\Blix\\AppData\\Roaming\\nltk_data...\n",
            "[nltk_data]   Package wordnet is already up-to-date!\n",
            "[nltk_data] Downloading package stopwords to\n",
            "[nltk_data]     C:\\Users\\Blix\\AppData\\Roaming\\nltk_data...\n",
            "[nltk_data]   Package stopwords is already up-to-date!\n"
          ]
        },
        {
          "data": {
            "text/plain": [
              "True"
            ]
          },
          "execution_count": 21,
          "metadata": {},
          "output_type": "execute_result"
        }
      ],
      "source": [
        "import numpy as np\n",
        "import matplotlib.pyplot as plt\n",
        "import pandas as pd\n",
        "import nltk\n",
        "import seaborn as sns\n",
        "import re\n",
        "import os, types\n",
        "import requests\n",
        "\n",
        "from sklearn.feature_extraction.text import CountVectorizer, TfidfVectorizer\n",
        "from sklearn.metrics import confusion_matrix, accuracy_score, ConfusionMatrixDisplay, classification_report\n",
        "from sklearn.model_selection import train_test_split, GridSearchCV, cross_val_score\n",
        "from sklearn.naive_bayes import MultinomialNB\n",
        "from sklearn.linear_model import LogisticRegression\n",
        "from sklearn.svm import SVC\n",
        "from sklearn.ensemble import RandomForestClassifier\n",
        "\n",
        "from nltk import FreqDist\n",
        "from nltk.stem import WordNetLemmatizer\n",
        "from nltk.stem import PorterStemmer\n",
        "from nltk.tokenize import word_tokenize\n",
        "from nltk.corpus import stopwords\n",
        "\n",
        "from scipy.sparse import hstack\n",
        "\n",
        "nltk.download(\"punkt\")\n",
        "nltk.download('wordnet')\n",
        "nltk.download('stopwords')"
      ]
    },
    {
      "cell_type": "markdown",
      "metadata": {
        "id": "GQUWYfaW1Bag"
      },
      "source": [
        "## Data Loading"
      ]
    },
    {
      "cell_type": "code",
      "execution_count": null,
      "metadata": {
        "id": "3OTFBucg0S-p"
      },
      "outputs": [],
      "source": [
        "df = pd.read_csv(\"hf://datasets/magixxixx/shopee-product-reviews-on-computer-category/combined-dataset-shuffled-cased-40K.csv\")"
      ]
    },
    {
      "cell_type": "code",
      "execution_count": null,
      "metadata": {
        "colab": {
          "base_uri": "https://localhost:8080/",
          "height": 206
        },
        "id": "TCDSrja51D2N",
        "outputId": "46fb4c51-137c-4848-ebf8-bee8b7ddcff4"
      },
      "outputs": [
        {
          "data": {
            "text/html": [
              "<div>\n",
              "<style scoped>\n",
              "    .dataframe tbody tr th:only-of-type {\n",
              "        vertical-align: middle;\n",
              "    }\n",
              "\n",
              "    .dataframe tbody tr th {\n",
              "        vertical-align: top;\n",
              "    }\n",
              "\n",
              "    .dataframe thead th {\n",
              "        text-align: right;\n",
              "    }\n",
              "</style>\n",
              "<table border=\"1\" class=\"dataframe\">\n",
              "  <thead>\n",
              "    <tr style=\"text-align: right;\">\n",
              "      <th></th>\n",
              "      <th>text</th>\n",
              "      <th>sentiment</th>\n",
              "    </tr>\n",
              "  </thead>\n",
              "  <tbody>\n",
              "    <tr>\n",
              "      <th>0</th>\n",
              "      <td>mali yung dineliver 2l order ko naging 1l bulok!</td>\n",
              "      <td>0</td>\n",
              "    </tr>\n",
              "    <tr>\n",
              "      <th>1</th>\n",
              "      <td>xl order ko dumating large.nkalagay sa sticker...</td>\n",
              "      <td>0</td>\n",
              "    </tr>\n",
              "    <tr>\n",
              "      <th>2</th>\n",
              "      <td>sobrang bilis ma lowbat, hindi masyado nakaka ...</td>\n",
              "      <td>0</td>\n",
              "    </tr>\n",
              "    <tr>\n",
              "      <th>3</th>\n",
              "      <td>first time ko umorder dito. di naman gumagana ...</td>\n",
              "      <td>0</td>\n",
              "    </tr>\n",
              "    <tr>\n",
              "      <th>4</th>\n",
              "      <td>not well packed, wala itong box. hindi sya ma ...</td>\n",
              "      <td>0</td>\n",
              "    </tr>\n",
              "  </tbody>\n",
              "</table>\n",
              "</div>"
            ],
            "text/plain": [
              "                                                text  sentiment\n",
              "0   mali yung dineliver 2l order ko naging 1l bulok!          0\n",
              "1  xl order ko dumating large.nkalagay sa sticker...          0\n",
              "2  sobrang bilis ma lowbat, hindi masyado nakaka ...          0\n",
              "3  first time ko umorder dito. di naman gumagana ...          0\n",
              "4  not well packed, wala itong box. hindi sya ma ...          0"
            ]
          },
          "execution_count": 23,
          "metadata": {},
          "output_type": "execute_result"
        }
      ],
      "source": [
        "df.head()"
      ]
    },
    {
      "cell_type": "code",
      "execution_count": null,
      "metadata": {
        "colab": {
          "base_uri": "https://localhost:8080/"
        },
        "id": "nCUo6PnJ1Mo8",
        "outputId": "d446f5ae-e69c-4baf-bb3e-fa3a69b29886"
      },
      "outputs": [
        {
          "name": "stdout",
          "output_type": "stream",
          "text": [
            "<class 'pandas.core.frame.DataFrame'>\n",
            "RangeIndex: 40000 entries, 0 to 39999\n",
            "Data columns (total 2 columns):\n",
            " #   Column     Non-Null Count  Dtype \n",
            "---  ------     --------------  ----- \n",
            " 0   text       40000 non-null  object\n",
            " 1   sentiment  40000 non-null  int64 \n",
            "dtypes: int64(1), object(1)\n",
            "memory usage: 625.1+ KB\n"
          ]
        }
      ],
      "source": [
        "df.info()"
      ]
    },
    {
      "cell_type": "code",
      "execution_count": null,
      "metadata": {
        "colab": {
          "base_uri": "https://localhost:8080/",
          "height": 147
        },
        "id": "KRGImzew1fiZ",
        "outputId": "797e5d60-52d6-4136-977d-28dc6ffe5fef"
      },
      "outputs": [
        {
          "data": {
            "text/plain": [
              "text         0\n",
              "sentiment    0\n",
              "dtype: int64"
            ]
          },
          "execution_count": 25,
          "metadata": {},
          "output_type": "execute_result"
        }
      ],
      "source": [
        "df.isnull().sum()"
      ]
    },
    {
      "cell_type": "code",
      "execution_count": null,
      "metadata": {
        "colab": {
          "base_uri": "https://localhost:8080/"
        },
        "id": "BTqBKyVD1gXA",
        "outputId": "705582e7-252f-441e-c694-4c89da55404f"
      },
      "outputs": [
        {
          "data": {
            "text/plain": [
              "np.int64(1)"
            ]
          },
          "execution_count": 26,
          "metadata": {},
          "output_type": "execute_result"
        }
      ],
      "source": [
        "df.duplicated().sum()"
      ]
    },
    {
      "cell_type": "code",
      "execution_count": null,
      "metadata": {
        "colab": {
          "base_uri": "https://localhost:8080/",
          "height": 178
        },
        "id": "vw0n03wB1kMF",
        "outputId": "7e65e83f-b669-40d4-aad3-dccdb775e34e"
      },
      "outputs": [
        {
          "data": {
            "text/plain": [
              "sentiment\n",
              "0    20000\n",
              "1    20000\n",
              "Name: count, dtype: int64"
            ]
          },
          "execution_count": 27,
          "metadata": {},
          "output_type": "execute_result"
        }
      ],
      "source": [
        "df['sentiment'].value_counts()"
      ]
    },
    {
      "cell_type": "markdown",
      "metadata": {
        "id": "2nqbPa7LmOj0"
      },
      "source": [
        "## Data Preprocessing"
      ]
    },
    {
      "cell_type": "code",
      "execution_count": null,
      "metadata": {
        "id": "dx5SaYtn1qPP"
      },
      "outputs": [],
      "source": [
        "df.drop_duplicates(inplace = True)"
      ]
    },
    {
      "cell_type": "code",
      "execution_count": null,
      "metadata": {
        "id": "-Wv_o3AoDnYg"
      },
      "outputs": [],
      "source": [
        "def get_stopwords(url):\n",
        "    response = requests.get(url)\n",
        "    response.encoding = 'utf-8' # Ensure proper encoding for Filipino text\n",
        "    stopwords_list = response.text.splitlines()\n",
        "    return stopwords_list\n",
        "\n",
        "# Load Filipino stop words\n",
        "combined_stopwords = set(stopwords.words('english')) | set(get_stopwords(\"https://raw.githubusercontent.com/stopwords-iso/stopwords-tl/master/raw/genediazjr-tagalog.txt\"))"
      ]
    },
    {
      "cell_type": "code",
      "execution_count": null,
      "metadata": {
        "id": "8iMWA1isf79l"
      },
      "outputs": [],
      "source": [
        "bad_words = [\"amputa\",\"animal ka\",\"bilat\",\"binibrocha\",\"bobo\",\"bogo\",\"boto\",\n",
        "             \"brocha\",\"burat\",\"bwesit\",\"bwisit\",\"demonyo ka\",\"engot\",\"etits\",\n",
        "             \"gaga\",\"gagi\",\"gago\",\"habal\",\"hayop ka\",\"hayup\",\"hinampak\",\n",
        "             \"hinayupak\",\"hindot\",\"hindutan\",\"hudas\",\"iniyot\",\"inutel\",\"inutil\",\n",
        "             \"iyot\",\"kagaguhan\",\"kagang\",\"kantot\",\"kantotan\",\"kantut\",\"kantutan\",\n",
        "             \"kaululan\",\"kayat\",\"kiki\",\"kikinginamo\",\"kingina\",\"kupal\",\"leche\",\n",
        "             \"leching\",\"lechugas\",\"lintik\",\"nakakaburat\",\"nimal\",\"ogag\",\"olok\",\n",
        "             \"pakingshet\",\"pakshet\",\"pakyu\",\"pesteng yawa\",\"poke\",\"poki\",\n",
        "             \"pokpok\",\"poyet\",\"pu'keng\",\"pucha\",\"puchanggala\",\"puchangina\",\n",
        "             \"puke\",\"puki\",\"pukinangina\",\"puking\",\"punyeta\",\"puta\",\"putang\",\n",
        "             \"putang ina\",\"putangina\",\"putanginamo\",\"putaragis\",\"putragis\",\n",
        "             \"puyet\",\"ratbu\",\"shunga\",\"sira ulo\",\"siraulo\",\"suso\",\"susu\",\"tae\",\n",
        "             \"taena\",\"tamod\",\"tanga\",\"tangina\",\"taragis\",\"tarantado\",\"tete\",\n",
        "             \"teti\",\"timang\",\"tinil\",\"tite\",\"titi\",\"tungaw\",\"ulol\",\"ulul\",\n",
        "             \"ungas\", \"yawa\"]\n",
        "\n",
        "bad_words_pattern = re.compile(r'\\b(' + '|'.join([re.escape(word) for word in bad_words]) + r')\\b', re.IGNORECASE)"
      ]
    },
    {
      "cell_type": "code",
      "execution_count": null,
      "metadata": {
        "id": "nQtOrkmb_N31"
      },
      "outputs": [],
      "source": [
        "def preprocess_text(text):\n",
        "  # Convert to lowercase\n",
        "  text = text.lower()\n",
        "  text = bad_words_pattern.sub('[PROFANITY]', text)\n",
        "  # remove_digits_urls_special_chars\n",
        "  text = re.sub(r'http\\S+|www\\S+|https\\S+', '', text, flags=re.MULTILINE)\n",
        "  text = re.sub(r'[^a-zA-Z]', ' ', text) # Remove non-alphabetic characters\n",
        "  text = re.sub(r'\\b(\\w+)\\1+\\b', r'\\1', text)  # Reduce repeated words to root word\n",
        "  text = re.sub(r'\\@\\w+|\\#', '', text)\n",
        "  text = re.sub(r'[^\\w\\s]', '', text)\n",
        "  text = text.strip()\n",
        "  text = re.sub(r'\\s+', ' ', text).strip()\n",
        "  text = re.sub(r'\\s+$', '', text)\n",
        "  text = re.sub(r'\\d+', '', text)\n",
        "\n",
        "\n",
        "  text = ' '.join([word for word in text.split() if word not in combined_stopwords])\n",
        "\n",
        "  # Lemmatization\n",
        "  lemmatizer = WordNetLemmatizer()\n",
        "  text = ' '.join([lemmatizer.lemmatize(word) for word in text.split()])\n",
        "\n",
        "  return text"
      ]
    },
    {
      "cell_type": "code",
      "execution_count": null,
      "metadata": {
        "id": "Y5962dQSi0uU"
      },
      "outputs": [],
      "source": [
        "def reduce_repeating_letters(word):\n",
        "    if not word:\n",
        "        return \"\"\n",
        "\n",
        "    reduced_word = [word[0]]  # Start with the first character\n",
        "    for char in word[1:]:\n",
        "        if char != reduced_word[-1]:  # Compare with the last added character\n",
        "            reduced_word.append(char)\n",
        "\n",
        "    return ''.join(reduced_word)"
      ]
    },
    {
      "cell_type": "code",
      "execution_count": null,
      "metadata": {
        "id": "dD905dLEmS-f"
      },
      "outputs": [],
      "source": [
        "df['text'] = df['text'].apply(reduce_repeating_letters)\n",
        "df['text'] = df['text'].apply(preprocess_text)"
      ]
    },
    {
      "cell_type": "markdown",
      "metadata": {
        "id": "5Tajx6MWmv-4"
      },
      "source": [
        "## Training the Model"
      ]
    },
    {
      "cell_type": "code",
      "execution_count": null,
      "metadata": {
        "id": "td47qpa0moPW"
      },
      "outputs": [],
      "source": [
        "X = df['text']\n",
        "y = df['sentiment']"
      ]
    },
    {
      "cell_type": "code",
      "execution_count": null,
      "metadata": {
        "id": "htnNdS4ovjF2"
      },
      "outputs": [],
      "source": [
        "X_train, X_test, y_train, y_test = train_test_split(X, y, test_size=0.2, random_state=42)"
      ]
    },
    {
      "cell_type": "code",
      "execution_count": null,
      "metadata": {
        "id": "3W4KAciEWwXH"
      },
      "outputs": [],
      "source": [
        "combined_stopwords_list = list(combined_stopwords)\n",
        "vectorizer = TfidfVectorizer(ngram_range=(1, 2), max_df=0.9, min_df=5, stop_words=combined_stopwords_list)\n",
        "X_train_transformed = vectorizer.fit_transform(X_train)\n",
        "X_test_transformed = vectorizer.transform(X_test)"
      ]
    },
    {
      "cell_type": "markdown",
      "source": [
        "## Training Baseline Models"
      ],
      "metadata": {
        "id": "-XdeDhsGqCM_"
      }
    },
    {
      "cell_type": "code",
      "source": [
        "models = {\n",
        "    \"Naive Bayes\": MultinomialNB(),\n",
        "    \"Logistic Regression\": LogisticRegression(),\n",
        "    \"SVM\": SVC(kernel='linear')\n",
        "}"
      ],
      "metadata": {
        "id": "z6k68CMAqHa-"
      },
      "execution_count": 92,
      "outputs": []
    },
    {
      "cell_type": "code",
      "source": [
        "def train_and_evaluate_model(model, X_train, y_train, X_test, y_test):\n",
        "    # Train the model\n",
        "    model.fit(X_train, y_train)\n",
        "    # Predict on test data\n",
        "    y_pred = model.predict(X_test)\n",
        "    # Evaluate\n",
        "    accuracy = accuracy_score(y_test, y_pred)\n",
        "    report = classification_report(y_test, y_pred)\n",
        "    return accuracy, report"
      ],
      "metadata": {
        "id": "k0fy5VLiqFUj"
      },
      "execution_count": 93,
      "outputs": []
    },
    {
      "cell_type": "code",
      "source": [
        "for model_name, model in models.items():\n",
        "    accuracy, report = train_and_evaluate_model(model, X_train_transformed, y_train, X_test_transformed, y_test)\n",
        "    print(f\"{model_name}:\\nAccuracy: {accuracy}\\nReport:\\n{report}\\n\")"
      ],
      "metadata": {
        "id": "jb6kKp_Xt9qN",
        "outputId": "95e8632d-7e0e-4ad1-e934-150e74505477",
        "colab": {
          "base_uri": "https://localhost:8080/"
        }
      },
      "execution_count": 94,
      "outputs": [
        {
          "output_type": "stream",
          "name": "stdout",
          "text": [
            "Naive Bayes:\n",
            "Accuracy: 0.96125\n",
            "Report:\n",
            "              precision    recall  f1-score   support\n",
            "\n",
            "           0       0.95      0.98      0.96      3968\n",
            "           1       0.98      0.95      0.96      4032\n",
            "\n",
            "    accuracy                           0.96      8000\n",
            "   macro avg       0.96      0.96      0.96      8000\n",
            "weighted avg       0.96      0.96      0.96      8000\n",
            "\n",
            "\n",
            "Logistic Regression:\n",
            "Accuracy: 0.96575\n",
            "Report:\n",
            "              precision    recall  f1-score   support\n",
            "\n",
            "           0       0.96      0.97      0.97      3968\n",
            "           1       0.97      0.96      0.97      4032\n",
            "\n",
            "    accuracy                           0.97      8000\n",
            "   macro avg       0.97      0.97      0.97      8000\n",
            "weighted avg       0.97      0.97      0.97      8000\n",
            "\n",
            "\n",
            "SVM:\n",
            "Accuracy: 0.9705\n",
            "Report:\n",
            "              precision    recall  f1-score   support\n",
            "\n",
            "           0       0.97      0.97      0.97      3968\n",
            "           1       0.97      0.97      0.97      4032\n",
            "\n",
            "    accuracy                           0.97      8000\n",
            "   macro avg       0.97      0.97      0.97      8000\n",
            "weighted avg       0.97      0.97      0.97      8000\n",
            "\n",
            "\n"
          ]
        }
      ]
    },
    {
      "cell_type": "code",
      "execution_count": null,
      "metadata": {
        "id": "V_RduMCHoO-R"
      },
      "outputs": [],
      "source": [
        "from sklearn.svm import SVC\n",
        "\n",
        "model = SVC()"
      ]
    },
    {
      "cell_type": "markdown",
      "metadata": {
        "id": "jtes2V5DSxbZ"
      },
      "source": [
        "### Hyperparameter Tuning and Cross Validation"
      ]
    },
    {
      "cell_type": "code",
      "execution_count": null,
      "metadata": {
        "id": "gITX979ySxCn"
      },
      "outputs": [],
      "source": [
        "param_grid = {\n",
        "    'C': [0.1, 1, 5, 10, 100],\n",
        "    'kernel': ['linear'],\n",
        "    'gamma': [1, 0.1, 0.01, 0.001, 0.0001, 'scale','auto']\n",
        "}"
      ]
    },
    {
      "cell_type": "code",
      "execution_count": null,
      "metadata": {
        "id": "CqqsNIjGTRHP",
        "outputId": "d25bd54b-430f-4b36-961f-83ef909a79d4"
      },
      "outputs": [
        {
          "name": "stdout",
          "output_type": "stream",
          "text": [
            "Iteration 1:\n",
            "Parameters: {'C': 0.1, 'gamma': 1, 'kernel': 'linear'}\n",
            "Train Accuracy: 0.9662\n",
            "Test Accuracy: 0.9592\n",
            "--------------------------------------------------\n",
            "Iteration 2:\n",
            "Parameters: {'C': 0.1, 'gamma': 0.1, 'kernel': 'linear'}\n",
            "Train Accuracy: 0.9662\n",
            "Test Accuracy: 0.9592\n",
            "--------------------------------------------------\n",
            "Iteration 3:\n",
            "Parameters: {'C': 0.1, 'gamma': 0.01, 'kernel': 'linear'}\n",
            "Train Accuracy: 0.9662\n",
            "Test Accuracy: 0.9592\n",
            "--------------------------------------------------\n",
            "Iteration 4:\n",
            "Parameters: {'C': 0.1, 'gamma': 0.001, 'kernel': 'linear'}\n",
            "Train Accuracy: 0.9662\n",
            "Test Accuracy: 0.9592\n",
            "--------------------------------------------------\n",
            "Iteration 5:\n",
            "Parameters: {'C': 0.1, 'gamma': 0.0001, 'kernel': 'linear'}\n",
            "Train Accuracy: 0.9662\n",
            "Test Accuracy: 0.9592\n",
            "--------------------------------------------------\n",
            "Iteration 6:\n",
            "Parameters: {'C': 0.1, 'gamma': 'scale', 'kernel': 'linear'}\n",
            "Train Accuracy: 0.9662\n",
            "Test Accuracy: 0.9592\n",
            "--------------------------------------------------\n",
            "Iteration 7:\n",
            "Parameters: {'C': 0.1, 'gamma': 'auto', 'kernel': 'linear'}\n",
            "Train Accuracy: 0.9662\n",
            "Test Accuracy: 0.9592\n",
            "--------------------------------------------------\n",
            "Iteration 8:\n",
            "Parameters: {'C': 1, 'gamma': 1, 'kernel': 'linear'}\n",
            "Train Accuracy: 0.9894\n",
            "Test Accuracy: 0.9684\n",
            "--------------------------------------------------\n",
            "Iteration 9:\n",
            "Parameters: {'C': 1, 'gamma': 0.1, 'kernel': 'linear'}\n",
            "Train Accuracy: 0.9894\n",
            "Test Accuracy: 0.9684\n",
            "--------------------------------------------------\n",
            "Iteration 10:\n",
            "Parameters: {'C': 1, 'gamma': 0.01, 'kernel': 'linear'}\n",
            "Train Accuracy: 0.9894\n",
            "Test Accuracy: 0.9684\n",
            "--------------------------------------------------\n",
            "Iteration 11:\n",
            "Parameters: {'C': 1, 'gamma': 0.001, 'kernel': 'linear'}\n",
            "Train Accuracy: 0.9894\n",
            "Test Accuracy: 0.9684\n",
            "--------------------------------------------------\n",
            "Iteration 12:\n",
            "Parameters: {'C': 1, 'gamma': 0.0001, 'kernel': 'linear'}\n",
            "Train Accuracy: 0.9894\n",
            "Test Accuracy: 0.9684\n",
            "--------------------------------------------------\n",
            "Iteration 13:\n",
            "Parameters: {'C': 1, 'gamma': 'scale', 'kernel': 'linear'}\n",
            "Train Accuracy: 0.9894\n",
            "Test Accuracy: 0.9684\n",
            "--------------------------------------------------\n",
            "Iteration 14:\n",
            "Parameters: {'C': 1, 'gamma': 'auto', 'kernel': 'linear'}\n",
            "Train Accuracy: 0.9894\n",
            "Test Accuracy: 0.9684\n",
            "--------------------------------------------------\n",
            "Iteration 15:\n",
            "Parameters: {'C': 5, 'gamma': 1, 'kernel': 'linear'}\n",
            "Train Accuracy: 0.9988\n",
            "Test Accuracy: 0.9617\n",
            "--------------------------------------------------\n",
            "Iteration 16:\n",
            "Parameters: {'C': 5, 'gamma': 0.1, 'kernel': 'linear'}\n",
            "Train Accuracy: 0.9988\n",
            "Test Accuracy: 0.9617\n",
            "--------------------------------------------------\n",
            "Iteration 17:\n",
            "Parameters: {'C': 5, 'gamma': 0.01, 'kernel': 'linear'}\n",
            "Train Accuracy: 0.9988\n",
            "Test Accuracy: 0.9617\n",
            "--------------------------------------------------\n",
            "Iteration 18:\n",
            "Parameters: {'C': 5, 'gamma': 0.001, 'kernel': 'linear'}\n",
            "Train Accuracy: 0.9988\n",
            "Test Accuracy: 0.9617\n",
            "--------------------------------------------------\n",
            "Iteration 19:\n",
            "Parameters: {'C': 5, 'gamma': 0.0001, 'kernel': 'linear'}\n",
            "Train Accuracy: 0.9988\n",
            "Test Accuracy: 0.9617\n",
            "--------------------------------------------------\n",
            "Iteration 20:\n",
            "Parameters: {'C': 5, 'gamma': 'scale', 'kernel': 'linear'}\n",
            "Train Accuracy: 0.9988\n",
            "Test Accuracy: 0.9617\n",
            "--------------------------------------------------\n",
            "Iteration 21:\n",
            "Parameters: {'C': 5, 'gamma': 'auto', 'kernel': 'linear'}\n",
            "Train Accuracy: 0.9988\n",
            "Test Accuracy: 0.9617\n",
            "--------------------------------------------------\n",
            "Iteration 22:\n",
            "Parameters: {'C': 10, 'gamma': 1, 'kernel': 'linear'}\n",
            "Train Accuracy: 0.9995\n",
            "Test Accuracy: 0.9604\n",
            "--------------------------------------------------\n",
            "Iteration 23:\n",
            "Parameters: {'C': 10, 'gamma': 0.1, 'kernel': 'linear'}\n",
            "Train Accuracy: 0.9995\n",
            "Test Accuracy: 0.9604\n",
            "--------------------------------------------------\n",
            "Iteration 24:\n",
            "Parameters: {'C': 10, 'gamma': 0.01, 'kernel': 'linear'}\n",
            "Train Accuracy: 0.9995\n",
            "Test Accuracy: 0.9604\n",
            "--------------------------------------------------\n",
            "Iteration 25:\n",
            "Parameters: {'C': 10, 'gamma': 0.001, 'kernel': 'linear'}\n",
            "Train Accuracy: 0.9995\n",
            "Test Accuracy: 0.9604\n",
            "--------------------------------------------------\n",
            "Iteration 26:\n",
            "Parameters: {'C': 10, 'gamma': 0.0001, 'kernel': 'linear'}\n",
            "Train Accuracy: 0.9995\n",
            "Test Accuracy: 0.9604\n",
            "--------------------------------------------------\n",
            "Iteration 27:\n",
            "Parameters: {'C': 10, 'gamma': 'scale', 'kernel': 'linear'}\n",
            "Train Accuracy: 0.9995\n",
            "Test Accuracy: 0.9604\n",
            "--------------------------------------------------\n",
            "Iteration 28:\n",
            "Parameters: {'C': 10, 'gamma': 'auto', 'kernel': 'linear'}\n",
            "Train Accuracy: 0.9995\n",
            "Test Accuracy: 0.9604\n",
            "--------------------------------------------------\n",
            "Iteration 29:\n",
            "Parameters: {'C': 100, 'gamma': 1, 'kernel': 'linear'}\n",
            "Train Accuracy: 0.9999\n",
            "Test Accuracy: 0.9564\n",
            "--------------------------------------------------\n",
            "Iteration 30:\n",
            "Parameters: {'C': 100, 'gamma': 0.1, 'kernel': 'linear'}\n",
            "Train Accuracy: 0.9999\n",
            "Test Accuracy: 0.9564\n",
            "--------------------------------------------------\n",
            "Iteration 31:\n",
            "Parameters: {'C': 100, 'gamma': 0.01, 'kernel': 'linear'}\n",
            "Train Accuracy: 0.9999\n",
            "Test Accuracy: 0.9564\n",
            "--------------------------------------------------\n",
            "Iteration 32:\n",
            "Parameters: {'C': 100, 'gamma': 0.001, 'kernel': 'linear'}\n",
            "Train Accuracy: 0.9999\n",
            "Test Accuracy: 0.9564\n",
            "--------------------------------------------------\n",
            "Iteration 33:\n",
            "Parameters: {'C': 100, 'gamma': 0.0001, 'kernel': 'linear'}\n",
            "Train Accuracy: 0.9999\n",
            "Test Accuracy: 0.9564\n",
            "--------------------------------------------------\n",
            "Iteration 34:\n",
            "Parameters: {'C': 100, 'gamma': 'scale', 'kernel': 'linear'}\n",
            "Train Accuracy: 0.9999\n",
            "Test Accuracy: 0.9564\n",
            "--------------------------------------------------\n",
            "Iteration 35:\n",
            "Parameters: {'C': 100, 'gamma': 'auto', 'kernel': 'linear'}\n",
            "Train Accuracy: 0.9999\n",
            "Test Accuracy: 0.9564\n",
            "--------------------------------------------------\n"
          ]
        }
      ],
      "source": [
        "grid = GridSearchCV(model, param_grid, refit=True, cv=5, n_jobs= -1, return_train_score=True, verbose=0)\n",
        "\n",
        "# Train with grid search\n",
        "grid.fit(X_train_transformed, y_train)\n",
        "\n",
        "# Access cv_results_ to extract scores\n",
        "cv_results = grid.cv_results_\n",
        "\n",
        "# Iterate over all combinations of parameters\n",
        "for i in range(len(cv_results['params'])):\n",
        "    print(f\"Iteration {i+1}:\")\n",
        "    print(f\"Parameters: {cv_results['params'][i]}\")\n",
        "\n",
        "    # Train accuracy for this iteration\n",
        "    train_acc = cv_results['mean_train_score'][i]\n",
        "    print(f\"Train Accuracy: {train_acc:.4f}\")\n",
        "\n",
        "    # Test accuracy for this iteration (mean cross-validated test score)\n",
        "    test_acc = cv_results['mean_test_score'][i]\n",
        "    print(f\"Test Accuracy: {test_acc:.4f}\")\n",
        "    print('-' * 50)"
      ]
    },
    {
      "cell_type": "code",
      "execution_count": null,
      "metadata": {
        "id": "ZDj97NzcUATq",
        "outputId": "5391e003-22aa-4401-9a15-3be14116e8d9"
      },
      "outputs": [
        {
          "name": "stdout",
          "output_type": "stream",
          "text": [
            "Best Parameters:  {'C': 1, 'gamma': 1, 'kernel': 'linear'}\n",
            "Best Estimator:  SVC(C=1, gamma=1, kernel='linear')\n"
          ]
        }
      ],
      "source": [
        "# Best parameters\n",
        "print(\"Best Parameters: \", grid.best_params_)\n",
        "print(\"Best Estimator: \", grid.best_estimator_)"
      ]
    },
    {
      "cell_type": "code",
      "execution_count": null,
      "metadata": {
        "colab": {
          "base_uri": "https://localhost:8080/",
          "height": 80
        },
        "id": "otRri2vTzLXN",
        "outputId": "d302c40f-2f0c-4505-9333-9eb920a5f098"
      },
      "outputs": [
        {
          "data": {
            "text/html": [
              "<style>#sk-container-id-1 {\n",
              "  /* Definition of color scheme common for light and dark mode */\n",
              "  --sklearn-color-text: black;\n",
              "  --sklearn-color-line: gray;\n",
              "  /* Definition of color scheme for unfitted estimators */\n",
              "  --sklearn-color-unfitted-level-0: #fff5e6;\n",
              "  --sklearn-color-unfitted-level-1: #f6e4d2;\n",
              "  --sklearn-color-unfitted-level-2: #ffe0b3;\n",
              "  --sklearn-color-unfitted-level-3: chocolate;\n",
              "  /* Definition of color scheme for fitted estimators */\n",
              "  --sklearn-color-fitted-level-0: #f0f8ff;\n",
              "  --sklearn-color-fitted-level-1: #d4ebff;\n",
              "  --sklearn-color-fitted-level-2: #b3dbfd;\n",
              "  --sklearn-color-fitted-level-3: cornflowerblue;\n",
              "\n",
              "  /* Specific color for light theme */\n",
              "  --sklearn-color-text-on-default-background: var(--sg-text-color, var(--theme-code-foreground, var(--jp-content-font-color1, black)));\n",
              "  --sklearn-color-background: var(--sg-background-color, var(--theme-background, var(--jp-layout-color0, white)));\n",
              "  --sklearn-color-border-box: var(--sg-text-color, var(--theme-code-foreground, var(--jp-content-font-color1, black)));\n",
              "  --sklearn-color-icon: #696969;\n",
              "\n",
              "  @media (prefers-color-scheme: dark) {\n",
              "    /* Redefinition of color scheme for dark theme */\n",
              "    --sklearn-color-text-on-default-background: var(--sg-text-color, var(--theme-code-foreground, var(--jp-content-font-color1, white)));\n",
              "    --sklearn-color-background: var(--sg-background-color, var(--theme-background, var(--jp-layout-color0, #111)));\n",
              "    --sklearn-color-border-box: var(--sg-text-color, var(--theme-code-foreground, var(--jp-content-font-color1, white)));\n",
              "    --sklearn-color-icon: #878787;\n",
              "  }\n",
              "}\n",
              "\n",
              "#sk-container-id-1 {\n",
              "  color: var(--sklearn-color-text);\n",
              "}\n",
              "\n",
              "#sk-container-id-1 pre {\n",
              "  padding: 0;\n",
              "}\n",
              "\n",
              "#sk-container-id-1 input.sk-hidden--visually {\n",
              "  border: 0;\n",
              "  clip: rect(1px 1px 1px 1px);\n",
              "  clip: rect(1px, 1px, 1px, 1px);\n",
              "  height: 1px;\n",
              "  margin: -1px;\n",
              "  overflow: hidden;\n",
              "  padding: 0;\n",
              "  position: absolute;\n",
              "  width: 1px;\n",
              "}\n",
              "\n",
              "#sk-container-id-1 div.sk-dashed-wrapped {\n",
              "  border: 1px dashed var(--sklearn-color-line);\n",
              "  margin: 0 0.4em 0.5em 0.4em;\n",
              "  box-sizing: border-box;\n",
              "  padding-bottom: 0.4em;\n",
              "  background-color: var(--sklearn-color-background);\n",
              "}\n",
              "\n",
              "#sk-container-id-1 div.sk-container {\n",
              "  /* jupyter's `normalize.less` sets `[hidden] { display: none; }`\n",
              "     but bootstrap.min.css set `[hidden] { display: none !important; }`\n",
              "     so we also need the `!important` here to be able to override the\n",
              "     default hidden behavior on the sphinx rendered scikit-learn.org.\n",
              "     See: https://github.com/scikit-learn/scikit-learn/issues/21755 */\n",
              "  display: inline-block !important;\n",
              "  position: relative;\n",
              "}\n",
              "\n",
              "#sk-container-id-1 div.sk-text-repr-fallback {\n",
              "  display: none;\n",
              "}\n",
              "\n",
              "div.sk-parallel-item,\n",
              "div.sk-serial,\n",
              "div.sk-item {\n",
              "  /* draw centered vertical line to link estimators */\n",
              "  background-image: linear-gradient(var(--sklearn-color-text-on-default-background), var(--sklearn-color-text-on-default-background));\n",
              "  background-size: 2px 100%;\n",
              "  background-repeat: no-repeat;\n",
              "  background-position: center center;\n",
              "}\n",
              "\n",
              "/* Parallel-specific style estimator block */\n",
              "\n",
              "#sk-container-id-1 div.sk-parallel-item::after {\n",
              "  content: \"\";\n",
              "  width: 100%;\n",
              "  border-bottom: 2px solid var(--sklearn-color-text-on-default-background);\n",
              "  flex-grow: 1;\n",
              "}\n",
              "\n",
              "#sk-container-id-1 div.sk-parallel {\n",
              "  display: flex;\n",
              "  align-items: stretch;\n",
              "  justify-content: center;\n",
              "  background-color: var(--sklearn-color-background);\n",
              "  position: relative;\n",
              "}\n",
              "\n",
              "#sk-container-id-1 div.sk-parallel-item {\n",
              "  display: flex;\n",
              "  flex-direction: column;\n",
              "}\n",
              "\n",
              "#sk-container-id-1 div.sk-parallel-item:first-child::after {\n",
              "  align-self: flex-end;\n",
              "  width: 50%;\n",
              "}\n",
              "\n",
              "#sk-container-id-1 div.sk-parallel-item:last-child::after {\n",
              "  align-self: flex-start;\n",
              "  width: 50%;\n",
              "}\n",
              "\n",
              "#sk-container-id-1 div.sk-parallel-item:only-child::after {\n",
              "  width: 0;\n",
              "}\n",
              "\n",
              "/* Serial-specific style estimator block */\n",
              "\n",
              "#sk-container-id-1 div.sk-serial {\n",
              "  display: flex;\n",
              "  flex-direction: column;\n",
              "  align-items: center;\n",
              "  background-color: var(--sklearn-color-background);\n",
              "  padding-right: 1em;\n",
              "  padding-left: 1em;\n",
              "}\n",
              "\n",
              "\n",
              "/* Toggleable style: style used for estimator/Pipeline/ColumnTransformer box that is\n",
              "clickable and can be expanded/collapsed.\n",
              "- Pipeline and ColumnTransformer use this feature and define the default style\n",
              "- Estimators will overwrite some part of the style using the `sk-estimator` class\n",
              "*/\n",
              "\n",
              "/* Pipeline and ColumnTransformer style (default) */\n",
              "\n",
              "#sk-container-id-1 div.sk-toggleable {\n",
              "  /* Default theme specific background. It is overwritten whether we have a\n",
              "  specific estimator or a Pipeline/ColumnTransformer */\n",
              "  background-color: var(--sklearn-color-background);\n",
              "}\n",
              "\n",
              "/* Toggleable label */\n",
              "#sk-container-id-1 label.sk-toggleable__label {\n",
              "  cursor: pointer;\n",
              "  display: block;\n",
              "  width: 100%;\n",
              "  margin-bottom: 0;\n",
              "  padding: 0.5em;\n",
              "  box-sizing: border-box;\n",
              "  text-align: center;\n",
              "}\n",
              "\n",
              "#sk-container-id-1 label.sk-toggleable__label-arrow:before {\n",
              "  /* Arrow on the left of the label */\n",
              "  content: \"▸\";\n",
              "  float: left;\n",
              "  margin-right: 0.25em;\n",
              "  color: var(--sklearn-color-icon);\n",
              "}\n",
              "\n",
              "#sk-container-id-1 label.sk-toggleable__label-arrow:hover:before {\n",
              "  color: var(--sklearn-color-text);\n",
              "}\n",
              "\n",
              "/* Toggleable content - dropdown */\n",
              "\n",
              "#sk-container-id-1 div.sk-toggleable__content {\n",
              "  max-height: 0;\n",
              "  max-width: 0;\n",
              "  overflow: hidden;\n",
              "  text-align: left;\n",
              "  /* unfitted */\n",
              "  background-color: var(--sklearn-color-unfitted-level-0);\n",
              "}\n",
              "\n",
              "#sk-container-id-1 div.sk-toggleable__content.fitted {\n",
              "  /* fitted */\n",
              "  background-color: var(--sklearn-color-fitted-level-0);\n",
              "}\n",
              "\n",
              "#sk-container-id-1 div.sk-toggleable__content pre {\n",
              "  margin: 0.2em;\n",
              "  border-radius: 0.25em;\n",
              "  color: var(--sklearn-color-text);\n",
              "  /* unfitted */\n",
              "  background-color: var(--sklearn-color-unfitted-level-0);\n",
              "}\n",
              "\n",
              "#sk-container-id-1 div.sk-toggleable__content.fitted pre {\n",
              "  /* unfitted */\n",
              "  background-color: var(--sklearn-color-fitted-level-0);\n",
              "}\n",
              "\n",
              "#sk-container-id-1 input.sk-toggleable__control:checked~div.sk-toggleable__content {\n",
              "  /* Expand drop-down */\n",
              "  max-height: 200px;\n",
              "  max-width: 100%;\n",
              "  overflow: auto;\n",
              "}\n",
              "\n",
              "#sk-container-id-1 input.sk-toggleable__control:checked~label.sk-toggleable__label-arrow:before {\n",
              "  content: \"▾\";\n",
              "}\n",
              "\n",
              "/* Pipeline/ColumnTransformer-specific style */\n",
              "\n",
              "#sk-container-id-1 div.sk-label input.sk-toggleable__control:checked~label.sk-toggleable__label {\n",
              "  color: var(--sklearn-color-text);\n",
              "  background-color: var(--sklearn-color-unfitted-level-2);\n",
              "}\n",
              "\n",
              "#sk-container-id-1 div.sk-label.fitted input.sk-toggleable__control:checked~label.sk-toggleable__label {\n",
              "  background-color: var(--sklearn-color-fitted-level-2);\n",
              "}\n",
              "\n",
              "/* Estimator-specific style */\n",
              "\n",
              "/* Colorize estimator box */\n",
              "#sk-container-id-1 div.sk-estimator input.sk-toggleable__control:checked~label.sk-toggleable__label {\n",
              "  /* unfitted */\n",
              "  background-color: var(--sklearn-color-unfitted-level-2);\n",
              "}\n",
              "\n",
              "#sk-container-id-1 div.sk-estimator.fitted input.sk-toggleable__control:checked~label.sk-toggleable__label {\n",
              "  /* fitted */\n",
              "  background-color: var(--sklearn-color-fitted-level-2);\n",
              "}\n",
              "\n",
              "#sk-container-id-1 div.sk-label label.sk-toggleable__label,\n",
              "#sk-container-id-1 div.sk-label label {\n",
              "  /* The background is the default theme color */\n",
              "  color: var(--sklearn-color-text-on-default-background);\n",
              "}\n",
              "\n",
              "/* On hover, darken the color of the background */\n",
              "#sk-container-id-1 div.sk-label:hover label.sk-toggleable__label {\n",
              "  color: var(--sklearn-color-text);\n",
              "  background-color: var(--sklearn-color-unfitted-level-2);\n",
              "}\n",
              "\n",
              "/* Label box, darken color on hover, fitted */\n",
              "#sk-container-id-1 div.sk-label.fitted:hover label.sk-toggleable__label.fitted {\n",
              "  color: var(--sklearn-color-text);\n",
              "  background-color: var(--sklearn-color-fitted-level-2);\n",
              "}\n",
              "\n",
              "/* Estimator label */\n",
              "\n",
              "#sk-container-id-1 div.sk-label label {\n",
              "  font-family: monospace;\n",
              "  font-weight: bold;\n",
              "  display: inline-block;\n",
              "  line-height: 1.2em;\n",
              "}\n",
              "\n",
              "#sk-container-id-1 div.sk-label-container {\n",
              "  text-align: center;\n",
              "}\n",
              "\n",
              "/* Estimator-specific */\n",
              "#sk-container-id-1 div.sk-estimator {\n",
              "  font-family: monospace;\n",
              "  border: 1px dotted var(--sklearn-color-border-box);\n",
              "  border-radius: 0.25em;\n",
              "  box-sizing: border-box;\n",
              "  margin-bottom: 0.5em;\n",
              "  /* unfitted */\n",
              "  background-color: var(--sklearn-color-unfitted-level-0);\n",
              "}\n",
              "\n",
              "#sk-container-id-1 div.sk-estimator.fitted {\n",
              "  /* fitted */\n",
              "  background-color: var(--sklearn-color-fitted-level-0);\n",
              "}\n",
              "\n",
              "/* on hover */\n",
              "#sk-container-id-1 div.sk-estimator:hover {\n",
              "  /* unfitted */\n",
              "  background-color: var(--sklearn-color-unfitted-level-2);\n",
              "}\n",
              "\n",
              "#sk-container-id-1 div.sk-estimator.fitted:hover {\n",
              "  /* fitted */\n",
              "  background-color: var(--sklearn-color-fitted-level-2);\n",
              "}\n",
              "\n",
              "/* Specification for estimator info (e.g. \"i\" and \"?\") */\n",
              "\n",
              "/* Common style for \"i\" and \"?\" */\n",
              "\n",
              ".sk-estimator-doc-link,\n",
              "a:link.sk-estimator-doc-link,\n",
              "a:visited.sk-estimator-doc-link {\n",
              "  float: right;\n",
              "  font-size: smaller;\n",
              "  line-height: 1em;\n",
              "  font-family: monospace;\n",
              "  background-color: var(--sklearn-color-background);\n",
              "  border-radius: 1em;\n",
              "  height: 1em;\n",
              "  width: 1em;\n",
              "  text-decoration: none !important;\n",
              "  margin-left: 1ex;\n",
              "  /* unfitted */\n",
              "  border: var(--sklearn-color-unfitted-level-1) 1pt solid;\n",
              "  color: var(--sklearn-color-unfitted-level-1);\n",
              "}\n",
              "\n",
              ".sk-estimator-doc-link.fitted,\n",
              "a:link.sk-estimator-doc-link.fitted,\n",
              "a:visited.sk-estimator-doc-link.fitted {\n",
              "  /* fitted */\n",
              "  border: var(--sklearn-color-fitted-level-1) 1pt solid;\n",
              "  color: var(--sklearn-color-fitted-level-1);\n",
              "}\n",
              "\n",
              "/* On hover */\n",
              "div.sk-estimator:hover .sk-estimator-doc-link:hover,\n",
              ".sk-estimator-doc-link:hover,\n",
              "div.sk-label-container:hover .sk-estimator-doc-link:hover,\n",
              ".sk-estimator-doc-link:hover {\n",
              "  /* unfitted */\n",
              "  background-color: var(--sklearn-color-unfitted-level-3);\n",
              "  color: var(--sklearn-color-background);\n",
              "  text-decoration: none;\n",
              "}\n",
              "\n",
              "div.sk-estimator.fitted:hover .sk-estimator-doc-link.fitted:hover,\n",
              ".sk-estimator-doc-link.fitted:hover,\n",
              "div.sk-label-container:hover .sk-estimator-doc-link.fitted:hover,\n",
              ".sk-estimator-doc-link.fitted:hover {\n",
              "  /* fitted */\n",
              "  background-color: var(--sklearn-color-fitted-level-3);\n",
              "  color: var(--sklearn-color-background);\n",
              "  text-decoration: none;\n",
              "}\n",
              "\n",
              "/* Span, style for the box shown on hovering the info icon */\n",
              ".sk-estimator-doc-link span {\n",
              "  display: none;\n",
              "  z-index: 9999;\n",
              "  position: relative;\n",
              "  font-weight: normal;\n",
              "  right: .2ex;\n",
              "  padding: .5ex;\n",
              "  margin: .5ex;\n",
              "  width: min-content;\n",
              "  min-width: 20ex;\n",
              "  max-width: 50ex;\n",
              "  color: var(--sklearn-color-text);\n",
              "  box-shadow: 2pt 2pt 4pt #999;\n",
              "  /* unfitted */\n",
              "  background: var(--sklearn-color-unfitted-level-0);\n",
              "  border: .5pt solid var(--sklearn-color-unfitted-level-3);\n",
              "}\n",
              "\n",
              ".sk-estimator-doc-link.fitted span {\n",
              "  /* fitted */\n",
              "  background: var(--sklearn-color-fitted-level-0);\n",
              "  border: var(--sklearn-color-fitted-level-3);\n",
              "}\n",
              "\n",
              ".sk-estimator-doc-link:hover span {\n",
              "  display: block;\n",
              "}\n",
              "\n",
              "/* \"?\"-specific style due to the `<a>` HTML tag */\n",
              "\n",
              "#sk-container-id-1 a.estimator_doc_link {\n",
              "  float: right;\n",
              "  font-size: 1rem;\n",
              "  line-height: 1em;\n",
              "  font-family: monospace;\n",
              "  background-color: var(--sklearn-color-background);\n",
              "  border-radius: 1rem;\n",
              "  height: 1rem;\n",
              "  width: 1rem;\n",
              "  text-decoration: none;\n",
              "  /* unfitted */\n",
              "  color: var(--sklearn-color-unfitted-level-1);\n",
              "  border: var(--sklearn-color-unfitted-level-1) 1pt solid;\n",
              "}\n",
              "\n",
              "#sk-container-id-1 a.estimator_doc_link.fitted {\n",
              "  /* fitted */\n",
              "  border: var(--sklearn-color-fitted-level-1) 1pt solid;\n",
              "  color: var(--sklearn-color-fitted-level-1);\n",
              "}\n",
              "\n",
              "/* On hover */\n",
              "#sk-container-id-1 a.estimator_doc_link:hover {\n",
              "  /* unfitted */\n",
              "  background-color: var(--sklearn-color-unfitted-level-3);\n",
              "  color: var(--sklearn-color-background);\n",
              "  text-decoration: none;\n",
              "}\n",
              "\n",
              "#sk-container-id-1 a.estimator_doc_link.fitted:hover {\n",
              "  /* fitted */\n",
              "  background-color: var(--sklearn-color-fitted-level-3);\n",
              "}\n",
              "</style><div id=\"sk-container-id-1\" class=\"sk-top-container\"><div class=\"sk-text-repr-fallback\"><pre>SVC(C=1, gamma=1, kernel=&#x27;linear&#x27;)</pre><b>In a Jupyter environment, please rerun this cell to show the HTML representation or trust the notebook. <br />On GitHub, the HTML representation is unable to render, please try loading this page with nbviewer.org.</b></div><div class=\"sk-container\" hidden><div class=\"sk-item\"><div class=\"sk-estimator fitted sk-toggleable\"><input class=\"sk-toggleable__control sk-hidden--visually\" id=\"sk-estimator-id-1\" type=\"checkbox\" checked><label for=\"sk-estimator-id-1\" class=\"sk-toggleable__label fitted sk-toggleable__label-arrow fitted\">&nbsp;&nbsp;SVC<a class=\"sk-estimator-doc-link fitted\" rel=\"noreferrer\" target=\"_blank\" href=\"https://scikit-learn.org/1.5/modules/generated/sklearn.svm.SVC.html\">?<span>Documentation for SVC</span></a><span class=\"sk-estimator-doc-link fitted\">i<span>Fitted</span></span></label><div class=\"sk-toggleable__content fitted\"><pre>SVC(C=1, gamma=1, kernel=&#x27;linear&#x27;)</pre></div> </div></div></div></div>"
            ],
            "text/plain": [
              "SVC(C=1, gamma=1, kernel='linear')"
            ]
          },
          "execution_count": 41,
          "metadata": {},
          "output_type": "execute_result"
        }
      ],
      "source": [
        "# Chosen Model\n",
        "model = SVC(C = 1, gamma = 1, kernel = 'linear')\n",
        "model.fit(X_train_transformed, y_train)"
      ]
    },
    {
      "cell_type": "code",
      "execution_count": null,
      "metadata": {
        "id": "Wg31bmSbTnW-",
        "outputId": "a02c7b59-fda8-484e-85a9-0e857ef7ac59"
      },
      "outputs": [
        {
          "name": "stdout",
          "output_type": "stream",
          "text": [
            "[0.97       0.968625   0.966875   0.97225    0.96787098]\n",
            "0.9691241967745968\n",
            "0.0018663495503768966\n"
          ]
        }
      ],
      "source": [
        "# Cross Validation\n",
        "X_transformed = vectorizer.transform(X)\n",
        "cv_scores = cross_val_score(model, X_transformed, y, cv=5)\n",
        "print(cv_scores)\n",
        "print(cv_scores.mean())\n",
        "print(cv_scores.std())"
      ]
    },
    {
      "cell_type": "markdown",
      "metadata": {
        "id": "eSoE2vuWTTDH"
      },
      "source": [
        "## Model Testing"
      ]
    },
    {
      "cell_type": "code",
      "source": [
        "print(X_train.info)"
      ],
      "metadata": {
        "id": "Lp75wkb_qxvL",
        "outputId": "523c13c2-c517-4877-e2df-2fd74c647e30",
        "colab": {
          "base_uri": "https://localhost:8080/"
        }
      },
      "execution_count": 91,
      "outputs": [
        {
          "output_type": "stream",
          "name": "stdout",
          "text": [
            "<bound method Series.info of 5485     maganda quality talaga makapal mukang matibay ...\n",
            "14857    tagal dumating photo video related nmn sakin y...\n",
            "6897     sobrang legit product naka pack sya mayo mabil...\n",
            "17912    okey nman bat ganun box naman pala ung sapatos...\n",
            "19125    di kopa nga nasuot nasira nalaglag agad yung b...\n",
            "                               ...                        \n",
            "6265     god god god bilis seler mag ship bilis shope e...\n",
            "11284    th logi wireles mouse love bought gift recipie...\n",
            "38159    responsible seler product actualy complete may...\n",
            "860      maganda always world magpackage defect fuly tr...\n",
            "15796    sampung inorder kalawang basa dumating tapos m...\n",
            "Name: text, Length: 31999, dtype: object>\n"
          ]
        }
      ]
    },
    {
      "cell_type": "code",
      "execution_count": null,
      "metadata": {
        "colab": {
          "base_uri": "https://localhost:8080/"
        },
        "id": "pVE7g-RzUEK2",
        "outputId": "1f81b56b-672b-43e3-ee1a-f15080a6a925"
      },
      "outputs": [
        {
          "name": "stdout",
          "output_type": "stream",
          "text": [
            "\n",
            "Final Test Accuracy of Best Model: 0.9706\n"
          ]
        }
      ],
      "source": [
        "y_pred = model.predict(X_test_transformed)\n",
        "final_test_acc = accuracy_score(y_test, y_pred)\n",
        "print(f\"\\nFinal Test Accuracy of Best Model: {final_test_acc:.4f}\")"
      ]
    },
    {
      "cell_type": "code",
      "execution_count": null,
      "metadata": {
        "colab": {
          "base_uri": "https://localhost:8080/"
        },
        "id": "dRXMZ8ik2OVY",
        "outputId": "21148eb6-b674-4bb4-c0d1-7e21d7961138"
      },
      "outputs": [
        {
          "name": "stdout",
          "output_type": "stream",
          "text": [
            "              precision    recall  f1-score   support\n",
            "\n",
            "           0       0.97      0.97      0.97      3968\n",
            "           1       0.97      0.97      0.97      4032\n",
            "\n",
            "    accuracy                           0.97      8000\n",
            "   macro avg       0.97      0.97      0.97      8000\n",
            "weighted avg       0.97      0.97      0.97      8000\n",
            "\n"
          ]
        }
      ],
      "source": [
        "print(classification_report(y_test, y_pred))"
      ]
    },
    {
      "cell_type": "code",
      "execution_count": null,
      "metadata": {
        "colab": {
          "base_uri": "https://localhost:8080/",
          "height": 449
        },
        "id": "xffAcqPLpu9W",
        "outputId": "0e71b467-b673-449c-cf1f-02b393760458"
      },
      "outputs": [
        {
          "data": {
            "image/png": "[encoded data removed]",
            "text/plain": [
              "<Figure size 640x480 with 2 Axes>"
            ]
          },
          "metadata": {},
          "output_type": "display_data"
        }
      ],
      "source": [
        "cm = confusion_matrix(y_test, y_pred)\n",
        "\n",
        "disp = ConfusionMatrixDisplay(confusion_matrix=cm, display_labels=model.classes_)\n",
        "disp.plot()\n",
        "plt.show()"
      ]
    },
    {
      "cell_type": "code",
      "execution_count": null,
      "metadata": {
        "id": "uXhpbs4j18QV"
      },
      "outputs": [],
      "source": [
        "input_texts = ['This shit is so damn good product',\n",
        "               'Hindi niyo ako maloloko! Original to noh? Ang ganda!',\n",
        "               'Tangina good shit!', 'Tagal niya dumating pero ang solid hahaha',\n",
        "               'Ito na yon? Hindi man lang tumagal.', 'Anggggg gandaaaaaa.',\n",
        "               'Ayos gumana! natest ko na din sa OS no issues so far, will update if there will be, sana tumagal. dito na kayo bumili maayos kausap si seller tska responsive. order ako ulet SSDs naman.',\n",
        "               'Nagorder ak intel heatsink fan daw. pero hindi intel dumating. scam.',\n",
        "               'Sira yung isang pin buti nalang may available ako na pin sa luma ko ayun nalang ginamit kong pin',\n",
        "               'Good legit seller. Maayos kausap at good quality. Sobrang ganda at ma ayos ang pag ka balot sa item. Uulit ulit ako nag order dito sa shop nya .',\n",
        "               'd ako binigo ni it world , solid as usual , naka discount pa dahil sa vouchers ! good na good :D',\n",
        "               'normal lng ba to? patukin Muna pra gumana?',\n",
        "               'sakto lng..dko sure kung nbagsak kasi may dent s kanto ng unit..ewan kung si seller o si jnt',\n",
        "               'Now lang nagreview kasi gusto ko muna sya itry..so far sa ilang days na gamit ko sya di nman ako binigo..sana mas magtagal pa..legit may kasama ding extra fuse.',\n",
        "               \"good except the BIOS. It's not graphical and very basic AMI BIOS.\",\n",
        "               \"Dalawang USB port lang gumagana, mouse keyboard lang nasaksak ko, Yung apat na USB port di gumagana, sad tyaka Yung power Buti nagamit pa, pero Yung pang restart at LED, ayaw\",\n",
        "               \"Works just fine at first. Pero bigla nalng sumabog. Yikes\"\n",
        "               \"Dalawa binili ko. Yung isa pag open na pag open palang yupi. Awit eh..\",\n",
        "               \"gumagana naman. may dent yung kanto at naka angat yung likod.\",\n",
        "               \"Kung sino man nagbabasa neto, bilhin mo nato. LF kasama sa scam\"\n",
        "               ]"
      ]
    },
    {
      "cell_type": "code",
      "execution_count": null,
      "metadata": {
        "colab": {
          "base_uri": "https://localhost:8080/"
        },
        "id": "brBWYU4EBZkp",
        "outputId": "8581a227-49d8-4ad0-c0a0-5d9224d2d379"
      },
      "outputs": [
        {
          "name": "stdout",
          "output_type": "stream",
          "text": [
            "Review: This shit is so damn good product -> Sentiment: Good\n",
            "Review: Hindi niyo ako maloloko! Original to noh? Ang ganda! -> Sentiment: Good\n",
            "Review: Tangina good shit! -> Sentiment: Good\n",
            "Review: Tagal niya dumating pero ang solid hahaha -> Sentiment: Good\n",
            "Review: Ito na yon? Hindi man lang tumagal. -> Sentiment: Bad\n",
            "Review: Anggggg gandaaaaaa. -> Sentiment: Good\n",
            "Review: Ayos gumana! natest ko na din sa OS no issues so far, will update if there will be, sana tumagal. dito na kayo bumili maayos kausap si seller tska responsive. order ako ulet SSDs naman. -> Sentiment: Good\n",
            "Review: Nagorder ak intel heatsink fan daw. pero hindi intel dumating. scam. -> Sentiment: Good\n",
            "Review: Sira yung isang pin buti nalang may available ako na pin sa luma ko ayun nalang ginamit kong pin -> Sentiment: Bad\n",
            "Review: Good legit seller. Maayos kausap at good quality. Sobrang ganda at ma ayos ang pag ka balot sa item. Uulit ulit ako nag order dito sa shop nya . -> Sentiment: Good\n",
            "Review: d ako binigo ni it world , solid as usual , naka discount pa dahil sa vouchers ! good na good :D -> Sentiment: Good\n",
            "Review: normal lng ba to? patukin Muna pra gumana? -> Sentiment: Bad\n",
            "Review: sakto lng..dko sure kung nbagsak kasi may dent s kanto ng unit..ewan kung si seller o si jnt -> Sentiment: Good\n",
            "Review: Now lang nagreview kasi gusto ko muna sya itry..so far sa ilang days na gamit ko sya di nman ako binigo..sana mas magtagal pa..legit may kasama ding extra fuse. -> Sentiment: Good\n",
            "Review: good except the BIOS. It's not graphical and very basic AMI BIOS. -> Sentiment: Good\n",
            "Review: Dalawang USB port lang gumagana, mouse keyboard lang nasaksak ko, Yung apat na USB port di gumagana, sad tyaka Yung power Buti nagamit pa, pero Yung pang restart at LED, ayaw -> Sentiment: Bad\n",
            "Review: Works just fine at first. Pero bigla nalng sumabog. YikesDalawa binili ko. Yung isa pag open na pag open palang yupi. Awit eh.. -> Sentiment: Bad\n",
            "Review: gumagana naman. may dent yung kanto at naka angat yung likod. -> Sentiment: Bad\n",
            "Review: Kung sino man nagbabasa neto, bilhin mo nato. LF kasama sa scam -> Sentiment: Bad\n"
          ]
        }
      ],
      "source": [
        "for text in input_texts:\n",
        "  input_text = pd.Series(text)\n",
        "  input_text = input_text.apply(reduce_repeating_letters)\n",
        "  input_text = input_text.apply(preprocess_text)\n",
        "  input_text_transform = vectorizer.transform(input_text)\n",
        "  prediction = model.predict(input_text_transform)\n",
        "  if prediction == 0:\n",
        "    print(f\"Review: {text} -> Sentiment: Bad\")\n",
        "  else:\n",
        "    print(f\"Review: {text} -> Sentiment: Good\")"
      ]
    },
    {
      "cell_type": "code",
      "execution_count": null,
      "metadata": {
        "id": "0Hzp_14c3SeD"
      },
      "outputs": [],
      "source": []
    }
  ],
  "metadata": {
    "colab": {
      "provenance": [],
      "include_colab_link": true
    },
    "kernelspec": {
      "display_name": "ccmaclrl_project",
      "language": "python",
      "name": "python3"
    },
    "language_info": {
      "codemirror_mode": {
        "name": "ipython",
        "version": 3
      },
      "file_extension": ".py",
      "mimetype": "text/x-python",
      "name": "python",
      "nbconvert_exporter": "python",
      "pygments_lexer": "ipython3",
      "version": "3.12.7"
    }
  },
  "nbformat": 4,
  "nbformat_minor": 0
}