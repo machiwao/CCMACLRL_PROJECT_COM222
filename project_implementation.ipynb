{
  "cells": [
    {
      "cell_type": "markdown",
      "metadata": {
        "id": "view-in-github",
        "colab_type": "text"
      },
      "source": [
        "<a href=\"https://colab.research.google.com/github/machiwao/CCMACLRL_PROJECT_COM222/blob/main/project_implementation.ipynb\" target=\"_parent\"><img src=\"https://colab.research.google.com/assets/colab-badge.svg\" alt=\"Open In Colab\"/></a>"
      ]
    },
    {
      "cell_type": "markdown",
      "metadata": {
        "id": "K0YQGLr60cTR"
      },
      "source": [
        "# Sentiment Analysis of Shopee Computer Product Reviews"
      ]
    },
    {
      "cell_type": "code",
      "execution_count": 149,
      "metadata": {
        "colab": {
          "base_uri": "https://localhost:8080/"
        },
        "id": "_hiKZECP09Hi",
        "outputId": "27669cc0-c16e-4aae-fe7c-2ecdb570ae53"
      },
      "outputs": [
        {
          "output_type": "stream",
          "name": "stderr",
          "text": [
            "[nltk_data] Downloading package punkt to /root/nltk_data...\n",
            "[nltk_data]   Package punkt is already up-to-date!\n",
            "[nltk_data] Downloading package wordnet to /root/nltk_data...\n",
            "[nltk_data]   Package wordnet is already up-to-date!\n",
            "[nltk_data] Downloading package stopwords to /root/nltk_data...\n",
            "[nltk_data]   Package stopwords is already up-to-date!\n"
          ]
        },
        {
          "output_type": "execute_result",
          "data": {
            "text/plain": [
              "True"
            ]
          },
          "metadata": {},
          "execution_count": 149
        }
      ],
      "source": [
        "import matplotlib.pyplot as plt\n",
        "import pandas as pd\n",
        "import nltk\n",
        "import re\n",
        "import requests\n",
        "\n",
        "from sklearn.feature_extraction.text import TfidfVectorizer\n",
        "from sklearn.metrics import confusion_matrix, accuracy_score, ConfusionMatrixDisplay, classification_report\n",
        "from sklearn.model_selection import train_test_split, GridSearchCV, cross_val_score\n",
        "from sklearn.svm import SVC\n",
        "from sklearn.linear_model import LogisticRegression\n",
        "from sklearn.naive_bayes import MultinomialNB\n",
        "\n",
        "from nltk.stem import WordNetLemmatizer\n",
        "from nltk.corpus import stopwords\n",
        "\n",
        "from scipy.sparse import hstack\n",
        "\n",
        "nltk.download(\"punkt\")\n",
        "nltk.download('wordnet')\n",
        "nltk.download('stopwords')"
      ]
    },
    {
      "cell_type": "markdown",
      "metadata": {
        "id": "GQUWYfaW1Bag"
      },
      "source": [
        "## Data Loading"
      ]
    },
    {
      "cell_type": "code",
      "execution_count": 150,
      "metadata": {
        "id": "3OTFBucg0S-p"
      },
      "outputs": [],
      "source": [
        "df = pd.read_csv(\"hf://datasets/magixxixx/shopee-product-reviews-on-computer-category/combined-dataset-shuffled-cased-40K.csv\")"
      ]
    },
    {
      "cell_type": "code",
      "execution_count": 151,
      "metadata": {
        "colab": {
          "base_uri": "https://localhost:8080/",
          "height": 206
        },
        "id": "TCDSrja51D2N",
        "outputId": "5486693d-9408-4fb0-b14d-057ebbf1423d"
      },
      "outputs": [
        {
          "output_type": "execute_result",
          "data": {
            "text/plain": [
              "                                                text  sentiment\n",
              "0   mali yung dineliver 2l order ko naging 1l bulok!          0\n",
              "1  xl order ko dumating large.nkalagay sa sticker...          0\n",
              "2  sobrang bilis ma lowbat, hindi masyado nakaka ...          0\n",
              "3  first time ko umorder dito. di naman gumagana ...          0\n",
              "4  not well packed, wala itong box. hindi sya ma ...          0"
            ],
            "text/html": [
              "\n",
              "  <div id=\"df-c3aacdfc-33c0-47ff-9e84-4ad67311671c\" class=\"colab-df-container\">\n",
              "    <div>\n",
              "<style scoped>\n",
              "    .dataframe tbody tr th:only-of-type {\n",
              "        vertical-align: middle;\n",
              "    }\n",
              "\n",
              "    .dataframe tbody tr th {\n",
              "        vertical-align: top;\n",
              "    }\n",
              "\n",
              "    .dataframe thead th {\n",
              "        text-align: right;\n",
              "    }\n",
              "</style>\n",
              "<table border=\"1\" class=\"dataframe\">\n",
              "  <thead>\n",
              "    <tr style=\"text-align: right;\">\n",
              "      <th></th>\n",
              "      <th>text</th>\n",
              "      <th>sentiment</th>\n",
              "    </tr>\n",
              "  </thead>\n",
              "  <tbody>\n",
              "    <tr>\n",
              "      <th>0</th>\n",
              "      <td>mali yung dineliver 2l order ko naging 1l bulok!</td>\n",
              "      <td>0</td>\n",
              "    </tr>\n",
              "    <tr>\n",
              "      <th>1</th>\n",
              "      <td>xl order ko dumating large.nkalagay sa sticker...</td>\n",
              "      <td>0</td>\n",
              "    </tr>\n",
              "    <tr>\n",
              "      <th>2</th>\n",
              "      <td>sobrang bilis ma lowbat, hindi masyado nakaka ...</td>\n",
              "      <td>0</td>\n",
              "    </tr>\n",
              "    <tr>\n",
              "      <th>3</th>\n",
              "      <td>first time ko umorder dito. di naman gumagana ...</td>\n",
              "      <td>0</td>\n",
              "    </tr>\n",
              "    <tr>\n",
              "      <th>4</th>\n",
              "      <td>not well packed, wala itong box. hindi sya ma ...</td>\n",
              "      <td>0</td>\n",
              "    </tr>\n",
              "  </tbody>\n",
              "</table>\n",
              "</div>\n",
              "    <div class=\"colab-df-buttons\">\n",
              "\n",
              "  <div class=\"colab-df-container\">\n",
              "    <button class=\"colab-df-convert\" onclick=\"convertToInteractive('df-c3aacdfc-33c0-47ff-9e84-4ad67311671c')\"\n",
              "            title=\"Convert this dataframe to an interactive table.\"\n",
              "            style=\"display:none;\">\n",
              "\n",
              "  <svg xmlns=\"http://www.w3.org/2000/svg\" height=\"24px\" viewBox=\"0 -960 960 960\">\n",
              "    <path d=\"M120-120v-720h720v720H120Zm60-500h600v-160H180v160Zm220 220h160v-160H400v160Zm0 220h160v-160H400v160ZM180-400h160v-160H180v160Zm440 0h160v-160H620v160ZM180-180h160v-160H180v160Zm440 0h160v-160H620v160Z\"/>\n",
              "  </svg>\n",
              "    </button>\n",
              "\n",
              "  <style>\n",
              "    .colab-df-container {\n",
              "      display:flex;\n",
              "      gap: 12px;\n",
              "    }\n",
              "\n",
              "    .colab-df-convert {\n",
              "      background-color: #E8F0FE;\n",
              "      border: none;\n",
              "      border-radius: 50%;\n",
              "      cursor: pointer;\n",
              "      display: none;\n",
              "      fill: #1967D2;\n",
              "      height: 32px;\n",
              "      padding: 0 0 0 0;\n",
              "      width: 32px;\n",
              "    }\n",
              "\n",
              "    .colab-df-convert:hover {\n",
              "      background-color: #E2EBFA;\n",
              "      box-shadow: 0px 1px 2px rgba(60, 64, 67, 0.3), 0px 1px 3px 1px rgba(60, 64, 67, 0.15);\n",
              "      fill: #174EA6;\n",
              "    }\n",
              "\n",
              "    .colab-df-buttons div {\n",
              "      margin-bottom: 4px;\n",
              "    }\n",
              "\n",
              "    [theme=dark] .colab-df-convert {\n",
              "      background-color: #3B4455;\n",
              "      fill: #D2E3FC;\n",
              "    }\n",
              "\n",
              "    [theme=dark] .colab-df-convert:hover {\n",
              "      background-color: #434B5C;\n",
              "      box-shadow: 0px 1px 3px 1px rgba(0, 0, 0, 0.15);\n",
              "      filter: drop-shadow(0px 1px 2px rgba(0, 0, 0, 0.3));\n",
              "      fill: #FFFFFF;\n",
              "    }\n",
              "  </style>\n",
              "\n",
              "    <script>\n",
              "      const buttonEl =\n",
              "        document.querySelector('#df-c3aacdfc-33c0-47ff-9e84-4ad67311671c button.colab-df-convert');\n",
              "      buttonEl.style.display =\n",
              "        google.colab.kernel.accessAllowed ? 'block' : 'none';\n",
              "\n",
              "      async function convertToInteractive(key) {\n",
              "        const element = document.querySelector('#df-c3aacdfc-33c0-47ff-9e84-4ad67311671c');\n",
              "        const dataTable =\n",
              "          await google.colab.kernel.invokeFunction('convertToInteractive',\n",
              "                                                    [key], {});\n",
              "        if (!dataTable) return;\n",
              "\n",
              "        const docLinkHtml = 'Like what you see? Visit the ' +\n",
              "          '<a target=\"_blank\" href=https://colab.research.google.com/notebooks/data_table.ipynb>data table notebook</a>'\n",
              "          + ' to learn more about interactive tables.';\n",
              "        element.innerHTML = '';\n",
              "        dataTable['output_type'] = 'display_data';\n",
              "        await google.colab.output.renderOutput(dataTable, element);\n",
              "        const docLink = document.createElement('div');\n",
              "        docLink.innerHTML = docLinkHtml;\n",
              "        element.appendChild(docLink);\n",
              "      }\n",
              "    </script>\n",
              "  </div>\n",
              "\n",
              "\n",
              "<div id=\"df-02ea1493-eaf3-4a9e-b727-8b45166e6a22\">\n",
              "  <button class=\"colab-df-quickchart\" onclick=\"quickchart('df-02ea1493-eaf3-4a9e-b727-8b45166e6a22')\"\n",
              "            title=\"Suggest charts\"\n",
              "            style=\"display:none;\">\n",
              "\n",
              "<svg xmlns=\"http://www.w3.org/2000/svg\" height=\"24px\"viewBox=\"0 0 24 24\"\n",
              "     width=\"24px\">\n",
              "    <g>\n",
              "        <path d=\"M19 3H5c-1.1 0-2 .9-2 2v14c0 1.1.9 2 2 2h14c1.1 0 2-.9 2-2V5c0-1.1-.9-2-2-2zM9 17H7v-7h2v7zm4 0h-2V7h2v10zm4 0h-2v-4h2v4z\"/>\n",
              "    </g>\n",
              "</svg>\n",
              "  </button>\n",
              "\n",
              "<style>\n",
              "  .colab-df-quickchart {\n",
              "      --bg-color: #E8F0FE;\n",
              "      --fill-color: #1967D2;\n",
              "      --hover-bg-color: #E2EBFA;\n",
              "      --hover-fill-color: #174EA6;\n",
              "      --disabled-fill-color: #AAA;\n",
              "      --disabled-bg-color: #DDD;\n",
              "  }\n",
              "\n",
              "  [theme=dark] .colab-df-quickchart {\n",
              "      --bg-color: #3B4455;\n",
              "      --fill-color: #D2E3FC;\n",
              "      --hover-bg-color: #434B5C;\n",
              "      --hover-fill-color: #FFFFFF;\n",
              "      --disabled-bg-color: #3B4455;\n",
              "      --disabled-fill-color: #666;\n",
              "  }\n",
              "\n",
              "  .colab-df-quickchart {\n",
              "    background-color: var(--bg-color);\n",
              "    border: none;\n",
              "    border-radius: 50%;\n",
              "    cursor: pointer;\n",
              "    display: none;\n",
              "    fill: var(--fill-color);\n",
              "    height: 32px;\n",
              "    padding: 0;\n",
              "    width: 32px;\n",
              "  }\n",
              "\n",
              "  .colab-df-quickchart:hover {\n",
              "    background-color: var(--hover-bg-color);\n",
              "    box-shadow: 0 1px 2px rgba(60, 64, 67, 0.3), 0 1px 3px 1px rgba(60, 64, 67, 0.15);\n",
              "    fill: var(--button-hover-fill-color);\n",
              "  }\n",
              "\n",
              "  .colab-df-quickchart-complete:disabled,\n",
              "  .colab-df-quickchart-complete:disabled:hover {\n",
              "    background-color: var(--disabled-bg-color);\n",
              "    fill: var(--disabled-fill-color);\n",
              "    box-shadow: none;\n",
              "  }\n",
              "\n",
              "  .colab-df-spinner {\n",
              "    border: 2px solid var(--fill-color);\n",
              "    border-color: transparent;\n",
              "    border-bottom-color: var(--fill-color);\n",
              "    animation:\n",
              "      spin 1s steps(1) infinite;\n",
              "  }\n",
              "\n",
              "  @keyframes spin {\n",
              "    0% {\n",
              "      border-color: transparent;\n",
              "      border-bottom-color: var(--fill-color);\n",
              "      border-left-color: var(--fill-color);\n",
              "    }\n",
              "    20% {\n",
              "      border-color: transparent;\n",
              "      border-left-color: var(--fill-color);\n",
              "      border-top-color: var(--fill-color);\n",
              "    }\n",
              "    30% {\n",
              "      border-color: transparent;\n",
              "      border-left-color: var(--fill-color);\n",
              "      border-top-color: var(--fill-color);\n",
              "      border-right-color: var(--fill-color);\n",
              "    }\n",
              "    40% {\n",
              "      border-color: transparent;\n",
              "      border-right-color: var(--fill-color);\n",
              "      border-top-color: var(--fill-color);\n",
              "    }\n",
              "    60% {\n",
              "      border-color: transparent;\n",
              "      border-right-color: var(--fill-color);\n",
              "    }\n",
              "    80% {\n",
              "      border-color: transparent;\n",
              "      border-right-color: var(--fill-color);\n",
              "      border-bottom-color: var(--fill-color);\n",
              "    }\n",
              "    90% {\n",
              "      border-color: transparent;\n",
              "      border-bottom-color: var(--fill-color);\n",
              "    }\n",
              "  }\n",
              "</style>\n",
              "\n",
              "  <script>\n",
              "    async function quickchart(key) {\n",
              "      const quickchartButtonEl =\n",
              "        document.querySelector('#' + key + ' button');\n",
              "      quickchartButtonEl.disabled = true;  // To prevent multiple clicks.\n",
              "      quickchartButtonEl.classList.add('colab-df-spinner');\n",
              "      try {\n",
              "        const charts = await google.colab.kernel.invokeFunction(\n",
              "            'suggestCharts', [key], {});\n",
              "      } catch (error) {\n",
              "        console.error('Error during call to suggestCharts:', error);\n",
              "      }\n",
              "      quickchartButtonEl.classList.remove('colab-df-spinner');\n",
              "      quickchartButtonEl.classList.add('colab-df-quickchart-complete');\n",
              "    }\n",
              "    (() => {\n",
              "      let quickchartButtonEl =\n",
              "        document.querySelector('#df-02ea1493-eaf3-4a9e-b727-8b45166e6a22 button');\n",
              "      quickchartButtonEl.style.display =\n",
              "        google.colab.kernel.accessAllowed ? 'block' : 'none';\n",
              "    })();\n",
              "  </script>\n",
              "</div>\n",
              "\n",
              "    </div>\n",
              "  </div>\n"
            ],
            "application/vnd.google.colaboratory.intrinsic+json": {
              "type": "dataframe",
              "variable_name": "df",
              "summary": "{\n  \"name\": \"df\",\n  \"rows\": 40000,\n  \"fields\": [\n    {\n      \"column\": \"text\",\n      \"properties\": {\n        \"dtype\": \"string\",\n        \"num_unique_values\": 39999,\n        \"samples\": [\n          \"thank you so much dumating na sya need ko sa work to good quality mukhang matibay sya salamat kay seller may panote na Thank you\",\n          \"Ang ganda ng MOBO and RAM  talagang sealed yung package  tho may konting damage lang nang konti yung box ng MOBO sa gilid and sana walang damage ang MOBO at Ram kapag nabuo ko na yung build ko  also laki ng natipid ko sa mga voucher from  and in just day lang dumating na agad kaya thumbs up\",\n          \"sira ung isang zipper. 2nd pic my line xa cmula taas hanggang baba baka design un. sana tinignan muna ni seller para nakita nya kung may sira ba.\"\n        ],\n        \"semantic_type\": \"\",\n        \"description\": \"\"\n      }\n    },\n    {\n      \"column\": \"sentiment\",\n      \"properties\": {\n        \"dtype\": \"number\",\n        \"std\": 0,\n        \"min\": 0,\n        \"max\": 1,\n        \"num_unique_values\": 2,\n        \"samples\": [\n          1,\n          0\n        ],\n        \"semantic_type\": \"\",\n        \"description\": \"\"\n      }\n    }\n  ]\n}"
            }
          },
          "metadata": {},
          "execution_count": 151
        }
      ],
      "source": [
        "df.head()"
      ]
    },
    {
      "cell_type": "code",
      "execution_count": 152,
      "metadata": {
        "colab": {
          "base_uri": "https://localhost:8080/"
        },
        "id": "nCUo6PnJ1Mo8",
        "outputId": "80de3452-869c-48d4-fb5c-e9a8fdde2d2b"
      },
      "outputs": [
        {
          "output_type": "stream",
          "name": "stdout",
          "text": [
            "<class 'pandas.core.frame.DataFrame'>\n",
            "RangeIndex: 40000 entries, 0 to 39999\n",
            "Data columns (total 2 columns):\n",
            " #   Column     Non-Null Count  Dtype \n",
            "---  ------     --------------  ----- \n",
            " 0   text       40000 non-null  object\n",
            " 1   sentiment  40000 non-null  int64 \n",
            "dtypes: int64(1), object(1)\n",
            "memory usage: 625.1+ KB\n"
          ]
        }
      ],
      "source": [
        "df.info()"
      ]
    },
    {
      "cell_type": "code",
      "execution_count": 153,
      "metadata": {
        "colab": {
          "base_uri": "https://localhost:8080/",
          "height": 147
        },
        "id": "KRGImzew1fiZ",
        "outputId": "9281202b-18ca-4b6b-c170-313f3fc3739c"
      },
      "outputs": [
        {
          "output_type": "execute_result",
          "data": {
            "text/plain": [
              "text         0\n",
              "sentiment    0\n",
              "dtype: int64"
            ],
            "text/html": [
              "<div>\n",
              "<style scoped>\n",
              "    .dataframe tbody tr th:only-of-type {\n",
              "        vertical-align: middle;\n",
              "    }\n",
              "\n",
              "    .dataframe tbody tr th {\n",
              "        vertical-align: top;\n",
              "    }\n",
              "\n",
              "    .dataframe thead th {\n",
              "        text-align: right;\n",
              "    }\n",
              "</style>\n",
              "<table border=\"1\" class=\"dataframe\">\n",
              "  <thead>\n",
              "    <tr style=\"text-align: right;\">\n",
              "      <th></th>\n",
              "      <th>0</th>\n",
              "    </tr>\n",
              "  </thead>\n",
              "  <tbody>\n",
              "    <tr>\n",
              "      <th>text</th>\n",
              "      <td>0</td>\n",
              "    </tr>\n",
              "    <tr>\n",
              "      <th>sentiment</th>\n",
              "      <td>0</td>\n",
              "    </tr>\n",
              "  </tbody>\n",
              "</table>\n",
              "</div><br><label><b>dtype:</b> int64</label>"
            ]
          },
          "metadata": {},
          "execution_count": 153
        }
      ],
      "source": [
        "df.isnull().sum()"
      ]
    },
    {
      "cell_type": "code",
      "execution_count": 154,
      "metadata": {
        "colab": {
          "base_uri": "https://localhost:8080/"
        },
        "id": "BTqBKyVD1gXA",
        "outputId": "0f0781d7-7169-4635-c549-bc445b7d67a5"
      },
      "outputs": [
        {
          "output_type": "execute_result",
          "data": {
            "text/plain": [
              "1"
            ]
          },
          "metadata": {},
          "execution_count": 154
        }
      ],
      "source": [
        "df.duplicated().sum()"
      ]
    },
    {
      "cell_type": "code",
      "execution_count": 155,
      "metadata": {
        "colab": {
          "base_uri": "https://localhost:8080/",
          "height": 178
        },
        "id": "vw0n03wB1kMF",
        "outputId": "b1b83441-2f6d-46cf-be43-64791e7667ec"
      },
      "outputs": [
        {
          "output_type": "execute_result",
          "data": {
            "text/plain": [
              "sentiment\n",
              "0    20000\n",
              "1    20000\n",
              "Name: count, dtype: int64"
            ],
            "text/html": [
              "<div>\n",
              "<style scoped>\n",
              "    .dataframe tbody tr th:only-of-type {\n",
              "        vertical-align: middle;\n",
              "    }\n",
              "\n",
              "    .dataframe tbody tr th {\n",
              "        vertical-align: top;\n",
              "    }\n",
              "\n",
              "    .dataframe thead th {\n",
              "        text-align: right;\n",
              "    }\n",
              "</style>\n",
              "<table border=\"1\" class=\"dataframe\">\n",
              "  <thead>\n",
              "    <tr style=\"text-align: right;\">\n",
              "      <th></th>\n",
              "      <th>count</th>\n",
              "    </tr>\n",
              "    <tr>\n",
              "      <th>sentiment</th>\n",
              "      <th></th>\n",
              "    </tr>\n",
              "  </thead>\n",
              "  <tbody>\n",
              "    <tr>\n",
              "      <th>0</th>\n",
              "      <td>20000</td>\n",
              "    </tr>\n",
              "    <tr>\n",
              "      <th>1</th>\n",
              "      <td>20000</td>\n",
              "    </tr>\n",
              "  </tbody>\n",
              "</table>\n",
              "</div><br><label><b>dtype:</b> int64</label>"
            ]
          },
          "metadata": {},
          "execution_count": 155
        }
      ],
      "source": [
        "df['sentiment'].value_counts()"
      ]
    },
    {
      "cell_type": "markdown",
      "metadata": {
        "id": "2nqbPa7LmOj0"
      },
      "source": [
        "## Data Preprocessing"
      ]
    },
    {
      "cell_type": "code",
      "execution_count": 156,
      "metadata": {
        "id": "dx5SaYtn1qPP"
      },
      "outputs": [],
      "source": [
        "df.drop_duplicates(inplace = True)"
      ]
    },
    {
      "cell_type": "code",
      "execution_count": 157,
      "metadata": {
        "id": "-Wv_o3AoDnYg"
      },
      "outputs": [],
      "source": [
        "def get_stopwords(url):\n",
        "    response = requests.get(url)\n",
        "    response.encoding = 'utf-8' # Ensure proper encoding for Filipino text\n",
        "    stopwords_list = response.text.splitlines()\n",
        "    return stopwords_list\n",
        "\n",
        "# Load Filipino stop words\n",
        "combined_stopwords = set(stopwords.words('english')) | set(get_stopwords(\"https://raw.githubusercontent.com/stopwords-iso/stopwords-tl/master/raw/genediazjr-tagalog.txt\"))"
      ]
    },
    {
      "cell_type": "code",
      "execution_count": 158,
      "metadata": {
        "id": "8iMWA1isf79l"
      },
      "outputs": [],
      "source": [
        "bad_words = [\"amputa\",\"animal ka\",\"bilat\",\"binibrocha\",\"bobo\",\"bogo\",\"boto\",\n",
        "             \"brocha\",\"burat\",\"bwesit\",\"bwisit\",\"demonyo ka\",\"engot\",\"etits\",\n",
        "             \"gaga\",\"gagi\",\"gago\",\"habal\",\"hayop ka\",\"hayup\",\"hinampak\",\n",
        "             \"hinayupak\",\"hindot\",\"hindutan\",\"hudas\",\"iniyot\",\"inutel\",\"inutil\",\n",
        "             \"iyot\",\"kagaguhan\",\"kagang\",\"kantot\",\"kantotan\",\"kantut\",\"kantutan\",\n",
        "             \"kaululan\",\"kayat\",\"kiki\",\"kikinginamo\",\"kingina\",\"kupal\",\"leche\",\n",
        "             \"leching\",\"lechugas\",\"lintik\",\"nakakaburat\",\"nimal\",\"ogag\",\"olok\",\n",
        "             \"pakingshet\",\"pakshet\",\"pakyu\",\"pesteng yawa\",\"poke\",\"poki\",\n",
        "             \"pokpok\",\"poyet\",\"pu'keng\",\"pucha\",\"puchanggala\",\"puchangina\",\n",
        "             \"puke\",\"puki\",\"pukinangina\",\"puking\",\"punyeta\",\"puta\",\"putang\",\n",
        "             \"putang ina\",\"putangina\",\"putanginamo\",\"putaragis\",\"putragis\",\n",
        "             \"puyet\",\"ratbu\",\"shunga\",\"sira ulo\",\"siraulo\",\"suso\",\"susu\",\"tae\",\n",
        "             \"taena\",\"tamod\",\"tanga\",\"tangina\",\"taragis\",\"tarantado\",\"tete\",\n",
        "             \"teti\",\"timang\",\"tinil\",\"tite\",\"titi\",\"tungaw\",\"ulol\",\"ulul\",\n",
        "             \"ungas\", \"yawa\"]\n",
        "\n",
        "bad_words_pattern = re.compile(r'\\b(' + '|'.join([re.escape(word) for word in bad_words]) + r')\\b', re.IGNORECASE)"
      ]
    },
    {
      "cell_type": "code",
      "execution_count": 159,
      "metadata": {
        "id": "nQtOrkmb_N31"
      },
      "outputs": [],
      "source": [
        "def preprocess_text(text):\n",
        "  # Convert to lowercase\n",
        "  text = text.lower()\n",
        "  text = bad_words_pattern.sub('[PROFANITY]', text)\n",
        "  # remove_digits_urls_special_chars\n",
        "  text = re.sub(r'http\\S+|www\\S+|https\\S+', '', text, flags=re.MULTILINE)\n",
        "  text = re.sub(r'[^a-zA-Z]', ' ', text) # Remove non-alphabetic characters\n",
        "  text = re.sub(r'\\b(\\w+)\\1+\\b', r'\\1', text)  # Reduce repeated words to root word\n",
        "  text = re.sub(r'\\@\\w+|\\#', '', text)\n",
        "  text = re.sub(r'[^\\w\\s]', '', text)\n",
        "  text = text.strip()\n",
        "  text = re.sub(r'\\s+', ' ', text).strip()\n",
        "  text = re.sub(r'\\s+$', '', text)\n",
        "  text = re.sub(r'\\d+', '', text)\n",
        "\n",
        "\n",
        "  text = ' '.join([word for word in text.split() if word not in combined_stopwords])\n",
        "\n",
        "  # Lemmatization\n",
        "  lemmatizer = WordNetLemmatizer()\n",
        "  text = ' '.join([lemmatizer.lemmatize(word) for word in text.split()])\n",
        "\n",
        "  return text"
      ]
    },
    {
      "cell_type": "code",
      "execution_count": 160,
      "metadata": {
        "id": "Y5962dQSi0uU"
      },
      "outputs": [],
      "source": [
        "def reduce_repeating_letters(word):\n",
        "    if not word:\n",
        "        return \"\"\n",
        "\n",
        "    reduced_word = [word[0]]  # Start with the first character\n",
        "    for char in word[1:]:\n",
        "        if char != reduced_word[-1]:  # Compare with the last added character\n",
        "            reduced_word.append(char)\n",
        "\n",
        "    return ''.join(reduced_word)"
      ]
    },
    {
      "cell_type": "code",
      "execution_count": 161,
      "metadata": {
        "id": "dD905dLEmS-f"
      },
      "outputs": [],
      "source": [
        "df['text'] = df['text'].apply(reduce_repeating_letters)\n",
        "df['text'] = df['text'].apply(preprocess_text)"
      ]
    },
    {
      "cell_type": "markdown",
      "metadata": {
        "id": "5Tajx6MWmv-4"
      },
      "source": [
        "## Training the Model"
      ]
    },
    {
      "cell_type": "code",
      "execution_count": 162,
      "metadata": {
        "id": "td47qpa0moPW"
      },
      "outputs": [],
      "source": [
        "X = df['text']\n",
        "y = df['sentiment']"
      ]
    },
    {
      "cell_type": "code",
      "execution_count": 163,
      "metadata": {
        "id": "htnNdS4ovjF2"
      },
      "outputs": [],
      "source": [
        "X_train, X_test, y_train, y_test = train_test_split(X, y, test_size=0.2, random_state=42)"
      ]
    },
    {
      "cell_type": "code",
      "execution_count": 164,
      "metadata": {
        "id": "bxP11K7HhARK",
        "outputId": "7c54f1b6-6536-4bae-acc8-4fa74feefc99",
        "colab": {
          "base_uri": "https://localhost:8080/"
        }
      },
      "outputs": [
        {
          "output_type": "stream",
          "name": "stdout",
          "text": [
            "(31999,) (31999,)\n",
            "(8000,) (31999,)\n"
          ]
        }
      ],
      "source": [
        "print(X_train.shape, y_train.shape)\n",
        "print(X_test.shape, y_train.shape)"
      ]
    },
    {
      "cell_type": "code",
      "execution_count": 165,
      "metadata": {
        "id": "qVMsSJSShARK",
        "outputId": "7162c810-55ac-44f6-fabf-4a3dadbb6300",
        "colab": {
          "base_uri": "https://localhost:8080/"
        }
      },
      "outputs": [
        {
          "output_type": "stream",
          "name": "stdout",
          "text": [
            "sentiment\n",
            "0    16032\n",
            "1    15967\n",
            "Name: count, dtype: int64\n"
          ]
        }
      ],
      "source": [
        "print(y_train.value_counts())"
      ]
    },
    {
      "cell_type": "code",
      "execution_count": 166,
      "metadata": {
        "id": "LXmDS0zshARK",
        "outputId": "2eb3e760-a1d8-42b4-cf75-8fdec3576acc",
        "colab": {
          "base_uri": "https://localhost:8080/"
        }
      },
      "outputs": [
        {
          "output_type": "stream",
          "name": "stdout",
          "text": [
            "sentiment\n",
            "1    4032\n",
            "0    3968\n",
            "Name: count, dtype: int64\n"
          ]
        }
      ],
      "source": [
        "print(y_test.value_counts())"
      ]
    },
    {
      "cell_type": "code",
      "execution_count": 167,
      "metadata": {
        "id": "3W4KAciEWwXH"
      },
      "outputs": [],
      "source": [
        "combined_stopwords_list = list(combined_stopwords)\n",
        "vectorizer = TfidfVectorizer(ngram_range=(1, 2), max_df=0.9, min_df=5, stop_words=combined_stopwords_list)\n",
        "X_train_transformed = vectorizer.fit_transform(X_train)\n",
        "X_test_transformed = vectorizer.transform(X_test)"
      ]
    },
    {
      "cell_type": "code",
      "source": [
        "print(X_train_transformed.shape)\n",
        "print(X_test_transformed.shape)"
      ],
      "metadata": {
        "id": "LNpB9TXvzb92",
        "outputId": "03e5e151-001f-4011-8cdb-543fd6f77403",
        "colab": {
          "base_uri": "https://localhost:8080/"
        }
      },
      "execution_count": 169,
      "outputs": [
        {
          "output_type": "stream",
          "name": "stdout",
          "text": [
            "(31999, 19431)\n",
            "(8000, 19431)\n"
          ]
        }
      ]
    },
    {
      "cell_type": "markdown",
      "metadata": {
        "id": "SZqADGA-hARL"
      },
      "source": [
        "## Training Baseline Models"
      ]
    },
    {
      "cell_type": "code",
      "execution_count": null,
      "metadata": {
        "id": "5pt8xrhOhARL"
      },
      "outputs": [],
      "source": [
        "models = {\n",
        "    \"Naive Bayes\": MultinomialNB(),\n",
        "    \"Logistic Regression\": LogisticRegression(),\n",
        "    \"SVM\": SVC()\n",
        "}"
      ]
    },
    {
      "cell_type": "code",
      "execution_count": null,
      "metadata": {
        "id": "ayVoWz0KhARL"
      },
      "outputs": [],
      "source": [
        "def train_and_evaluate(model, X_train, y_train, X_test, y_test):\n",
        "    model.fit(X_train, y_train)\n",
        "    y_pred = model.predict(X_test)\n",
        "\n",
        "    accuracy = accuracy_score(y_test, y_pred)\n",
        "    report = classification_report(y_test, y_pred)\n",
        "\n",
        "    return accuracy, report"
      ]
    },
    {
      "cell_type": "code",
      "execution_count": null,
      "metadata": {
        "id": "EW5IJCK1hARL",
        "outputId": "f84f5bbe-a995-473a-95c0-5602a28d9bcc"
      },
      "outputs": [
        {
          "name": "stdout",
          "output_type": "stream",
          "text": [
            "Naive Bayes:\n",
            "Accuracy: 0.96125\n",
            "Report:\n",
            "              precision    recall  f1-score   support\n",
            "\n",
            "           0       0.95      0.98      0.96      3968\n",
            "           1       0.98      0.95      0.96      4032\n",
            "\n",
            "    accuracy                           0.96      8000\n",
            "   macro avg       0.96      0.96      0.96      8000\n",
            "weighted avg       0.96      0.96      0.96      8000\n",
            "\n",
            "\n",
            "Logistic Regression:\n",
            "Accuracy: 0.965375\n",
            "Report:\n",
            "              precision    recall  f1-score   support\n",
            "\n",
            "           0       0.96      0.97      0.97      3968\n",
            "           1       0.97      0.96      0.97      4032\n",
            "\n",
            "    accuracy                           0.97      8000\n",
            "   macro avg       0.97      0.97      0.97      8000\n",
            "weighted avg       0.97      0.97      0.97      8000\n",
            "\n",
            "\n",
            "SVM:\n",
            "Accuracy: 0.96925\n",
            "Report:\n",
            "              precision    recall  f1-score   support\n",
            "\n",
            "           0       0.96      0.98      0.97      3968\n",
            "           1       0.98      0.96      0.97      4032\n",
            "\n",
            "    accuracy                           0.97      8000\n",
            "   macro avg       0.97      0.97      0.97      8000\n",
            "weighted avg       0.97      0.97      0.97      8000\n",
            "\n",
            "\n"
          ]
        }
      ],
      "source": [
        "for model_name, model in models.items():\n",
        "    accuracy, report = train_and_evaluate(model, X_train_transformed, y_train, X_test_transformed, y_test)\n",
        "    print(f\"{model_name}:\\nAccuracy: {accuracy}\\nReport:\\n{report}\\n\")"
      ]
    },
    {
      "cell_type": "code",
      "execution_count": null,
      "metadata": {
        "id": "V_RduMCHoO-R"
      },
      "outputs": [],
      "source": [
        "from sklearn.svm import SVC\n",
        "\n",
        "model = SVC()"
      ]
    },
    {
      "cell_type": "markdown",
      "metadata": {
        "id": "jtes2V5DSxbZ"
      },
      "source": [
        "### Hyperparameter Tuning and Cross Validation"
      ]
    },
    {
      "cell_type": "code",
      "execution_count": null,
      "metadata": {
        "id": "gITX979ySxCn"
      },
      "outputs": [],
      "source": [
        "param_grid = {\n",
        "    'C': [0.1, 1, 5, 10, 100],\n",
        "    'kernel': ['linear', 'rbf'],\n",
        "    'gamma': [1, 0.1, 0.01, 0.001, 0.0001, 'scale','auto']\n",
        "}"
      ]
    },
    {
      "cell_type": "code",
      "execution_count": null,
      "metadata": {
        "id": "CqqsNIjGTRHP",
        "outputId": "0a0fca3a-2aee-48de-c192-223eee713a6b"
      },
      "outputs": [
        {
          "name": "stdout",
          "output_type": "stream",
          "text": [
            "Iteration 1:\n",
            "Parameters: {'C': 0.1, 'gamma': 1, 'kernel': 'linear'}\n",
            "Train Accuracy: 0.9662\n",
            "Test Accuracy: 0.9592\n",
            "--------------------------------------------------\n",
            "Iteration 2:\n",
            "Parameters: {'C': 0.1, 'gamma': 1, 'kernel': 'rbf'}\n",
            "Train Accuracy: 0.9579\n",
            "Test Accuracy: 0.9471\n",
            "--------------------------------------------------\n",
            "Iteration 3:\n",
            "Parameters: {'C': 0.1, 'gamma': 0.1, 'kernel': 'linear'}\n",
            "Train Accuracy: 0.9662\n",
            "Test Accuracy: 0.9592\n",
            "--------------------------------------------------\n",
            "Iteration 4:\n",
            "Parameters: {'C': 0.1, 'gamma': 0.1, 'kernel': 'rbf'}\n",
            "Train Accuracy: 0.9371\n",
            "Test Accuracy: 0.9342\n",
            "--------------------------------------------------\n",
            "Iteration 5:\n",
            "Parameters: {'C': 0.1, 'gamma': 0.01, 'kernel': 'linear'}\n",
            "Train Accuracy: 0.9662\n",
            "Test Accuracy: 0.9592\n",
            "--------------------------------------------------\n",
            "Iteration 6:\n",
            "Parameters: {'C': 0.1, 'gamma': 0.01, 'kernel': 'rbf'}\n",
            "Train Accuracy: 0.5814\n",
            "Test Accuracy: 0.5798\n",
            "--------------------------------------------------\n",
            "Iteration 7:\n",
            "Parameters: {'C': 0.1, 'gamma': 0.001, 'kernel': 'linear'}\n",
            "Train Accuracy: 0.9662\n",
            "Test Accuracy: 0.9592\n",
            "--------------------------------------------------\n",
            "Iteration 8:\n",
            "Parameters: {'C': 0.1, 'gamma': 0.001, 'kernel': 'rbf'}\n",
            "Train Accuracy: 0.5010\n",
            "Test Accuracy: 0.5010\n",
            "--------------------------------------------------\n",
            "Iteration 9:\n",
            "Parameters: {'C': 0.1, 'gamma': 0.0001, 'kernel': 'linear'}\n",
            "Train Accuracy: 0.9662\n",
            "Test Accuracy: 0.9592\n",
            "--------------------------------------------------\n",
            "Iteration 10:\n",
            "Parameters: {'C': 0.1, 'gamma': 0.0001, 'kernel': 'rbf'}\n",
            "Train Accuracy: 0.5010\n",
            "Test Accuracy: 0.5010\n",
            "--------------------------------------------------\n",
            "Iteration 11:\n",
            "Parameters: {'C': 0.1, 'gamma': 'scale', 'kernel': 'linear'}\n",
            "Train Accuracy: 0.9662\n",
            "Test Accuracy: 0.9592\n",
            "--------------------------------------------------\n",
            "Iteration 12:\n",
            "Parameters: {'C': 0.1, 'gamma': 'scale', 'kernel': 'rbf'}\n",
            "Train Accuracy: 0.9579\n",
            "Test Accuracy: 0.9471\n",
            "--------------------------------------------------\n",
            "Iteration 13:\n",
            "Parameters: {'C': 0.1, 'gamma': 'auto', 'kernel': 'linear'}\n",
            "Train Accuracy: 0.9662\n",
            "Test Accuracy: 0.9592\n",
            "--------------------------------------------------\n",
            "Iteration 14:\n",
            "Parameters: {'C': 0.1, 'gamma': 'auto', 'kernel': 'rbf'}\n",
            "Train Accuracy: 0.5010\n",
            "Test Accuracy: 0.5010\n",
            "--------------------------------------------------\n",
            "Iteration 15:\n",
            "Parameters: {'C': 1, 'gamma': 1, 'kernel': 'linear'}\n",
            "Train Accuracy: 0.9894\n",
            "Test Accuracy: 0.9684\n",
            "--------------------------------------------------\n",
            "Iteration 16:\n",
            "Parameters: {'C': 1, 'gamma': 1, 'kernel': 'rbf'}\n",
            "Train Accuracy: 0.9972\n",
            "Test Accuracy: 0.9678\n",
            "--------------------------------------------------\n",
            "Iteration 17:\n",
            "Parameters: {'C': 1, 'gamma': 0.1, 'kernel': 'linear'}\n",
            "Train Accuracy: 0.9894\n",
            "Test Accuracy: 0.9684\n",
            "--------------------------------------------------\n",
            "Iteration 18:\n",
            "Parameters: {'C': 1, 'gamma': 0.1, 'kernel': 'rbf'}\n",
            "Train Accuracy: 0.9736\n",
            "Test Accuracy: 0.9635\n",
            "--------------------------------------------------\n",
            "Iteration 19:\n",
            "Parameters: {'C': 1, 'gamma': 0.01, 'kernel': 'linear'}\n",
            "Train Accuracy: 0.9894\n",
            "Test Accuracy: 0.9684\n",
            "--------------------------------------------------\n",
            "Iteration 20:\n",
            "Parameters: {'C': 1, 'gamma': 0.01, 'kernel': 'rbf'}\n",
            "Train Accuracy: 0.9405\n",
            "Test Accuracy: 0.9378\n",
            "--------------------------------------------------\n",
            "Iteration 21:\n",
            "Parameters: {'C': 1, 'gamma': 0.001, 'kernel': 'linear'}\n",
            "Train Accuracy: 0.9894\n",
            "Test Accuracy: 0.9684\n",
            "--------------------------------------------------\n",
            "Iteration 22:\n",
            "Parameters: {'C': 1, 'gamma': 0.001, 'kernel': 'rbf'}\n",
            "Train Accuracy: 0.5932\n",
            "Test Accuracy: 0.5917\n",
            "--------------------------------------------------\n",
            "Iteration 23:\n",
            "Parameters: {'C': 1, 'gamma': 0.0001, 'kernel': 'linear'}\n",
            "Train Accuracy: 0.9894\n",
            "Test Accuracy: 0.9684\n",
            "--------------------------------------------------\n",
            "Iteration 24:\n",
            "Parameters: {'C': 1, 'gamma': 0.0001, 'kernel': 'rbf'}\n",
            "Train Accuracy: 0.5010\n",
            "Test Accuracy: 0.5010\n",
            "--------------------------------------------------\n",
            "Iteration 25:\n",
            "Parameters: {'C': 1, 'gamma': 'scale', 'kernel': 'linear'}\n",
            "Train Accuracy: 0.9894\n",
            "Test Accuracy: 0.9684\n",
            "--------------------------------------------------\n",
            "Iteration 26:\n",
            "Parameters: {'C': 1, 'gamma': 'scale', 'kernel': 'rbf'}\n",
            "Train Accuracy: 0.9972\n",
            "Test Accuracy: 0.9678\n",
            "--------------------------------------------------\n",
            "Iteration 27:\n",
            "Parameters: {'C': 1, 'gamma': 'auto', 'kernel': 'linear'}\n",
            "Train Accuracy: 0.9894\n",
            "Test Accuracy: 0.9684\n",
            "--------------------------------------------------\n",
            "Iteration 28:\n",
            "Parameters: {'C': 1, 'gamma': 'auto', 'kernel': 'rbf'}\n",
            "Train Accuracy: 0.5010\n",
            "Test Accuracy: 0.5010\n",
            "--------------------------------------------------\n",
            "Iteration 29:\n",
            "Parameters: {'C': 5, 'gamma': 1, 'kernel': 'linear'}\n",
            "Train Accuracy: 0.9988\n",
            "Test Accuracy: 0.9617\n",
            "--------------------------------------------------\n",
            "Iteration 30:\n",
            "Parameters: {'C': 5, 'gamma': 1, 'kernel': 'rbf'}\n",
            "Train Accuracy: 1.0000\n",
            "Test Accuracy: 0.9690\n",
            "--------------------------------------------------\n",
            "Iteration 31:\n",
            "Parameters: {'C': 5, 'gamma': 0.1, 'kernel': 'linear'}\n",
            "Train Accuracy: 0.9988\n",
            "Test Accuracy: 0.9617\n",
            "--------------------------------------------------\n",
            "Iteration 32:\n",
            "Parameters: {'C': 5, 'gamma': 0.1, 'kernel': 'rbf'}\n",
            "Train Accuracy: 0.9901\n",
            "Test Accuracy: 0.9691\n",
            "--------------------------------------------------\n",
            "Iteration 33:\n",
            "Parameters: {'C': 5, 'gamma': 0.01, 'kernel': 'linear'}\n",
            "Train Accuracy: 0.9988\n",
            "Test Accuracy: 0.9617\n",
            "--------------------------------------------------\n",
            "Iteration 34:\n",
            "Parameters: {'C': 5, 'gamma': 0.01, 'kernel': 'rbf'}\n",
            "Train Accuracy: 0.9660\n",
            "Test Accuracy: 0.9589\n",
            "--------------------------------------------------\n",
            "Iteration 35:\n",
            "Parameters: {'C': 5, 'gamma': 0.001, 'kernel': 'linear'}\n",
            "Train Accuracy: 0.9988\n",
            "Test Accuracy: 0.9617\n",
            "--------------------------------------------------\n",
            "Iteration 36:\n",
            "Parameters: {'C': 5, 'gamma': 0.001, 'kernel': 'rbf'}\n",
            "Train Accuracy: 0.9258\n",
            "Test Accuracy: 0.9242\n",
            "--------------------------------------------------\n",
            "Iteration 37:\n",
            "Parameters: {'C': 5, 'gamma': 0.0001, 'kernel': 'linear'}\n",
            "Train Accuracy: 0.9988\n",
            "Test Accuracy: 0.9617\n",
            "--------------------------------------------------\n",
            "Iteration 38:\n",
            "Parameters: {'C': 5, 'gamma': 0.0001, 'kernel': 'rbf'}\n",
            "Train Accuracy: 0.5010\n",
            "Test Accuracy: 0.5010\n",
            "--------------------------------------------------\n",
            "Iteration 39:\n",
            "Parameters: {'C': 5, 'gamma': 'scale', 'kernel': 'linear'}\n",
            "Train Accuracy: 0.9988\n",
            "Test Accuracy: 0.9617\n",
            "--------------------------------------------------\n",
            "Iteration 40:\n",
            "Parameters: {'C': 5, 'gamma': 'scale', 'kernel': 'rbf'}\n",
            "Train Accuracy: 1.0000\n",
            "Test Accuracy: 0.9691\n",
            "--------------------------------------------------\n",
            "Iteration 41:\n",
            "Parameters: {'C': 5, 'gamma': 'auto', 'kernel': 'linear'}\n",
            "Train Accuracy: 0.9988\n",
            "Test Accuracy: 0.9617\n",
            "--------------------------------------------------\n",
            "Iteration 42:\n",
            "Parameters: {'C': 5, 'gamma': 'auto', 'kernel': 'rbf'}\n",
            "Train Accuracy: 0.5010\n",
            "Test Accuracy: 0.5010\n",
            "--------------------------------------------------\n",
            "Iteration 43:\n",
            "Parameters: {'C': 10, 'gamma': 1, 'kernel': 'linear'}\n",
            "Train Accuracy: 0.9995\n",
            "Test Accuracy: 0.9604\n",
            "--------------------------------------------------\n",
            "Iteration 44:\n",
            "Parameters: {'C': 10, 'gamma': 1, 'kernel': 'rbf'}\n",
            "Train Accuracy: 1.0000\n",
            "Test Accuracy: 0.9690\n",
            "--------------------------------------------------\n",
            "Iteration 45:\n",
            "Parameters: {'C': 10, 'gamma': 0.1, 'kernel': 'linear'}\n",
            "Train Accuracy: 0.9995\n",
            "Test Accuracy: 0.9604\n",
            "--------------------------------------------------\n",
            "Iteration 46:\n",
            "Parameters: {'C': 10, 'gamma': 0.1, 'kernel': 'rbf'}\n",
            "Train Accuracy: 0.9960\n",
            "Test Accuracy: 0.9679\n",
            "--------------------------------------------------\n",
            "Iteration 47:\n",
            "Parameters: {'C': 10, 'gamma': 0.01, 'kernel': 'linear'}\n",
            "Train Accuracy: 0.9995\n",
            "Test Accuracy: 0.9604\n",
            "--------------------------------------------------\n",
            "Iteration 48:\n",
            "Parameters: {'C': 10, 'gamma': 0.01, 'kernel': 'rbf'}\n",
            "Train Accuracy: 0.9743\n",
            "Test Accuracy: 0.9645\n",
            "--------------------------------------------------\n",
            "Iteration 49:\n",
            "Parameters: {'C': 10, 'gamma': 0.001, 'kernel': 'linear'}\n",
            "Train Accuracy: 0.9995\n",
            "Test Accuracy: 0.9604\n",
            "--------------------------------------------------\n",
            "Iteration 50:\n",
            "Parameters: {'C': 10, 'gamma': 0.001, 'kernel': 'rbf'}\n",
            "Train Accuracy: 0.9409\n",
            "Test Accuracy: 0.9379\n",
            "--------------------------------------------------\n",
            "Iteration 51:\n",
            "Parameters: {'C': 10, 'gamma': 0.0001, 'kernel': 'linear'}\n",
            "Train Accuracy: 0.9995\n",
            "Test Accuracy: 0.9604\n",
            "--------------------------------------------------\n",
            "Iteration 52:\n",
            "Parameters: {'C': 10, 'gamma': 0.0001, 'kernel': 'rbf'}\n",
            "Train Accuracy: 0.5943\n",
            "Test Accuracy: 0.5927\n",
            "--------------------------------------------------\n",
            "Iteration 53:\n",
            "Parameters: {'C': 10, 'gamma': 'scale', 'kernel': 'linear'}\n",
            "Train Accuracy: 0.9995\n",
            "Test Accuracy: 0.9604\n",
            "--------------------------------------------------\n",
            "Iteration 54:\n",
            "Parameters: {'C': 10, 'gamma': 'scale', 'kernel': 'rbf'}\n",
            "Train Accuracy: 1.0000\n",
            "Test Accuracy: 0.9690\n",
            "--------------------------------------------------\n",
            "Iteration 55:\n",
            "Parameters: {'C': 10, 'gamma': 'auto', 'kernel': 'linear'}\n",
            "Train Accuracy: 0.9995\n",
            "Test Accuracy: 0.9604\n",
            "--------------------------------------------------\n",
            "Iteration 56:\n",
            "Parameters: {'C': 10, 'gamma': 'auto', 'kernel': 'rbf'}\n",
            "Train Accuracy: 0.5010\n",
            "Test Accuracy: 0.5010\n",
            "--------------------------------------------------\n",
            "Iteration 57:\n",
            "Parameters: {'C': 100, 'gamma': 1, 'kernel': 'linear'}\n",
            "Train Accuracy: 0.9999\n",
            "Test Accuracy: 0.9564\n",
            "--------------------------------------------------\n",
            "Iteration 58:\n",
            "Parameters: {'C': 100, 'gamma': 1, 'kernel': 'rbf'}\n",
            "Train Accuracy: 1.0000\n",
            "Test Accuracy: 0.9690\n",
            "--------------------------------------------------\n",
            "Iteration 59:\n",
            "Parameters: {'C': 100, 'gamma': 0.1, 'kernel': 'linear'}\n",
            "Train Accuracy: 0.9999\n",
            "Test Accuracy: 0.9564\n",
            "--------------------------------------------------\n",
            "Iteration 60:\n",
            "Parameters: {'C': 100, 'gamma': 0.1, 'kernel': 'rbf'}\n",
            "Train Accuracy: 1.0000\n",
            "Test Accuracy: 0.9630\n",
            "--------------------------------------------------\n",
            "Iteration 61:\n",
            "Parameters: {'C': 100, 'gamma': 0.01, 'kernel': 'linear'}\n",
            "Train Accuracy: 0.9999\n",
            "Test Accuracy: 0.9564\n",
            "--------------------------------------------------\n",
            "Iteration 62:\n",
            "Parameters: {'C': 100, 'gamma': 0.01, 'kernel': 'rbf'}\n",
            "Train Accuracy: 0.9949\n",
            "Test Accuracy: 0.9669\n",
            "--------------------------------------------------\n",
            "Iteration 63:\n",
            "Parameters: {'C': 100, 'gamma': 0.001, 'kernel': 'linear'}\n",
            "Train Accuracy: 0.9999\n",
            "Test Accuracy: 0.9564\n",
            "--------------------------------------------------\n",
            "Iteration 64:\n",
            "Parameters: {'C': 100, 'gamma': 0.001, 'kernel': 'rbf'}\n",
            "Train Accuracy: 0.9744\n",
            "Test Accuracy: 0.9646\n",
            "--------------------------------------------------\n",
            "Iteration 65:\n",
            "Parameters: {'C': 100, 'gamma': 0.0001, 'kernel': 'linear'}\n",
            "Train Accuracy: 0.9999\n",
            "Test Accuracy: 0.9564\n",
            "--------------------------------------------------\n",
            "Iteration 66:\n",
            "Parameters: {'C': 100, 'gamma': 0.0001, 'kernel': 'rbf'}\n",
            "Train Accuracy: 0.9410\n",
            "Test Accuracy: 0.9380\n",
            "--------------------------------------------------\n",
            "Iteration 67:\n",
            "Parameters: {'C': 100, 'gamma': 'scale', 'kernel': 'linear'}\n",
            "Train Accuracy: 0.9999\n",
            "Test Accuracy: 0.9564\n",
            "--------------------------------------------------\n",
            "Iteration 68:\n",
            "Parameters: {'C': 100, 'gamma': 'scale', 'kernel': 'rbf'}\n",
            "Train Accuracy: 1.0000\n",
            "Test Accuracy: 0.9690\n",
            "--------------------------------------------------\n",
            "Iteration 69:\n",
            "Parameters: {'C': 100, 'gamma': 'auto', 'kernel': 'linear'}\n",
            "Train Accuracy: 0.9999\n",
            "Test Accuracy: 0.9564\n",
            "--------------------------------------------------\n",
            "Iteration 70:\n",
            "Parameters: {'C': 100, 'gamma': 'auto', 'kernel': 'rbf'}\n",
            "Train Accuracy: 0.9266\n",
            "Test Accuracy: 0.9247\n",
            "--------------------------------------------------\n"
          ]
        }
      ],
      "source": [
        "grid = GridSearchCV(model, param_grid, refit=True, cv=5, n_jobs= -1, return_train_score=True, verbose=0)\n",
        "\n",
        "# Train with grid search\n",
        "grid.fit(X_train_transformed, y_train)\n",
        "\n",
        "# Access cv_results_ to extract scores\n",
        "cv_results = grid.cv_results_\n",
        "\n",
        "# Iterate over all combinations of parameters\n",
        "for i in range(len(cv_results['params'])):\n",
        "    print(f\"Iteration {i+1}:\")\n",
        "    print(f\"Parameters: {cv_results['params'][i]}\")\n",
        "\n",
        "    # Train accuracy for this iteration\n",
        "    train_acc = cv_results['mean_train_score'][i]\n",
        "    print(f\"Train Accuracy: {train_acc:.4f}\")\n",
        "\n",
        "    # Test accuracy for this iteration (mean cross-validated test score)\n",
        "    test_acc = cv_results['mean_test_score'][i]\n",
        "    print(f\"Test Accuracy: {test_acc:.4f}\")\n",
        "    print('-' * 50)"
      ]
    },
    {
      "cell_type": "code",
      "execution_count": null,
      "metadata": {
        "id": "ZDj97NzcUATq",
        "outputId": "3c387663-811c-4097-e4cf-b739cbc7ffd1"
      },
      "outputs": [
        {
          "name": "stdout",
          "output_type": "stream",
          "text": [
            "Best Parameters:  {'C': 5, 'gamma': 0.1, 'kernel': 'rbf'}\n",
            "Best Estimator:  SVC(C=5, gamma=0.1)\n"
          ]
        }
      ],
      "source": [
        "# Best parameters\n",
        "print(\"Best Parameters: \", grid.best_params_)\n",
        "print(\"Best Estimator: \", grid.best_estimator_)"
      ]
    },
    {
      "cell_type": "code",
      "execution_count": 181,
      "metadata": {
        "colab": {
          "base_uri": "https://localhost:8080/",
          "height": 80
        },
        "id": "otRri2vTzLXN",
        "outputId": "e6abf4d3-27b3-455c-d1d3-47c88f208ae0"
      },
      "outputs": [
        {
          "output_type": "execute_result",
          "data": {
            "text/plain": [
              "SVC(C=5, gamma=0.1)"
            ],
            "text/html": [
              "<style>#sk-container-id-6 {\n",
              "  /* Definition of color scheme common for light and dark mode */\n",
              "  --sklearn-color-text: black;\n",
              "  --sklearn-color-line: gray;\n",
              "  /* Definition of color scheme for unfitted estimators */\n",
              "  --sklearn-color-unfitted-level-0: #fff5e6;\n",
              "  --sklearn-color-unfitted-level-1: #f6e4d2;\n",
              "  --sklearn-color-unfitted-level-2: #ffe0b3;\n",
              "  --sklearn-color-unfitted-level-3: chocolate;\n",
              "  /* Definition of color scheme for fitted estimators */\n",
              "  --sklearn-color-fitted-level-0: #f0f8ff;\n",
              "  --sklearn-color-fitted-level-1: #d4ebff;\n",
              "  --sklearn-color-fitted-level-2: #b3dbfd;\n",
              "  --sklearn-color-fitted-level-3: cornflowerblue;\n",
              "\n",
              "  /* Specific color for light theme */\n",
              "  --sklearn-color-text-on-default-background: var(--sg-text-color, var(--theme-code-foreground, var(--jp-content-font-color1, black)));\n",
              "  --sklearn-color-background: var(--sg-background-color, var(--theme-background, var(--jp-layout-color0, white)));\n",
              "  --sklearn-color-border-box: var(--sg-text-color, var(--theme-code-foreground, var(--jp-content-font-color1, black)));\n",
              "  --sklearn-color-icon: #696969;\n",
              "\n",
              "  @media (prefers-color-scheme: dark) {\n",
              "    /* Redefinition of color scheme for dark theme */\n",
              "    --sklearn-color-text-on-default-background: var(--sg-text-color, var(--theme-code-foreground, var(--jp-content-font-color1, white)));\n",
              "    --sklearn-color-background: var(--sg-background-color, var(--theme-background, var(--jp-layout-color0, #111)));\n",
              "    --sklearn-color-border-box: var(--sg-text-color, var(--theme-code-foreground, var(--jp-content-font-color1, white)));\n",
              "    --sklearn-color-icon: #878787;\n",
              "  }\n",
              "}\n",
              "\n",
              "#sk-container-id-6 {\n",
              "  color: var(--sklearn-color-text);\n",
              "}\n",
              "\n",
              "#sk-container-id-6 pre {\n",
              "  padding: 0;\n",
              "}\n",
              "\n",
              "#sk-container-id-6 input.sk-hidden--visually {\n",
              "  border: 0;\n",
              "  clip: rect(1px 1px 1px 1px);\n",
              "  clip: rect(1px, 1px, 1px, 1px);\n",
              "  height: 1px;\n",
              "  margin: -1px;\n",
              "  overflow: hidden;\n",
              "  padding: 0;\n",
              "  position: absolute;\n",
              "  width: 1px;\n",
              "}\n",
              "\n",
              "#sk-container-id-6 div.sk-dashed-wrapped {\n",
              "  border: 1px dashed var(--sklearn-color-line);\n",
              "  margin: 0 0.4em 0.5em 0.4em;\n",
              "  box-sizing: border-box;\n",
              "  padding-bottom: 0.4em;\n",
              "  background-color: var(--sklearn-color-background);\n",
              "}\n",
              "\n",
              "#sk-container-id-6 div.sk-container {\n",
              "  /* jupyter's `normalize.less` sets `[hidden] { display: none; }`\n",
              "     but bootstrap.min.css set `[hidden] { display: none !important; }`\n",
              "     so we also need the `!important` here to be able to override the\n",
              "     default hidden behavior on the sphinx rendered scikit-learn.org.\n",
              "     See: https://github.com/scikit-learn/scikit-learn/issues/21755 */\n",
              "  display: inline-block !important;\n",
              "  position: relative;\n",
              "}\n",
              "\n",
              "#sk-container-id-6 div.sk-text-repr-fallback {\n",
              "  display: none;\n",
              "}\n",
              "\n",
              "div.sk-parallel-item,\n",
              "div.sk-serial,\n",
              "div.sk-item {\n",
              "  /* draw centered vertical line to link estimators */\n",
              "  background-image: linear-gradient(var(--sklearn-color-text-on-default-background), var(--sklearn-color-text-on-default-background));\n",
              "  background-size: 2px 100%;\n",
              "  background-repeat: no-repeat;\n",
              "  background-position: center center;\n",
              "}\n",
              "\n",
              "/* Parallel-specific style estimator block */\n",
              "\n",
              "#sk-container-id-6 div.sk-parallel-item::after {\n",
              "  content: \"\";\n",
              "  width: 100%;\n",
              "  border-bottom: 2px solid var(--sklearn-color-text-on-default-background);\n",
              "  flex-grow: 1;\n",
              "}\n",
              "\n",
              "#sk-container-id-6 div.sk-parallel {\n",
              "  display: flex;\n",
              "  align-items: stretch;\n",
              "  justify-content: center;\n",
              "  background-color: var(--sklearn-color-background);\n",
              "  position: relative;\n",
              "}\n",
              "\n",
              "#sk-container-id-6 div.sk-parallel-item {\n",
              "  display: flex;\n",
              "  flex-direction: column;\n",
              "}\n",
              "\n",
              "#sk-container-id-6 div.sk-parallel-item:first-child::after {\n",
              "  align-self: flex-end;\n",
              "  width: 50%;\n",
              "}\n",
              "\n",
              "#sk-container-id-6 div.sk-parallel-item:last-child::after {\n",
              "  align-self: flex-start;\n",
              "  width: 50%;\n",
              "}\n",
              "\n",
              "#sk-container-id-6 div.sk-parallel-item:only-child::after {\n",
              "  width: 0;\n",
              "}\n",
              "\n",
              "/* Serial-specific style estimator block */\n",
              "\n",
              "#sk-container-id-6 div.sk-serial {\n",
              "  display: flex;\n",
              "  flex-direction: column;\n",
              "  align-items: center;\n",
              "  background-color: var(--sklearn-color-background);\n",
              "  padding-right: 1em;\n",
              "  padding-left: 1em;\n",
              "}\n",
              "\n",
              "\n",
              "/* Toggleable style: style used for estimator/Pipeline/ColumnTransformer box that is\n",
              "clickable and can be expanded/collapsed.\n",
              "- Pipeline and ColumnTransformer use this feature and define the default style\n",
              "- Estimators will overwrite some part of the style using the `sk-estimator` class\n",
              "*/\n",
              "\n",
              "/* Pipeline and ColumnTransformer style (default) */\n",
              "\n",
              "#sk-container-id-6 div.sk-toggleable {\n",
              "  /* Default theme specific background. It is overwritten whether we have a\n",
              "  specific estimator or a Pipeline/ColumnTransformer */\n",
              "  background-color: var(--sklearn-color-background);\n",
              "}\n",
              "\n",
              "/* Toggleable label */\n",
              "#sk-container-id-6 label.sk-toggleable__label {\n",
              "  cursor: pointer;\n",
              "  display: block;\n",
              "  width: 100%;\n",
              "  margin-bottom: 0;\n",
              "  padding: 0.5em;\n",
              "  box-sizing: border-box;\n",
              "  text-align: center;\n",
              "}\n",
              "\n",
              "#sk-container-id-6 label.sk-toggleable__label-arrow:before {\n",
              "  /* Arrow on the left of the label */\n",
              "  content: \"▸\";\n",
              "  float: left;\n",
              "  margin-right: 0.25em;\n",
              "  color: var(--sklearn-color-icon);\n",
              "}\n",
              "\n",
              "#sk-container-id-6 label.sk-toggleable__label-arrow:hover:before {\n",
              "  color: var(--sklearn-color-text);\n",
              "}\n",
              "\n",
              "/* Toggleable content - dropdown */\n",
              "\n",
              "#sk-container-id-6 div.sk-toggleable__content {\n",
              "  max-height: 0;\n",
              "  max-width: 0;\n",
              "  overflow: hidden;\n",
              "  text-align: left;\n",
              "  /* unfitted */\n",
              "  background-color: var(--sklearn-color-unfitted-level-0);\n",
              "}\n",
              "\n",
              "#sk-container-id-6 div.sk-toggleable__content.fitted {\n",
              "  /* fitted */\n",
              "  background-color: var(--sklearn-color-fitted-level-0);\n",
              "}\n",
              "\n",
              "#sk-container-id-6 div.sk-toggleable__content pre {\n",
              "  margin: 0.2em;\n",
              "  border-radius: 0.25em;\n",
              "  color: var(--sklearn-color-text);\n",
              "  /* unfitted */\n",
              "  background-color: var(--sklearn-color-unfitted-level-0);\n",
              "}\n",
              "\n",
              "#sk-container-id-6 div.sk-toggleable__content.fitted pre {\n",
              "  /* unfitted */\n",
              "  background-color: var(--sklearn-color-fitted-level-0);\n",
              "}\n",
              "\n",
              "#sk-container-id-6 input.sk-toggleable__control:checked~div.sk-toggleable__content {\n",
              "  /* Expand drop-down */\n",
              "  max-height: 200px;\n",
              "  max-width: 100%;\n",
              "  overflow: auto;\n",
              "}\n",
              "\n",
              "#sk-container-id-6 input.sk-toggleable__control:checked~label.sk-toggleable__label-arrow:before {\n",
              "  content: \"▾\";\n",
              "}\n",
              "\n",
              "/* Pipeline/ColumnTransformer-specific style */\n",
              "\n",
              "#sk-container-id-6 div.sk-label input.sk-toggleable__control:checked~label.sk-toggleable__label {\n",
              "  color: var(--sklearn-color-text);\n",
              "  background-color: var(--sklearn-color-unfitted-level-2);\n",
              "}\n",
              "\n",
              "#sk-container-id-6 div.sk-label.fitted input.sk-toggleable__control:checked~label.sk-toggleable__label {\n",
              "  background-color: var(--sklearn-color-fitted-level-2);\n",
              "}\n",
              "\n",
              "/* Estimator-specific style */\n",
              "\n",
              "/* Colorize estimator box */\n",
              "#sk-container-id-6 div.sk-estimator input.sk-toggleable__control:checked~label.sk-toggleable__label {\n",
              "  /* unfitted */\n",
              "  background-color: var(--sklearn-color-unfitted-level-2);\n",
              "}\n",
              "\n",
              "#sk-container-id-6 div.sk-estimator.fitted input.sk-toggleable__control:checked~label.sk-toggleable__label {\n",
              "  /* fitted */\n",
              "  background-color: var(--sklearn-color-fitted-level-2);\n",
              "}\n",
              "\n",
              "#sk-container-id-6 div.sk-label label.sk-toggleable__label,\n",
              "#sk-container-id-6 div.sk-label label {\n",
              "  /* The background is the default theme color */\n",
              "  color: var(--sklearn-color-text-on-default-background);\n",
              "}\n",
              "\n",
              "/* On hover, darken the color of the background */\n",
              "#sk-container-id-6 div.sk-label:hover label.sk-toggleable__label {\n",
              "  color: var(--sklearn-color-text);\n",
              "  background-color: var(--sklearn-color-unfitted-level-2);\n",
              "}\n",
              "\n",
              "/* Label box, darken color on hover, fitted */\n",
              "#sk-container-id-6 div.sk-label.fitted:hover label.sk-toggleable__label.fitted {\n",
              "  color: var(--sklearn-color-text);\n",
              "  background-color: var(--sklearn-color-fitted-level-2);\n",
              "}\n",
              "\n",
              "/* Estimator label */\n",
              "\n",
              "#sk-container-id-6 div.sk-label label {\n",
              "  font-family: monospace;\n",
              "  font-weight: bold;\n",
              "  display: inline-block;\n",
              "  line-height: 1.2em;\n",
              "}\n",
              "\n",
              "#sk-container-id-6 div.sk-label-container {\n",
              "  text-align: center;\n",
              "}\n",
              "\n",
              "/* Estimator-specific */\n",
              "#sk-container-id-6 div.sk-estimator {\n",
              "  font-family: monospace;\n",
              "  border: 1px dotted var(--sklearn-color-border-box);\n",
              "  border-radius: 0.25em;\n",
              "  box-sizing: border-box;\n",
              "  margin-bottom: 0.5em;\n",
              "  /* unfitted */\n",
              "  background-color: var(--sklearn-color-unfitted-level-0);\n",
              "}\n",
              "\n",
              "#sk-container-id-6 div.sk-estimator.fitted {\n",
              "  /* fitted */\n",
              "  background-color: var(--sklearn-color-fitted-level-0);\n",
              "}\n",
              "\n",
              "/* on hover */\n",
              "#sk-container-id-6 div.sk-estimator:hover {\n",
              "  /* unfitted */\n",
              "  background-color: var(--sklearn-color-unfitted-level-2);\n",
              "}\n",
              "\n",
              "#sk-container-id-6 div.sk-estimator.fitted:hover {\n",
              "  /* fitted */\n",
              "  background-color: var(--sklearn-color-fitted-level-2);\n",
              "}\n",
              "\n",
              "/* Specification for estimator info (e.g. \"i\" and \"?\") */\n",
              "\n",
              "/* Common style for \"i\" and \"?\" */\n",
              "\n",
              ".sk-estimator-doc-link,\n",
              "a:link.sk-estimator-doc-link,\n",
              "a:visited.sk-estimator-doc-link {\n",
              "  float: right;\n",
              "  font-size: smaller;\n",
              "  line-height: 1em;\n",
              "  font-family: monospace;\n",
              "  background-color: var(--sklearn-color-background);\n",
              "  border-radius: 1em;\n",
              "  height: 1em;\n",
              "  width: 1em;\n",
              "  text-decoration: none !important;\n",
              "  margin-left: 1ex;\n",
              "  /* unfitted */\n",
              "  border: var(--sklearn-color-unfitted-level-1) 1pt solid;\n",
              "  color: var(--sklearn-color-unfitted-level-1);\n",
              "}\n",
              "\n",
              ".sk-estimator-doc-link.fitted,\n",
              "a:link.sk-estimator-doc-link.fitted,\n",
              "a:visited.sk-estimator-doc-link.fitted {\n",
              "  /* fitted */\n",
              "  border: var(--sklearn-color-fitted-level-1) 1pt solid;\n",
              "  color: var(--sklearn-color-fitted-level-1);\n",
              "}\n",
              "\n",
              "/* On hover */\n",
              "div.sk-estimator:hover .sk-estimator-doc-link:hover,\n",
              ".sk-estimator-doc-link:hover,\n",
              "div.sk-label-container:hover .sk-estimator-doc-link:hover,\n",
              ".sk-estimator-doc-link:hover {\n",
              "  /* unfitted */\n",
              "  background-color: var(--sklearn-color-unfitted-level-3);\n",
              "  color: var(--sklearn-color-background);\n",
              "  text-decoration: none;\n",
              "}\n",
              "\n",
              "div.sk-estimator.fitted:hover .sk-estimator-doc-link.fitted:hover,\n",
              ".sk-estimator-doc-link.fitted:hover,\n",
              "div.sk-label-container:hover .sk-estimator-doc-link.fitted:hover,\n",
              ".sk-estimator-doc-link.fitted:hover {\n",
              "  /* fitted */\n",
              "  background-color: var(--sklearn-color-fitted-level-3);\n",
              "  color: var(--sklearn-color-background);\n",
              "  text-decoration: none;\n",
              "}\n",
              "\n",
              "/* Span, style for the box shown on hovering the info icon */\n",
              ".sk-estimator-doc-link span {\n",
              "  display: none;\n",
              "  z-index: 9999;\n",
              "  position: relative;\n",
              "  font-weight: normal;\n",
              "  right: .2ex;\n",
              "  padding: .5ex;\n",
              "  margin: .5ex;\n",
              "  width: min-content;\n",
              "  min-width: 20ex;\n",
              "  max-width: 50ex;\n",
              "  color: var(--sklearn-color-text);\n",
              "  box-shadow: 2pt 2pt 4pt #999;\n",
              "  /* unfitted */\n",
              "  background: var(--sklearn-color-unfitted-level-0);\n",
              "  border: .5pt solid var(--sklearn-color-unfitted-level-3);\n",
              "}\n",
              "\n",
              ".sk-estimator-doc-link.fitted span {\n",
              "  /* fitted */\n",
              "  background: var(--sklearn-color-fitted-level-0);\n",
              "  border: var(--sklearn-color-fitted-level-3);\n",
              "}\n",
              "\n",
              ".sk-estimator-doc-link:hover span {\n",
              "  display: block;\n",
              "}\n",
              "\n",
              "/* \"?\"-specific style due to the `<a>` HTML tag */\n",
              "\n",
              "#sk-container-id-6 a.estimator_doc_link {\n",
              "  float: right;\n",
              "  font-size: 1rem;\n",
              "  line-height: 1em;\n",
              "  font-family: monospace;\n",
              "  background-color: var(--sklearn-color-background);\n",
              "  border-radius: 1rem;\n",
              "  height: 1rem;\n",
              "  width: 1rem;\n",
              "  text-decoration: none;\n",
              "  /* unfitted */\n",
              "  color: var(--sklearn-color-unfitted-level-1);\n",
              "  border: var(--sklearn-color-unfitted-level-1) 1pt solid;\n",
              "}\n",
              "\n",
              "#sk-container-id-6 a.estimator_doc_link.fitted {\n",
              "  /* fitted */\n",
              "  border: var(--sklearn-color-fitted-level-1) 1pt solid;\n",
              "  color: var(--sklearn-color-fitted-level-1);\n",
              "}\n",
              "\n",
              "/* On hover */\n",
              "#sk-container-id-6 a.estimator_doc_link:hover {\n",
              "  /* unfitted */\n",
              "  background-color: var(--sklearn-color-unfitted-level-3);\n",
              "  color: var(--sklearn-color-background);\n",
              "  text-decoration: none;\n",
              "}\n",
              "\n",
              "#sk-container-id-6 a.estimator_doc_link.fitted:hover {\n",
              "  /* fitted */\n",
              "  background-color: var(--sklearn-color-fitted-level-3);\n",
              "}\n",
              "</style><div id=\"sk-container-id-6\" class=\"sk-top-container\"><div class=\"sk-text-repr-fallback\"><pre>SVC(C=5, gamma=0.1)</pre><b>In a Jupyter environment, please rerun this cell to show the HTML representation or trust the notebook. <br />On GitHub, the HTML representation is unable to render, please try loading this page with nbviewer.org.</b></div><div class=\"sk-container\" hidden><div class=\"sk-item\"><div class=\"sk-estimator fitted sk-toggleable\"><input class=\"sk-toggleable__control sk-hidden--visually\" id=\"sk-estimator-id-6\" type=\"checkbox\" checked><label for=\"sk-estimator-id-6\" class=\"sk-toggleable__label fitted sk-toggleable__label-arrow fitted\">&nbsp;&nbsp;SVC<a class=\"sk-estimator-doc-link fitted\" rel=\"noreferrer\" target=\"_blank\" href=\"https://scikit-learn.org/1.5/modules/generated/sklearn.svm.SVC.html\">?<span>Documentation for SVC</span></a><span class=\"sk-estimator-doc-link fitted\">i<span>Fitted</span></span></label><div class=\"sk-toggleable__content fitted\"><pre>SVC(C=5, gamma=0.1)</pre></div> </div></div></div></div>"
            ]
          },
          "metadata": {},
          "execution_count": 181
        }
      ],
      "source": [
        "# Chosen Model\n",
        "model = SVC(C = 5, gamma = 0.1, kernel = 'rbf')\n",
        "model.fit(X_train_transformed, y_train)"
      ]
    },
    {
      "cell_type": "code",
      "execution_count": null,
      "metadata": {
        "id": "Wg31bmSbTnW-",
        "outputId": "2c49bd25-381a-4d54-d0e7-49f3f35326c9"
      },
      "outputs": [
        {
          "name": "stdout",
          "output_type": "stream",
          "text": [
            "[0.97025    0.9685     0.96775    0.972125   0.96812102]\n",
            "0.9693492030253783\n",
            "0.0016311667997165895\n"
          ]
        }
      ],
      "source": [
        "# Cross Validation\n",
        "X_transformed = vectorizer.transform(X)\n",
        "cv_scores = cross_val_score(model, X_transformed, y, cv=5)\n",
        "print(cv_scores)\n",
        "print(cv_scores.mean())\n",
        "print(cv_scores.std())"
      ]
    },
    {
      "cell_type": "markdown",
      "metadata": {
        "id": "eSoE2vuWTTDH"
      },
      "source": [
        "## Model Testing"
      ]
    },
    {
      "cell_type": "code",
      "execution_count": 182,
      "metadata": {
        "colab": {
          "base_uri": "https://localhost:8080/"
        },
        "id": "pVE7g-RzUEK2",
        "outputId": "ba6d1ae9-b957-4df7-bcf7-822e92bc95ed"
      },
      "outputs": [
        {
          "output_type": "stream",
          "name": "stdout",
          "text": [
            "\n",
            "Final Test Accuracy of Best Model: 0.9714\n"
          ]
        }
      ],
      "source": [
        "y_pred = model.predict(X_test_transformed)\n",
        "final_test_acc = accuracy_score(y_test, y_pred)\n",
        "print(f\"\\nFinal Test Accuracy of Best Model: {final_test_acc:.4f}\")"
      ]
    },
    {
      "cell_type": "code",
      "execution_count": 183,
      "metadata": {
        "colab": {
          "base_uri": "https://localhost:8080/"
        },
        "id": "dRXMZ8ik2OVY",
        "outputId": "c72fbeff-7567-47b4-beeb-7557c1c2b4e0"
      },
      "outputs": [
        {
          "output_type": "stream",
          "name": "stdout",
          "text": [
            "              precision    recall  f1-score   support\n",
            "\n",
            "           0       0.97      0.97      0.97      3968\n",
            "           1       0.97      0.97      0.97      4032\n",
            "\n",
            "    accuracy                           0.97      8000\n",
            "   macro avg       0.97      0.97      0.97      8000\n",
            "weighted avg       0.97      0.97      0.97      8000\n",
            "\n"
          ]
        }
      ],
      "source": [
        "print(classification_report(y_test, y_pred))"
      ]
    },
    {
      "cell_type": "code",
      "execution_count": null,
      "metadata": {
        "colab": {
          "base_uri": "https://localhost:8080/",
          "height": 449
        },
        "id": "xffAcqPLpu9W",
        "outputId": "0e71b467-b673-449c-cf1f-02b393760458"
      },
      "outputs": [
        {
          "data": {
            "image/png": "[encoded data removed]",
            "text/plain": [
              "<Figure size 640x480 with 2 Axes>"
            ]
          },
          "metadata": {},
          "output_type": "display_data"
        }
      ],
      "source": [
        "cm = confusion_matrix(y_test, y_pred)\n",
        "\n",
        "disp = ConfusionMatrixDisplay(confusion_matrix=cm, display_labels=model.classes_)\n",
        "disp.plot()\n",
        "plt.show()"
      ]
    },
    {
      "cell_type": "code",
      "execution_count": 191,
      "metadata": {
        "id": "uXhpbs4j18QV"
      },
      "outputs": [],
      "source": [
        "'''input_texts = ['This shit is so damn good product',\n",
        "               'Hindi niyo ako maloloko! Original to noh? Ang ganda!',\n",
        "               'Tangina good shit!', 'Tagal niya dumating pero ang solid hahaha',\n",
        "               'Ito na yon? Hindi man lang tumagal.', 'Anggggg gandaaaaaa.',\n",
        "               'Ayos gumana! natest ko na din sa OS no issues so far, will update if there will be, sana tumagal. dito na kayo bumili maayos kausap si seller tska responsive. order ako ulet SSDs naman.',\n",
        "               'Nagorder ak intel heatsink fan daw. pero hindi intel dumating. scam.',\n",
        "               'Sira yung isang pin buti nalang may available ako na pin sa luma ko ayun nalang ginamit kong pin',\n",
        "               'Good legit seller. Maayos kausap at good quality. Sobrang ganda at ma ayos ang pag ka balot sa item. Uulit ulit ako nag order dito sa shop nya .',\n",
        "               'd ako binigo ni it world , solid as usual , naka discount pa dahil sa vouchers ! good na good :D',\n",
        "               'normal lng ba to? patukin Muna pra gumana?',\n",
        "               'sakto lng..dko sure kung nbagsak kasi may dent s kanto ng unit..ewan kung si seller o si jnt',\n",
        "               'Now lang nagreview kasi gusto ko muna sya itry..so far sa ilang days na gamit ko sya di nman ako binigo..sana mas magtagal pa..legit may kasama ding extra fuse.',\n",
        "               \"good except the BIOS. It's not graphical and very basic AMI BIOS.\",\n",
        "               \"Dalawang USB port lang gumagana, mouse keyboard lang nasaksak ko, Yung apat na USB port di gumagana, sad tyaka Yung power Buti nagamit pa, pero Yung pang restart at LED, ayaw\",\n",
        "               \"Works just fine at first. Pero bigla nalng sumabog. Yikes\"\n",
        "               \"Dalawa binili ko. Yung isa pag open na pag open palang yupi. Awit eh..\",\n",
        "               \"gumagana naman. may dent yung kanto at naka angat yung likod.\",\n",
        "               \"Kung sino man nagbabasa neto, bilhin mo nato. LF kasama sa scam\"\n",
        "               ]'''\n",
        "input_texts = [\"kvpal ka ba boss?! 3200mhz inorder ko tapos 2133mhz ibibigay mo?\",\n",
        "                     \"A bit disappointed na unsealed na yung item, pero Ok na rin dahil gumana ana ang PC\",\n",
        "                     \"Tang*na mo seller na budol ako di maayus puny*ta ka\",\n",
        "                     \"pede na po hehe\", \"Sayang excited pa naman ako Gamitin kaso may damage pala.\",\n",
        "                     \"Delivered safe and working, but does not look durable. Plug cable too thin\",\n",
        "                     \"Putik damage ayaw na palitan. Kahit may unboxing video damage item kitang kita.\",\n",
        "                     \"All working. All power **Pingkot yung box hindi iningatan. All box matters\",\n",
        "                     \"Sablay mag pisowifi ka nalang kesa dito\",\n",
        "                     \"akala ko sira hindi gumana ang coinslot sinubukan ko lang ni reflash success gumana ng maayos maganda ang performance sana tumagal\"]"
      ]
    },
    {
      "cell_type": "code",
      "execution_count": 192,
      "metadata": {
        "colab": {
          "base_uri": "https://localhost:8080/"
        },
        "id": "brBWYU4EBZkp",
        "outputId": "ae88c939-ff3f-44c9-8753-c01dc434000b"
      },
      "outputs": [
        {
          "output_type": "stream",
          "name": "stdout",
          "text": [
            "Review: kvpal ka ba boss?! 3200mhz inorder ko tapos 2133mhz ibibigay mo? -> Sentiment: Bad\n",
            "Review: A bit disappointed na unsealed na yung item, pero Ok na rin dahil gumana ana ang PC -> Sentiment: Bad\n",
            "Review: Tang*na mo seller na budol ako di maayus puny*ta ka -> Sentiment: Bad\n",
            "Review: pede na po hehe -> Sentiment: Bad\n",
            "Review: Sayang excited pa naman ako Gamitin kaso may damage pala. -> Sentiment: Bad\n",
            "Review: Delivered safe and working, but does not look durable. Plug cable too thin -> Sentiment: Good\n",
            "Review: Putik damage ayaw na palitan. Kahit may unboxing video damage item kitang kita. -> Sentiment: Bad\n",
            "Review: All working. All power **Pingkot yung box hindi iningatan. All box matters -> Sentiment: Good\n",
            "Review: Sablay mag pisowifi ka nalang kesa dito -> Sentiment: Bad\n",
            "Review: akala ko sira hindi gumana ang coinslot sinubukan ko lang ni reflash success gumana ng maayos maganda ang performance sana tumagal -> Sentiment: Bad\n"
          ]
        }
      ],
      "source": [
        "for text in input_texts:\n",
        "  input_text = pd.Series(text)\n",
        "  input_text = input_text.apply(reduce_repeating_letters)\n",
        "  input_text = input_text.apply(preprocess_text)\n",
        "  input_text_transform = vectorizer.transform(input_text)\n",
        "  prediction = model.predict(input_text_transform)\n",
        "  if prediction == 0:\n",
        "    print(f\"Review: {text} -> Sentiment: Bad\")\n",
        "  else:\n",
        "    print(f\"Review: {text} -> Sentiment: Good\")"
      ]
    },
    {
      "cell_type": "code",
      "source": [],
      "metadata": {
        "id": "lb1gWz5oXD7W"
      },
      "execution_count": null,
      "outputs": []
    }
  ],
  "metadata": {
    "colab": {
      "provenance": [],
      "include_colab_link": true
    },
    "kernelspec": {
      "display_name": "ccmaclrl_project",
      "language": "python",
      "name": "python3"
    },
    "language_info": {
      "codemirror_mode": {
        "name": "ipython",
        "version": 3
      },
      "file_extension": ".py",
      "mimetype": "text/x-python",
      "name": "python",
      "nbconvert_exporter": "python",
      "pygments_lexer": "ipython3",
      "version": "3.12.7"
    }
  },
  "nbformat": 4,
  "nbformat_minor": 0
}